{
 "cells": [
  {
   "cell_type": "markdown",
   "metadata": {
    "slideshow": {
     "slide_type": "slide"
    }
   },
   "source": [
    "# Loan Completion Analysis\n",
    "## by Jeff Mitchell"
   ]
  },
  {
   "cell_type": "markdown",
   "metadata": {
    "slideshow": {
     "slide_type": "slide"
    }
   },
   "source": [
    "## Investigation Overview\n",
    "\n",
    "The purpose of this analysis is to see what factors impact on the likelihood of a loan being completed. The main focus was on Loan completion and specific factors of the member and the loan that influenced loan completion.\n",
    "\n",
    "## Dataset Overview\n",
    "\n",
    "The dataset contains information on nearly 114,000 loans from Prosper. Only loans that had been conclcuded (Paid off succesfully or failed to be paid off) were used for the analysis, which reduced the sample number to 55076. There were loans that were missing values that could not be corrected which resulted in a further 591 loans being removed.\n",
    "\n",
    "Attributes of interest included Loan completion status, BorrowerAPR, Debt-to-income ratio, Term, Loan Origination Quarter, Monthly Loan Payments and Employment status. There were 81 data points per loan, many of which were not relevant for this analysis. This number was reduced to 16 for the intial analysis."
   ]
  },
  {
   "cell_type": "code",
   "execution_count": 1,
   "metadata": {
    "slideshow": {
     "slide_type": "skip"
    }
   },
   "outputs": [],
   "source": [
    "# import all packages and set plots to be embedded inline\n",
    "import numpy as np\n",
    "import pandas as pd\n",
    "import matplotlib.pyplot as plt\n",
    "import seaborn as sb\n",
    "\n",
    "%matplotlib inline\n",
    "\n",
    "# suppress warnings from final output\n",
    "import warnings\n",
    "warnings.simplefilter(\"ignore\")"
   ]
  },
  {
   "cell_type": "code",
   "execution_count": 2,
   "metadata": {
    "slideshow": {
     "slide_type": "skip"
    }
   },
   "outputs": [],
   "source": [
    "# load in the dataset into a pandas dataframe\n",
    "loans = pd.read_csv('prosperLoanData.csv')"
   ]
  },
  {
   "cell_type": "code",
   "execution_count": 3,
   "metadata": {
    "slideshow": {
     "slide_type": "skip"
    }
   },
   "outputs": [],
   "source": [
    "# prepare the data prior to analysis\n",
    "\n",
    "# reduce the number of columns to just those that are of interest\n",
    "columns = ['Term', 'LoanStatus', 'BorrowerAPR', 'ListingCategory (numeric)', 'EmploymentStatus', 'IsBorrowerHomeowner', \n",
    "           'CreditScoreRangeLower', 'CreditScoreRangeUpper', 'DebtToIncomeRatio', 'StatedMonthlyIncome', 'LoanNumber',\n",
    "           'LoanOriginalAmount', 'LoanOriginationQuarter', 'MemberKey', 'MonthlyLoanPayment']\n",
    "loans = loans[columns]\n",
    "\n",
    "# rename columns\n",
    "loans = loans.rename(columns={'ListingCategory (numeric)':'ListingCategory','IsBorrowerHomeowner':'HomeOwner',})\n",
    "\n",
    "# remove loans that have not reached an outcome\n",
    "loans = loans[loans['LoanStatus'].isin(['Completed', 'Chargedoff', 'Defaulted', 'Cancelled'])]\n",
    "\n",
    "# drop rows duplicated on LoanNumber\n",
    "loans.drop_duplicates('LoanNumber', inplace=True)"
   ]
  },
  {
   "cell_type": "code",
   "execution_count": 4,
   "metadata": {
    "slideshow": {
     "slide_type": "skip"
    }
   },
   "outputs": [],
   "source": [
    "# create LoanCompleted column\n",
    "\n",
    "# Function to return loan completion status\n",
    "def getLoanCompleted(loan_status):\n",
    "    \"\"\"Return 'Completed' if loan completed, 'Not completed' otherwise.\"\"\"\n",
    "    if loan_status.strip() == 'Completed':\n",
    "        return 'Completed'\n",
    "    else:\n",
    "        return 'Not completed'\n",
    "    \n",
    "# Create column to hold status of loan outcome\n",
    "loans['LoanCompleted'] = loans['LoanStatus'].apply(getLoanCompleted)\n",
    "loans['LoanCompleted'] = loans['LoanCompleted'].astype('category')\n",
    "\n",
    "# Drop LoanStatus column\n",
    "loans.drop('LoanStatus', axis=1, inplace=True)"
   ]
  },
  {
   "cell_type": "code",
   "execution_count": 5,
   "metadata": {
    "slideshow": {
     "slide_type": "skip"
    }
   },
   "outputs": [],
   "source": [
    "# convert column types\n",
    "\n",
    "# Convert LoanNumber to a string as I will not perform calcluations on it\n",
    "loans['LoanNumber'] = loans['LoanNumber'].astype('str')\n",
    "\n",
    "# Convert the ListingCategory column to readable values\n",
    "def convert_listing_category(cat):\n",
    "    \"\"\"Convert the listing category to a human-readable string.\"\"\"\n",
    "    categories = ['Not Available', 'Debt Consolidation', 'Home Improvement', 'Business', 'Personal Loan', 'Student Use',\n",
    "                 'Auto', 'Other', 'Baby and Adoption', 'Boat', 'Cosmetic Procedure', 'Engagement Ring', 'Green Loans',\n",
    "                 'Household Expenses', 'Large Purchases', 'Medical and Dental', 'Motorcycle', 'RV', 'Taxes', 'Vacation',\n",
    "                 'Wedding']\n",
    "    return categories[cat]\n",
    "\n",
    "loans['ListingCategory'] = loans['ListingCategory'].apply(convert_listing_category)\n",
    "\n",
    "# Convert ListingCategory to categorical types\n",
    "loans['ListingCategory'] = loans['ListingCategory'].astype('category')\n",
    "\n",
    "# Convert null EmploymentStatus to 'Not available'\n",
    "loans['EmploymentStatus'] = loans['EmploymentStatus'].fillna('Not available')\n",
    "\n",
    "# Convert 'Employed' to 'Full-time'\n",
    "mask = loans['EmploymentStatus'] == 'Employed'\n",
    "column_name = 'EmploymentStatus'\n",
    "loans.loc[mask, column_name] = 'Full-time'\n",
    "\n",
    "# Convert EmploymentStatus to categorical type\n",
    "loans['EmploymentStatus'] = loans['EmploymentStatus'].astype('category')\n",
    "\n",
    "# Convert LoanOriginationQuarter to categorical type\n",
    "loans['LoanOriginationQuarter'] = loans['LoanOriginationQuarter'].astype('category')\n",
    "\n",
    "# Convert Term to categorical type\n",
    "loans['Term'] = loans['Term'].astype('category')\n",
    "\n",
    "# Function to calculate mean of lower and upper credit ratings\n",
    "def get_rating(lower, upper):\n",
    "    \"Calculate mean of lower and upper credit ratings.\"\n",
    "    mean = (lower + upper) / 2\n",
    "    return mean\n",
    "\n",
    "# Add CreditScore column and populate\n",
    "loans['CreditScore'] = loans.apply(lambda x: get_rating(x['CreditScoreRangeLower'], x['CreditScoreRangeUpper']), axis=1)\n",
    "\n",
    "# Drop unneeded Credit Range columns\n",
    "loans.drop(['CreditScoreRangeLower','CreditScoreRangeUpper'], axis=1, inplace=True)\n",
    "\n",
    "# Fill missing BorrowerAPR values with the mean for the column\n",
    "mean_apr = loans.BorrowerAPR.mean()\n",
    "loans['BorrowerAPR'] = loans.BorrowerAPR.fillna(mean_apr)\n",
    "\n",
    "# Drop rows missing credit values\n",
    "loans = loans[loans['CreditScore'].isnull() == False]"
   ]
  },
  {
   "cell_type": "markdown",
   "metadata": {
    "slideshow": {
     "slide_type": "slide"
    }
   },
   "source": [
    "## Overall Completion Rate\n",
    "\n",
    "For this analysis loans that were no longer current were included in the analysis subset. This included loans that had been paid off ('Completed') and those that were not paid off ('Not completed'). Overall the completion rate was 69%."
   ]
  },
  {
   "cell_type": "code",
   "execution_count": 6,
   "metadata": {
    "slideshow": {
     "slide_type": "subslide"
    }
   },
   "outputs": [
    {
     "data": {
      "image/png": "[encoded data removed]",
      "text/plain": [
       "<Figure size 576x360 with 1 Axes>"
      ]
     },
     "metadata": {
      "needs_background": "light"
     },
     "output_type": "display_data"
    }
   ],
   "source": [
    "# Plot LoanCompleted column as %\n",
    "base_color = sb.color_palette()[0]\n",
    "n_points = loans.shape[0]\n",
    "max_count = loans['LoanCompleted'].value_counts().max()\n",
    "max_prop = max_count / n_points\n",
    "tick_props = np.arange(0, max_prop, 0.05)\n",
    "tick_names = ['{:0.2f}'.format(v) for v in tick_props]\n",
    "\n",
    "plt.figure(figsize=[8, 5])\n",
    "sb.countplot(data = loans, x = 'LoanCompleted', color = base_color)\n",
    "plt.yticks(tick_props * n_points, tick_names)\n",
    "plt.ylabel('Proportion of non-current loans')\n",
    "plt.xlabel('Loan Completion Status')\n",
    "plt.title('Completion status of non-current loans')\n",
    "plt.show();"
   ]
  },
  {
   "cell_type": "markdown",
   "metadata": {
    "collapsed": true,
    "slideshow": {
     "slide_type": "slide"
    }
   },
   "source": [
    "## Number of Loans by Term\n",
    "\n",
    "Most of the loans were for a 36-month term (90% of loans). A much smaller amount were for a 60-month term (7%) and the smallest category was the 12-month term loans (3%)."
   ]
  },
  {
   "cell_type": "code",
   "execution_count": 7,
   "metadata": {
    "slideshow": {
     "slide_type": "subslide"
    }
   },
   "outputs": [
    {
     "data": {
      "image/png": "[encoded data removed]",
      "text/plain": [
       "<Figure size 576x360 with 1 Axes>"
      ]
     },
     "metadata": {
      "needs_background": "light"
     },
     "output_type": "display_data"
    }
   ],
   "source": [
    "plt.figure(figsize=[8, 5])\n",
    "sb.countplot(data = loans, x = 'Term', color = base_color)\n",
    "plt.xlabel('Term')\n",
    "plt.ylabel('Number of loans')\n",
    "plt.title('Number of loans by Loan Term')\n",
    "plt.show();"
   ]
  },
  {
   "cell_type": "markdown",
   "metadata": {
    "slideshow": {
     "slide_type": "slide"
    }
   },
   "source": [
    "## Monthly Loan Payments\n",
    "\n",
    "After a log transformation the Monthly Loan Payments showed a normal distribution. The mean was \\\\$224 and 75\\% were below \\\\$301. "
   ]
  },
  {
   "cell_type": "code",
   "execution_count": 8,
   "metadata": {
    "slideshow": {
     "slide_type": "subslide"
    }
   },
   "outputs": [
    {
     "data": {
      "image/png": "[encoded data removed]",
      "text/plain": [
       "<Figure size 576x360 with 1 Axes>"
      ]
     },
     "metadata": {
      "needs_background": "light"
     },
     "output_type": "display_data"
    }
   ],
   "source": [
    "log_binsize = 0.15\n",
    "bins = 10 ** np.arange(1, np.log10(loans['MonthlyLoanPayment'].max())+log_binsize, log_binsize)\n",
    "\n",
    "plt.figure(figsize=[8, 5])\n",
    "plt.hist(data = loans, x = 'MonthlyLoanPayment', bins = bins)\n",
    "plt.xscale('log')\n",
    "plt.xticks([50, 100, 200, 500, 1000, 2000], [50, 100, 200, 500, '1k', '2k'])\n",
    "plt.xlabel('Monthly Loan Payment ($)')\n",
    "plt.ylabel('Number of loans')\n",
    "plt.title('Distribution of Monthly Loan Payment amounts (log scale)')\n",
    "\n",
    "plt.show()"
   ]
  },
  {
   "cell_type": "markdown",
   "metadata": {
    "slideshow": {
     "slide_type": "slide"
    }
   },
   "source": [
    "## Debt-to-income Ratios\n",
    "\n",
    "The mean Debt-to-income ratio was 0.29 and 75% were below 0.3. There was a right skew to the data due to some outliers at a ratio of 10."
   ]
  },
  {
   "cell_type": "code",
   "execution_count": 9,
   "metadata": {
    "slideshow": {
     "slide_type": "skip"
    }
   },
   "outputs": [],
   "source": [
    "# remove outliers before plotting debt-to-income graph\n",
    "outliers = loans['DebtToIncomeRatio'] > 9.5\n",
    "without_outliers = loans.loc[-outliers,:]"
   ]
  },
  {
   "cell_type": "code",
   "execution_count": 10,
   "metadata": {
    "slideshow": {
     "slide_type": "subslide"
    }
   },
   "outputs": [
    {
     "data": {
      "image/png": "[encoded data removed]",
      "text/plain": [
       "<Figure size 576x360 with 1 Axes>"
      ]
     },
     "metadata": {
      "needs_background": "light"
     },
     "output_type": "display_data"
    }
   ],
   "source": [
    "binsize = 0.02\n",
    "bins = np.arange(0, without_outliers['DebtToIncomeRatio'].max()+binsize, binsize)\n",
    "\n",
    "plt.figure(figsize=[8, 5])\n",
    "plt.hist(data = without_outliers, x = 'DebtToIncomeRatio', bins = bins)\n",
    "plt.xlabel('Debt to Income Ratio')\n",
    "plt.ylabel('Number of loans')\n",
    "plt.title('Distribution of Debt to Income Ratios')\n",
    "plt.xlim(0,0.75)\n",
    "plt.show()"
   ]
  },
  {
   "cell_type": "markdown",
   "metadata": {
    "slideshow": {
     "slide_type": "slide"
    }
   },
   "source": [
    "An analysis of the impact of each of these features on loan completion shows that the dominant level in a feature generally has a loan completion rate close to the mean. For instance, most loans are of a 36-month term and the loan completion rate for these loans is near the 69% average. Where we see some interesting results are with the outliers and levels of features above and below those that are the highest represented. Here we can see where each of these features can have a positive or negative impact on the completion of a loan."
   ]
  },
  {
   "cell_type": "markdown",
   "metadata": {
    "slideshow": {
     "slide_type": "slide"
    }
   },
   "source": [
    "## Loan Completion by Term\n",
    "\n",
    "The vast majority of loans were for a term of 36-months and therefore the proportion of these loans that were successfully completed was close to the sample mean (69% completed versus 70% for the sample mean). The 60-month loans were slightly worse with a 66% completion rate. 12-month loans were the stand out with a completion rate of 95%. The number of 12-month loans in the data was small but this suggests that a shorter loan term increases the chance of a loan being paid off."
   ]
  },
  {
   "cell_type": "code",
   "execution_count": 31,
   "metadata": {
    "slideshow": {
     "slide_type": "subslide"
    }
   },
   "outputs": [
    {
     "data": {
      "text/plain": [
       "<Figure size 576x360 with 0 Axes>"
      ]
     },
     "metadata": {},
     "output_type": "display_data"
    },
    {
     "data": {
      "image/png": "[encoded data removed]",
      "text/plain": [
       "<Figure size 432x288 with 1 Axes>"
      ]
     },
     "metadata": {
      "needs_background": "light"
     },
     "output_type": "display_data"
    }
   ],
   "source": [
    "term_props = loans.groupby('Term')['LoanCompleted'].value_counts(normalize=True).unstack()\n",
    "\n",
    "plt.figure(figsize=[8, 5])\n",
    "term_props.plot(kind='bar', stacked='True', title='Loan completion proportions by Term', rot=0).legend(\n",
    "    bbox_to_anchor=(1, 1))\n",
    "plt.ylabel('Proportion of loans');"
   ]
  },
  {
   "cell_type": "markdown",
   "metadata": {
    "slideshow": {
     "slide_type": "slide"
    }
   },
   "source": [
    "## Loan Completion by Debt-to-income Ratio\n",
    "\n",
    "Loan completion rates were fairly steady up to a debt-to-income ratio of 0.3, which was around 75% of the loans. Above this ratio the loan completion rate began to fall. it bottomed out at 0.7 but after that it never reaches the same level of loan completion as seen at a ratio of 0.3. Higher debt-to-income ratios appear to lower the chance of completing a loan."
   ]
  },
  {
   "cell_type": "code",
   "execution_count": 32,
   "metadata": {
    "slideshow": {
     "slide_type": "skip"
    }
   },
   "outputs": [],
   "source": [
    "# Function to place Debt-To-Income-Ratio into bins\n",
    "def get_ratio(debt_to_income):\n",
    "    \"\"\"Get bin for debt-to-income ratio.\"\"\"\n",
    "    if debt_to_income < 0.05:\n",
    "        return 0.05\n",
    "    elif debt_to_income < 0.1:\n",
    "        return 0.1\n",
    "    elif debt_to_income < 0.15:\n",
    "        return 0.15\n",
    "    elif debt_to_income < 0.2:\n",
    "        return 0.2\n",
    "    elif debt_to_income < 0.25:\n",
    "        return 0.25\n",
    "    elif debt_to_income < 0.3:\n",
    "        return 0.3\n",
    "    elif debt_to_income < 0.4:\n",
    "        return 0.4\n",
    "    elif debt_to_income < 0.5:\n",
    "        return 0.5\n",
    "    elif debt_to_income < 0.6:\n",
    "        return 0.6\n",
    "    elif debt_to_income < 0.7:\n",
    "        return 0.7\n",
    "    elif debt_to_income < 0.8:\n",
    "        return 0.8\n",
    "    elif debt_to_income <0.9:\n",
    "        return 0.9\n",
    "    elif debt_to_income < 1:\n",
    "        return 1\n",
    "    elif debt_to_income < 3:\n",
    "        return 3\n",
    "    elif debt_to_income < 6:\n",
    "        return 6\n",
    "    else:\n",
    "        return 10\n",
    "    \n",
    "# Create a column placing Debt-to-income-ratio into a bin\n",
    "loans['DebtRatioBin'] = loans.DebtToIncomeRatio.apply(get_ratio)"
   ]
  },
  {
   "cell_type": "code",
   "execution_count": 33,
   "metadata": {
    "slideshow": {
     "slide_type": "subslide"
    }
   },
   "outputs": [
    {
     "data": {
      "image/png": "[encoded data removed]",
      "text/plain": [
       "<Figure size 432x288 with 1 Axes>"
      ]
     },
     "metadata": {
      "needs_background": "light"
     },
     "output_type": "display_data"
    }
   ],
   "source": [
    "debt_props = loans.groupby('DebtRatioBin')['LoanCompleted'].value_counts(normalize=True).unstack()\n",
    "debt_props.plot(kind='bar', stacked='True', title='Loan completion proportions by Debt-to-income Ratio').legend(\n",
    "    bbox_to_anchor=(1, 1));"
   ]
  },
  {
   "cell_type": "markdown",
   "metadata": {
    "slideshow": {
     "slide_type": "slide"
    }
   },
   "source": [
    "## Loan Completion by Monthly Loan Payment\n",
    "\n",
    "The variation in loan completion rate across Monthly Loan Payment amounts was less pronounced. The highest completion rate was at the highest level of monthly payments, however, there were not many loans in these bins. Monthly payments between $750 and $1000 showed the lowest completion rates. Between $50 and $750 there was not a lot of fluctuation either side of the overall mean of 69% and so Monthly Loan Payment value appears to have a smaller impact on loan completion than either loan term or debt-to-income ratio."
   ]
  },
  {
   "cell_type": "code",
   "execution_count": 34,
   "metadata": {
    "slideshow": {
     "slide_type": "skip"
    }
   },
   "outputs": [],
   "source": [
    "# Function to place Monthly Loan Payments into bins\n",
    "def get_monthly_bin(monthly_payment):\n",
    "    \"\"\"Get bin for Monthly Loan Payment.\"\"\"\n",
    "    if monthly_payment == 0:\n",
    "        return 0\n",
    "    elif monthly_payment < 50:\n",
    "        return 50\n",
    "    elif monthly_payment < 100:\n",
    "        return 100\n",
    "    elif monthly_payment < 150:\n",
    "        return 150\n",
    "    elif monthly_payment < 200:\n",
    "        return 200\n",
    "    elif monthly_payment < 250:\n",
    "        return 250\n",
    "    elif monthly_payment < 300:\n",
    "        return 300\n",
    "    elif monthly_payment < 350:\n",
    "        return 350\n",
    "    elif monthly_payment < 400:\n",
    "        return 400\n",
    "    elif monthly_payment < 450:\n",
    "        return 450\n",
    "    elif monthly_payment < 500:\n",
    "        return 500\n",
    "    elif monthly_payment < 550:\n",
    "        return 550\n",
    "    elif monthly_payment < 600:\n",
    "        return 600\n",
    "    elif monthly_payment < 750:\n",
    "        return 750\n",
    "    elif monthly_payment < 1000:\n",
    "        return 1000\n",
    "    elif monthly_payment < 1500:\n",
    "        return 1500\n",
    "    elif monthly_payment < 2000:\n",
    "        return 2000\n",
    "    else:\n",
    "        return 2500\n",
    "    \n",
    "# Create a column placing Debt-to-income-ratio into a bin\n",
    "loans['MonthlyPaymentBin'] = loans.MonthlyLoanPayment.apply(get_monthly_bin)"
   ]
  },
  {
   "cell_type": "code",
   "execution_count": 39,
   "metadata": {
    "slideshow": {
     "slide_type": "subslide"
    }
   },
   "outputs": [
    {
     "data": {
      "image/png": "[encoded data removed]",
      "text/plain": [
       "<Figure size 432x288 with 1 Axes>"
      ]
     },
     "metadata": {
      "needs_background": "light"
     },
     "output_type": "display_data"
    }
   ],
   "source": [
    "# Compare Loan Outcome Status and Debt Consolidation\n",
    "monthly_props = loans.groupby('MonthlyPaymentBin')['LoanCompleted'].value_counts(normalize=True).unstack()\n",
    "monthly_props.plot(kind='bar', stacked='True', title='Loan completion proportions by Monthly Loan Payments', rot=45).legend(\n",
    "    bbox_to_anchor=(1, 1))\n",
    "plt.ylabel('Proportion of loans completed')\n",
    "plt.xlabel('Monthly Loan Payment ($)');"
   ]
  },
  {
   "cell_type": "code",
   "execution_count": null,
   "metadata": {},
   "outputs": [],
   "source": []
  },
  {
   "cell_type": "markdown",
   "metadata": {
    "slideshow": {
     "slide_type": "notes"
    }
   },
   "source": [
    "> Once you're ready to finish your presentation, check your output by using\n",
    "nbconvert to export the notebook and set up a server for the slides. From the\n",
    "terminal or command line, use the following expression:\n",
    "> > `jupyter nbconvert <file_name>.ipynb --to slides --post serve --template output_toggle`\n",
    "\n",
    "> This should open a tab in your web browser where you can scroll through your\n",
    "presentation. Sub-slides can be accessed by pressing 'down' when viewing its parent\n",
    "slide. Make sure you remove all of the quote-formatted guide notes like this one\n",
    "before you finish your presentation!"
   ]
  },
  {
   "cell_type": "code",
   "execution_count": null,
   "metadata": {},
   "outputs": [],
   "source": []
  },
  {
   "cell_type": "code",
   "execution_count": null,
   "metadata": {},
   "outputs": [],
   "source": []
  }
 ],
 "metadata": {
  "celltoolbar": "Slideshow",
  "kernelspec": {
   "display_name": "Python 3",
   "language": "python",
   "name": "python3"
  },
  "language_info": {
   "codemirror_mode": {
    "name": "ipython",
    "version": 3
   },
   "file_extension": ".py",
   "mimetype": "text/x-python",
   "name": "python",
   "nbconvert_exporter": "python",
   "pygments_lexer": "ipython3",
   "version": "3.7.3"
  }
 },
 "nbformat": 4,
 "nbformat_minor": 2
}
