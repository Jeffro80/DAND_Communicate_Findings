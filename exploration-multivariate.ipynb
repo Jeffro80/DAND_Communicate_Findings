{
 "cells": [
  {
   "cell_type": "markdown",
   "metadata": {},
   "source": [
    "# Loan Data from Prosper Exploration\n",
    "## by Jeff Mitchell\n",
    "\n",
    "## Preliminary Wrangling\n",
    "\n",
    "This dataset contains information on nearly 114,000 loans from Prosper. The dataset contains a lot of features and will require some wrangling before I can start analysing it."
   ]
  },
  {
   "cell_type": "code",
   "execution_count": 1,
   "metadata": {},
   "outputs": [],
   "source": [
    "# import all packages and set plots to be embedded inline\n",
    "import numpy as np\n",
    "import pandas as pd\n",
    "import matplotlib.pyplot as plt\n",
    "import seaborn as sb\n",
    "\n",
    "%matplotlib inline"
   ]
  },
  {
   "cell_type": "code",
   "execution_count": 2,
   "metadata": {},
   "outputs": [],
   "source": [
    "loans = pd.read_csv('prosperLoanData.csv')"
   ]
  },
  {
   "cell_type": "code",
   "execution_count": 3,
   "metadata": {},
   "outputs": [
    {
     "name": "stdout",
     "output_type": "stream",
     "text": [
      "(113937, 81)\n",
      "ListingKey                              object\n",
      "ListingNumber                            int64\n",
      "ListingCreationDate                     object\n",
      "CreditGrade                             object\n",
      "Term                                     int64\n",
      "LoanStatus                              object\n",
      "ClosedDate                              object\n",
      "BorrowerAPR                            float64\n",
      "BorrowerRate                           float64\n",
      "LenderYield                            float64\n",
      "EstimatedEffectiveYield                float64\n",
      "EstimatedLoss                          float64\n",
      "EstimatedReturn                        float64\n",
      "ProsperRating (numeric)                float64\n",
      "ProsperRating (Alpha)                   object\n",
      "ProsperScore                           float64\n",
      "ListingCategory (numeric)                int64\n",
      "BorrowerState                           object\n",
      "Occupation                              object\n",
      "EmploymentStatus                        object\n",
      "EmploymentStatusDuration               float64\n",
      "IsBorrowerHomeowner                       bool\n",
      "CurrentlyInGroup                          bool\n",
      "GroupKey                                object\n",
      "DateCreditPulled                        object\n",
      "CreditScoreRangeLower                  float64\n",
      "CreditScoreRangeUpper                  float64\n",
      "FirstRecordedCreditLine                 object\n",
      "CurrentCreditLines                     float64\n",
      "OpenCreditLines                        float64\n",
      "                                        ...   \n",
      "TotalProsperLoans                      float64\n",
      "TotalProsperPaymentsBilled             float64\n",
      "OnTimeProsperPayments                  float64\n",
      "ProsperPaymentsLessThanOneMonthLate    float64\n",
      "ProsperPaymentsOneMonthPlusLate        float64\n",
      "ProsperPrincipalBorrowed               float64\n",
      "ProsperPrincipalOutstanding            float64\n",
      "ScorexChangeAtTimeOfListing            float64\n",
      "LoanCurrentDaysDelinquent                int64\n",
      "LoanFirstDefaultedCycleNumber          float64\n",
      "LoanMonthsSinceOrigination               int64\n",
      "LoanNumber                               int64\n",
      "LoanOriginalAmount                       int64\n",
      "LoanOriginationDate                     object\n",
      "LoanOriginationQuarter                  object\n",
      "MemberKey                               object\n",
      "MonthlyLoanPayment                     float64\n",
      "LP_CustomerPayments                    float64\n",
      "LP_CustomerPrincipalPayments           float64\n",
      "LP_InterestandFees                     float64\n",
      "LP_ServiceFees                         float64\n",
      "LP_CollectionFees                      float64\n",
      "LP_GrossPrincipalLoss                  float64\n",
      "LP_NetPrincipalLoss                    float64\n",
      "LP_NonPrincipalRecoverypayments        float64\n",
      "PercentFunded                          float64\n",
      "Recommendations                          int64\n",
      "InvestmentFromFriendsCount               int64\n",
      "InvestmentFromFriendsAmount            float64\n",
      "Investors                                int64\n",
      "Length: 81, dtype: object\n"
     ]
    }
   ],
   "source": [
    "# high-level overview of data shape and composition\n",
    "print(loans.shape)\n",
    "print(loans.dtypes)"
   ]
  },
  {
   "cell_type": "markdown",
   "metadata": {},
   "source": [
    "### What is the structure of your dataset?\n",
    "\n",
    "There are 113,937 loans with 81 features for each loan. This is a lot of features and some are only relevant to certain periods of time (e.g. pre-2009, post-July 2009). These features include details such as Term, Loan status, Borrower rate, various scores and ratings, demographic features such as Occupation, Employment status, Home ownership, various credit scores and totals, income range and details specific to the loan.\n",
    "\n",
    "Each loan can be identified by its unique LoanNumber. There are other unique columns such as ListingNumber, ListingKey etc., however, each of these can be related back to the LoanNumber.\n",
    "\n",
    "### What is/are the main feature(s) of interest in your dataset?\n",
    "\n",
    "I am most interested in finding out what features have the greatest impact on Loan Outcome Status, specifically on whether or not the loan is paid off.\n",
    "\n",
    "### What features in the dataset do you think will help support your investigation into your feature(s) of interest?\n",
    "\n",
    "Features of interest in investigating Loan Outcome Status include the reason for the loan (ListingCategory), their employment status (EmploymentStatus), their credit scores, their monthly income, the amount of the loan (LoanOriginalAmount) and level of monthly payments (MonthlyLoanPayment). Other features that may also be worth investigating include the number of delinquincies, their debt-to-income ratio (DebtToIncomeRatio) and their home ownership status. I expect that borrowers with higher debt-to-income ratios, lower monthly income and lower credit scores are less likely to complete their loan payments."
   ]
  },
  {
   "cell_type": "markdown",
   "metadata": {},
   "source": [
    "### Initial cleaning\n",
    "\n",
    "A quick visual assessment of the raw the data file using Excel shows that the data requires some initial cleaning before I can start analysing it. This will involve dropping unnecessary columns, cleaning column types and creating new columns to help with the analysis.\n",
    "\n",
    "The large number of columns in the data will make analysis difficult. I will start by reducing the dataframe to only the columns that are of interest to me for investigating the Loan Outcome Status. For example, LoanNumber can be used to identify individual loans. This removes the need to hold ListingNumber, ListingKey and LoanKey which are all associated with a unique LoanNumber."
   ]
  },
  {
   "cell_type": "code",
   "execution_count": 4,
   "metadata": {},
   "outputs": [],
   "source": [
    "# Reduce the number of columns to just those that may be of interest\n",
    "columns = ['Term', 'LoanStatus', 'BorrowerAPR', 'ListingCategory (numeric)', 'EmploymentStatus', 'IsBorrowerHomeowner', \n",
    "           'CreditScoreRangeLower', 'CreditScoreRangeUpper', 'TotalCreditLinespast7years', 'DelinquenciesLast7Years', \n",
    "           'DebtToIncomeRatio', 'StatedMonthlyIncome', 'LoanNumber', 'LoanOriginalAmount', 'LoanOriginationQuarter',\n",
    "           'MemberKey', 'MonthlyLoanPayment']\n",
    "loans = loans[columns]"
   ]
  },
  {
   "cell_type": "markdown",
   "metadata": {},
   "source": [
    "Some of the column headings are confusing or difficult to work with so I will rename them."
   ]
  },
  {
   "cell_type": "code",
   "execution_count": 5,
   "metadata": {},
   "outputs": [],
   "source": [
    "loans = loans.rename(columns={'ListingCategory (numeric)':'ListingCategory','IsBorrowerHomeowner':'HomeOwner',\n",
    "                              'TotalCreditLinespast7years':'TotalCreditLines',\n",
    "                              'DelinquenciesLast7Years':'TotalDelinquencies'})"
   ]
  },
  {
   "cell_type": "markdown",
   "metadata": {},
   "source": [
    "I am interested in the effect of the features on Loan Outcome Status. Loans that have not yet reached an outcome need to be removed as I do not know what their final outcome will be (I cannot identify what effect their features have on Loan Outcome Status as their status is not yet known). First I will check the values in the LoanStatus column."
   ]
  },
  {
   "cell_type": "code",
   "execution_count": 6,
   "metadata": {},
   "outputs": [
    {
     "data": {
      "text/plain": [
       "Current                   56576\n",
       "Completed                 38074\n",
       "Chargedoff                11992\n",
       "Defaulted                  5018\n",
       "Past Due (1-15 days)        806\n",
       "Past Due (31-60 days)       363\n",
       "Past Due (61-90 days)       313\n",
       "Past Due (91-120 days)      304\n",
       "Past Due (16-30 days)       265\n",
       "FinalPaymentInProgress      205\n",
       "Past Due (>120 days)         16\n",
       "Cancelled                     5\n",
       "Name: LoanStatus, dtype: int64"
      ]
     },
     "execution_count": 6,
     "metadata": {},
     "output_type": "execute_result"
    }
   ],
   "source": [
    "loans.LoanStatus.value_counts()"
   ]
  },
  {
   "cell_type": "markdown",
   "metadata": {},
   "source": [
    "For this analysis I am going to consider 'Chargedoff' and 'Defaulted' as loans that were not completed successfully. Loans that are 'Past Due...' I will consider current as they still have the potential to be completed. The loans to be removed are those listed as 'Current', 'Past Due...' and 'FinalPaymentInProgress'. "
   ]
  },
  {
   "cell_type": "code",
   "execution_count": 7,
   "metadata": {},
   "outputs": [
    {
     "data": {
      "text/plain": [
       "Completed     38074\n",
       "Chargedoff    11992\n",
       "Defaulted      5018\n",
       "Cancelled         5\n",
       "Name: LoanStatus, dtype: int64"
      ]
     },
     "execution_count": 7,
     "metadata": {},
     "output_type": "execute_result"
    }
   ],
   "source": [
    "# Remove loans that have not reached an outcome\n",
    "loans = loans[loans['LoanStatus'].isin(['Completed', 'Chargedoff', 'Defaulted', 'Cancelled'])]\n",
    "loans.LoanStatus.value_counts()"
   ]
  },
  {
   "cell_type": "markdown",
   "metadata": {},
   "source": [
    "As I will be using LoanNumber to identify unique loans, I need to make sure there are no duplicated loan records."
   ]
  },
  {
   "cell_type": "code",
   "execution_count": 8,
   "metadata": {
    "scrolled": true
   },
   "outputs": [
    {
     "data": {
      "text/html": [
       "<div>\n",
       "<style scoped>\n",
       "    .dataframe tbody tr th:only-of-type {\n",
       "        vertical-align: middle;\n",
       "    }\n",
       "\n",
       "    .dataframe tbody tr th {\n",
       "        vertical-align: top;\n",
       "    }\n",
       "\n",
       "    .dataframe thead th {\n",
       "        text-align: right;\n",
       "    }\n",
       "</style>\n",
       "<table border=\"1\" class=\"dataframe\">\n",
       "  <thead>\n",
       "    <tr style=\"text-align: right;\">\n",
       "      <th></th>\n",
       "      <th>Term</th>\n",
       "      <th>LoanStatus</th>\n",
       "      <th>BorrowerAPR</th>\n",
       "      <th>ListingCategory</th>\n",
       "      <th>EmploymentStatus</th>\n",
       "      <th>HomeOwner</th>\n",
       "      <th>CreditScoreRangeLower</th>\n",
       "      <th>CreditScoreRangeUpper</th>\n",
       "      <th>TotalCreditLines</th>\n",
       "      <th>TotalDelinquencies</th>\n",
       "      <th>DebtToIncomeRatio</th>\n",
       "      <th>StatedMonthlyIncome</th>\n",
       "      <th>LoanNumber</th>\n",
       "      <th>LoanOriginalAmount</th>\n",
       "      <th>LoanOriginationQuarter</th>\n",
       "      <th>MemberKey</th>\n",
       "      <th>MonthlyLoanPayment</th>\n",
       "    </tr>\n",
       "  </thead>\n",
       "  <tbody>\n",
       "    <tr>\n",
       "      <th>33959</th>\n",
       "      <td>60</td>\n",
       "      <td>Completed</td>\n",
       "      <td>0.28875</td>\n",
       "      <td>3</td>\n",
       "      <td>Employed</td>\n",
       "      <td>False</td>\n",
       "      <td>660.0</td>\n",
       "      <td>679.0</td>\n",
       "      <td>61.0</td>\n",
       "      <td>0.0</td>\n",
       "      <td>0.33</td>\n",
       "      <td>4506.666667</td>\n",
       "      <td>131358</td>\n",
       "      <td>5500</td>\n",
       "      <td>Q1 2014</td>\n",
       "      <td>85D535659273197054A0BB3</td>\n",
       "      <td>165.45</td>\n",
       "    </tr>\n",
       "    <tr>\n",
       "      <th>37956</th>\n",
       "      <td>36</td>\n",
       "      <td>Completed</td>\n",
       "      <td>0.22875</td>\n",
       "      <td>1</td>\n",
       "      <td>Employed</td>\n",
       "      <td>False</td>\n",
       "      <td>660.0</td>\n",
       "      <td>679.0</td>\n",
       "      <td>19.0</td>\n",
       "      <td>0.0</td>\n",
       "      <td>0.20</td>\n",
       "      <td>6083.333333</td>\n",
       "      <td>105288</td>\n",
       "      <td>20000</td>\n",
       "      <td>Q4 2013</td>\n",
       "      <td>8EC335867884136891E9E14</td>\n",
       "      <td>734.64</td>\n",
       "    </tr>\n",
       "    <tr>\n",
       "      <th>51079</th>\n",
       "      <td>36</td>\n",
       "      <td>Completed</td>\n",
       "      <td>0.23438</td>\n",
       "      <td>1</td>\n",
       "      <td>Employed</td>\n",
       "      <td>True</td>\n",
       "      <td>660.0</td>\n",
       "      <td>679.0</td>\n",
       "      <td>43.0</td>\n",
       "      <td>0.0</td>\n",
       "      <td>0.16</td>\n",
       "      <td>14583.333333</td>\n",
       "      <td>123094</td>\n",
       "      <td>5000</td>\n",
       "      <td>Q4 2013</td>\n",
       "      <td>9FA83698836314377793393</td>\n",
       "      <td>185.05</td>\n",
       "    </tr>\n",
       "    <tr>\n",
       "      <th>60004</th>\n",
       "      <td>36</td>\n",
       "      <td>Completed</td>\n",
       "      <td>0.13799</td>\n",
       "      <td>7</td>\n",
       "      <td>Employed</td>\n",
       "      <td>True</td>\n",
       "      <td>680.0</td>\n",
       "      <td>699.0</td>\n",
       "      <td>21.0</td>\n",
       "      <td>1.0</td>\n",
       "      <td>0.23</td>\n",
       "      <td>4250.000000</td>\n",
       "      <td>110303</td>\n",
       "      <td>2000</td>\n",
       "      <td>Q4 2013</td>\n",
       "      <td>4553358888719707373CD1C</td>\n",
       "      <td>65.47</td>\n",
       "    </tr>\n",
       "    <tr>\n",
       "      <th>61289</th>\n",
       "      <td>36</td>\n",
       "      <td>Completed</td>\n",
       "      <td>0.09000</td>\n",
       "      <td>1</td>\n",
       "      <td>Self-employed</td>\n",
       "      <td>True</td>\n",
       "      <td>800.0</td>\n",
       "      <td>819.0</td>\n",
       "      <td>17.0</td>\n",
       "      <td>0.0</td>\n",
       "      <td>NaN</td>\n",
       "      <td>7500.000000</td>\n",
       "      <td>107275</td>\n",
       "      <td>3500</td>\n",
       "      <td>Q4 2013</td>\n",
       "      <td>34193560492599576667729</td>\n",
       "      <td>109.13</td>\n",
       "    </tr>\n",
       "    <tr>\n",
       "      <th>68585</th>\n",
       "      <td>36</td>\n",
       "      <td>Completed</td>\n",
       "      <td>0.18633</td>\n",
       "      <td>1</td>\n",
       "      <td>Employed</td>\n",
       "      <td>False</td>\n",
       "      <td>700.0</td>\n",
       "      <td>719.0</td>\n",
       "      <td>40.0</td>\n",
       "      <td>0.0</td>\n",
       "      <td>0.34</td>\n",
       "      <td>7500.000000</td>\n",
       "      <td>121979</td>\n",
       "      <td>15000</td>\n",
       "      <td>Q4 2013</td>\n",
       "      <td>27FA3533700778342A3BB33</td>\n",
       "      <td>519.98</td>\n",
       "    </tr>\n",
       "    <tr>\n",
       "      <th>70435</th>\n",
       "      <td>60</td>\n",
       "      <td>Completed</td>\n",
       "      <td>0.19988</td>\n",
       "      <td>1</td>\n",
       "      <td>Employed</td>\n",
       "      <td>True</td>\n",
       "      <td>720.0</td>\n",
       "      <td>739.0</td>\n",
       "      <td>26.0</td>\n",
       "      <td>0.0</td>\n",
       "      <td>0.26</td>\n",
       "      <td>4125.000000</td>\n",
       "      <td>119188</td>\n",
       "      <td>15000</td>\n",
       "      <td>Q4 2013</td>\n",
       "      <td>4FC835464074587007C7ABC</td>\n",
       "      <td>377.64</td>\n",
       "    </tr>\n",
       "    <tr>\n",
       "      <th>96475</th>\n",
       "      <td>60</td>\n",
       "      <td>Completed</td>\n",
       "      <td>0.22601</td>\n",
       "      <td>1</td>\n",
       "      <td>Employed</td>\n",
       "      <td>False</td>\n",
       "      <td>680.0</td>\n",
       "      <td>699.0</td>\n",
       "      <td>20.0</td>\n",
       "      <td>0.0</td>\n",
       "      <td>0.23</td>\n",
       "      <td>4125.000000</td>\n",
       "      <td>101908</td>\n",
       "      <td>15000</td>\n",
       "      <td>Q3 2013</td>\n",
       "      <td>7EF83383685864632D111F0</td>\n",
       "      <td>398.66</td>\n",
       "    </tr>\n",
       "    <tr>\n",
       "      <th>97137</th>\n",
       "      <td>36</td>\n",
       "      <td>Completed</td>\n",
       "      <td>0.32446</td>\n",
       "      <td>1</td>\n",
       "      <td>Employed</td>\n",
       "      <td>False</td>\n",
       "      <td>660.0</td>\n",
       "      <td>679.0</td>\n",
       "      <td>30.0</td>\n",
       "      <td>13.0</td>\n",
       "      <td>0.17</td>\n",
       "      <td>5833.333333</td>\n",
       "      <td>121751</td>\n",
       "      <td>4000</td>\n",
       "      <td>Q4 2013</td>\n",
       "      <td>4E9335537538907782E9392</td>\n",
       "      <td>166.54</td>\n",
       "    </tr>\n",
       "    <tr>\n",
       "      <th>97330</th>\n",
       "      <td>60</td>\n",
       "      <td>Completed</td>\n",
       "      <td>0.23318</td>\n",
       "      <td>1</td>\n",
       "      <td>Employed</td>\n",
       "      <td>True</td>\n",
       "      <td>680.0</td>\n",
       "      <td>699.0</td>\n",
       "      <td>26.0</td>\n",
       "      <td>0.0</td>\n",
       "      <td>0.32</td>\n",
       "      <td>4166.666667</td>\n",
       "      <td>118909</td>\n",
       "      <td>13000</td>\n",
       "      <td>Q4 2013</td>\n",
       "      <td>117636957815160767DC8DC</td>\n",
       "      <td>350.60</td>\n",
       "    </tr>\n",
       "    <tr>\n",
       "      <th>99090</th>\n",
       "      <td>36</td>\n",
       "      <td>Completed</td>\n",
       "      <td>0.09534</td>\n",
       "      <td>2</td>\n",
       "      <td>Employed</td>\n",
       "      <td>False</td>\n",
       "      <td>780.0</td>\n",
       "      <td>799.0</td>\n",
       "      <td>26.0</td>\n",
       "      <td>0.0</td>\n",
       "      <td>0.14</td>\n",
       "      <td>3750.000000</td>\n",
       "      <td>108257</td>\n",
       "      <td>10000</td>\n",
       "      <td>Q4 2013</td>\n",
       "      <td>1859369694988323456B99E</td>\n",
       "      <td>314.24</td>\n",
       "    </tr>\n",
       "    <tr>\n",
       "      <th>101171</th>\n",
       "      <td>36</td>\n",
       "      <td>Completed</td>\n",
       "      <td>0.17090</td>\n",
       "      <td>7</td>\n",
       "      <td>Employed</td>\n",
       "      <td>False</td>\n",
       "      <td>680.0</td>\n",
       "      <td>699.0</td>\n",
       "      <td>30.0</td>\n",
       "      <td>0.0</td>\n",
       "      <td>0.27</td>\n",
       "      <td>2500.000000</td>\n",
       "      <td>112174</td>\n",
       "      <td>4000</td>\n",
       "      <td>Q4 2013</td>\n",
       "      <td>E46436944820827864B5342</td>\n",
       "      <td>135.72</td>\n",
       "    </tr>\n",
       "    <tr>\n",
       "      <th>101928</th>\n",
       "      <td>36</td>\n",
       "      <td>Completed</td>\n",
       "      <td>0.23438</td>\n",
       "      <td>1</td>\n",
       "      <td>Employed</td>\n",
       "      <td>False</td>\n",
       "      <td>660.0</td>\n",
       "      <td>679.0</td>\n",
       "      <td>15.0</td>\n",
       "      <td>0.0</td>\n",
       "      <td>0.13</td>\n",
       "      <td>5333.333333</td>\n",
       "      <td>119542</td>\n",
       "      <td>4500</td>\n",
       "      <td>Q4 2013</td>\n",
       "      <td>2A3E3695252772746B63733</td>\n",
       "      <td>166.55</td>\n",
       "    </tr>\n",
       "  </tbody>\n",
       "</table>\n",
       "</div>"
      ],
      "text/plain": [
       "        Term LoanStatus  BorrowerAPR  ListingCategory EmploymentStatus  \\\n",
       "33959     60  Completed      0.28875                3         Employed   \n",
       "37956     36  Completed      0.22875                1         Employed   \n",
       "51079     36  Completed      0.23438                1         Employed   \n",
       "60004     36  Completed      0.13799                7         Employed   \n",
       "61289     36  Completed      0.09000                1    Self-employed   \n",
       "68585     36  Completed      0.18633                1         Employed   \n",
       "70435     60  Completed      0.19988                1         Employed   \n",
       "96475     60  Completed      0.22601                1         Employed   \n",
       "97137     36  Completed      0.32446                1         Employed   \n",
       "97330     60  Completed      0.23318                1         Employed   \n",
       "99090     36  Completed      0.09534                2         Employed   \n",
       "101171    36  Completed      0.17090                7         Employed   \n",
       "101928    36  Completed      0.23438                1         Employed   \n",
       "\n",
       "        HomeOwner  CreditScoreRangeLower  CreditScoreRangeUpper  \\\n",
       "33959       False                  660.0                  679.0   \n",
       "37956       False                  660.0                  679.0   \n",
       "51079        True                  660.0                  679.0   \n",
       "60004        True                  680.0                  699.0   \n",
       "61289        True                  800.0                  819.0   \n",
       "68585       False                  700.0                  719.0   \n",
       "70435        True                  720.0                  739.0   \n",
       "96475       False                  680.0                  699.0   \n",
       "97137       False                  660.0                  679.0   \n",
       "97330        True                  680.0                  699.0   \n",
       "99090       False                  780.0                  799.0   \n",
       "101171      False                  680.0                  699.0   \n",
       "101928      False                  660.0                  679.0   \n",
       "\n",
       "        TotalCreditLines  TotalDelinquencies  DebtToIncomeRatio  \\\n",
       "33959               61.0                 0.0               0.33   \n",
       "37956               19.0                 0.0               0.20   \n",
       "51079               43.0                 0.0               0.16   \n",
       "60004               21.0                 1.0               0.23   \n",
       "61289               17.0                 0.0                NaN   \n",
       "68585               40.0                 0.0               0.34   \n",
       "70435               26.0                 0.0               0.26   \n",
       "96475               20.0                 0.0               0.23   \n",
       "97137               30.0                13.0               0.17   \n",
       "97330               26.0                 0.0               0.32   \n",
       "99090               26.0                 0.0               0.14   \n",
       "101171              30.0                 0.0               0.27   \n",
       "101928              15.0                 0.0               0.13   \n",
       "\n",
       "        StatedMonthlyIncome  LoanNumber  LoanOriginalAmount  \\\n",
       "33959           4506.666667      131358                5500   \n",
       "37956           6083.333333      105288               20000   \n",
       "51079          14583.333333      123094                5000   \n",
       "60004           4250.000000      110303                2000   \n",
       "61289           7500.000000      107275                3500   \n",
       "68585           7500.000000      121979               15000   \n",
       "70435           4125.000000      119188               15000   \n",
       "96475           4125.000000      101908               15000   \n",
       "97137           5833.333333      121751                4000   \n",
       "97330           4166.666667      118909               13000   \n",
       "99090           3750.000000      108257               10000   \n",
       "101171          2500.000000      112174                4000   \n",
       "101928          5333.333333      119542                4500   \n",
       "\n",
       "       LoanOriginationQuarter                MemberKey  MonthlyLoanPayment  \n",
       "33959                 Q1 2014  85D535659273197054A0BB3              165.45  \n",
       "37956                 Q4 2013  8EC335867884136891E9E14              734.64  \n",
       "51079                 Q4 2013  9FA83698836314377793393              185.05  \n",
       "60004                 Q4 2013  4553358888719707373CD1C               65.47  \n",
       "61289                 Q4 2013  34193560492599576667729              109.13  \n",
       "68585                 Q4 2013  27FA3533700778342A3BB33              519.98  \n",
       "70435                 Q4 2013  4FC835464074587007C7ABC              377.64  \n",
       "96475                 Q3 2013  7EF83383685864632D111F0              398.66  \n",
       "97137                 Q4 2013  4E9335537538907782E9392              166.54  \n",
       "97330                 Q4 2013  117636957815160767DC8DC              350.60  \n",
       "99090                 Q4 2013  1859369694988323456B99E              314.24  \n",
       "101171                Q4 2013  E46436944820827864B5342              135.72  \n",
       "101928                Q4 2013  2A3E3695252772746B63733              166.55  "
      ]
     },
     "execution_count": 8,
     "metadata": {},
     "output_type": "execute_result"
    }
   ],
   "source": [
    "dupes = loans[loans['LoanNumber'].duplicated() == True]\n",
    "dupes"
   ]
  },
  {
   "cell_type": "markdown",
   "metadata": {},
   "source": [
    "There are 13 duplicated records in the data based on LoanNumber. A visual check of these in the raw data showed that the only difference between the duplicates was the ProsperScore, which is not being used in this analysis. For this reason I can drop the duplicate rows, keeping only the first row (the default behaviour)."
   ]
  },
  {
   "cell_type": "code",
   "execution_count": 9,
   "metadata": {},
   "outputs": [],
   "source": [
    "# Drop rows duplicated on LoanNumber\n",
    "loans.drop_duplicates('LoanNumber', inplace=True)"
   ]
  },
  {
   "cell_type": "markdown",
   "metadata": {},
   "source": [
    "I am interested in knowing the outcome of the loan - whether it was successfully paid off or not. This will be easiest by creating a new column that records the final status of the loan - LoanCompleted - which holds a string, either 'Completed' (paid off) or 'Not completed' (not paid off). This will be set to be a category type."
   ]
  },
  {
   "cell_type": "code",
   "execution_count": 10,
   "metadata": {},
   "outputs": [],
   "source": [
    "# Function to return loan completion status\n",
    "def getLoanCompleted(loan_status):\n",
    "    \"\"\"Return 'Completed' if loan completed, 'Not completed' otherwise.\"\"\"\n",
    "    if loan_status.strip() == 'Completed':\n",
    "        return 'Completed'\n",
    "    else:\n",
    "        return 'Not completed'\n",
    "    \n",
    "# Create column to hold status of loan outcome\n",
    "loans['LoanCompleted'] = loans['LoanStatus'].apply(getLoanCompleted)\n",
    "loans['LoanCompleted'] = loans['LoanCompleted'].astype('category')\n",
    "\n",
    "# Drop LoanStatus column\n",
    "loans.drop('LoanStatus', axis=1, inplace=True)"
   ]
  },
  {
   "cell_type": "code",
   "execution_count": 11,
   "metadata": {},
   "outputs": [
    {
     "name": "stdout",
     "output_type": "stream",
     "text": [
      "<class 'pandas.core.frame.DataFrame'>\n",
      "Int64Index: 55076 entries, 0 to 113935\n",
      "Data columns (total 17 columns):\n",
      "Term                      55076 non-null int64\n",
      "BorrowerAPR               55051 non-null float64\n",
      "ListingCategory           55076 non-null int64\n",
      "EmploymentStatus          52821 non-null object\n",
      "HomeOwner                 55076 non-null bool\n",
      "CreditScoreRangeLower     54485 non-null float64\n",
      "CreditScoreRangeUpper     54485 non-null float64\n",
      "TotalCreditLines          54379 non-null float64\n",
      "TotalDelinquencies        54086 non-null float64\n",
      "DebtToIncomeRatio         50847 non-null float64\n",
      "StatedMonthlyIncome       55076 non-null float64\n",
      "LoanNumber                55076 non-null int64\n",
      "LoanOriginalAmount        55076 non-null int64\n",
      "LoanOriginationQuarter    55076 non-null object\n",
      "MemberKey                 55076 non-null object\n",
      "MonthlyLoanPayment        55076 non-null float64\n",
      "LoanCompleted             55076 non-null category\n",
      "dtypes: bool(1), category(1), float64(8), int64(4), object(3)\n",
      "memory usage: 6.8+ MB\n"
     ]
    }
   ],
   "source": [
    "# Examine remaining columns\n",
    "loans.info()"
   ]
  },
  {
   "cell_type": "markdown",
   "metadata": {},
   "source": [
    "Several of the columns will need some cleaning before I can perform analysis on them. Firstly I will convert the LoanNumber to a string as I am using it as a reference only."
   ]
  },
  {
   "cell_type": "code",
   "execution_count": 12,
   "metadata": {},
   "outputs": [],
   "source": [
    "# Convert LoanNumber to a string as I will not perform calcluations on it\n",
    "loans['LoanNumber'] = loans['LoanNumber'].astype('str')"
   ]
  },
  {
   "cell_type": "markdown",
   "metadata": {},
   "source": [
    "The ListingCategory column currently only has ints. These will be much easier to analyse by converting them to a string that states what the int represents and then setting the column to category type."
   ]
  },
  {
   "cell_type": "code",
   "execution_count": 13,
   "metadata": {
    "scrolled": true
   },
   "outputs": [],
   "source": [
    "# Convert the ListingCategory column to readable values\n",
    "def convert_listing_category(cat):\n",
    "    \"\"\"Convert the listing category to a human-readable string.\"\"\"\n",
    "    categories = ['Not Available', 'Debt Consolidation', 'Home Improvement', 'Business', 'Personal Loan', 'Student Use',\n",
    "                 'Auto', 'Other', 'Baby and Adoption', 'Boat', 'Cosmetic Procedure', 'Engagement Ring', 'Green Loans',\n",
    "                 'Household Expenses', 'Large Purchases', 'Medical and Dental', 'Motorcycle', 'RV', 'Taxes', 'Vacation',\n",
    "                 'Wedding']\n",
    "    return categories[cat]\n",
    "\n",
    "loans['ListingCategory'] = loans['ListingCategory'].apply(convert_listing_category)\n",
    "\n",
    "# Convert ListingCategoy to categorical types\n",
    "loans['ListingCategory'] = loans['ListingCategory'].astype('category')"
   ]
  },
  {
   "cell_type": "markdown",
   "metadata": {},
   "source": [
    "There are null values in the EmploymentStatus column so I will take a closer look at the column."
   ]
  },
  {
   "cell_type": "code",
   "execution_count": 14,
   "metadata": {},
   "outputs": [
    {
     "data": {
      "text/plain": [
       "Full-time        24958\n",
       "Employed         16479\n",
       "Not available     5347\n",
       "Self-employed     2925\n",
       "Part-time         1056\n",
       "Other              798\n",
       "Retired            697\n",
       "Not employed       561\n",
       "Name: EmploymentStatus, dtype: int64"
      ]
     },
     "execution_count": 14,
     "metadata": {},
     "output_type": "execute_result"
    }
   ],
   "source": [
    "loans['EmploymentStatus'].value_counts()"
   ]
  },
  {
   "cell_type": "markdown",
   "metadata": {},
   "source": [
    "The null values in EmploymentStatus can also be represented by the existing 'Not available' value, so these should be converted to be consistent and make analysis easier."
   ]
  },
  {
   "cell_type": "code",
   "execution_count": 15,
   "metadata": {},
   "outputs": [],
   "source": [
    "# Convert null EmploymentStatus to 'Not available'\n",
    "loans['EmploymentStatus'] = loans['EmploymentStatus'].fillna('Not available')"
   ]
  },
  {
   "cell_type": "markdown",
   "metadata": {},
   "source": [
    "The employment status categories are not particularly useful in their current form as it is not clear how to differentiate between the 'Employed' category and 'Full-time', 'Part-time', 'Self-employed' etc. For this analysis I will convert the 'Employed' borrowers to 'Full-time' as it seems reasonable to assume that most employed borrorwers will be employed full-time, given that in the loan data they are 25 times more likely to be employed full-time than part-time. Also, I am interested in identifying if being employed increases the chances of a loan being paid off, so grouping employed borrowers together makes sense."
   ]
  },
  {
   "cell_type": "code",
   "execution_count": 16,
   "metadata": {},
   "outputs": [],
   "source": [
    "mask = loans['EmploymentStatus'] == 'Employed'\n",
    "column_name = 'EmploymentStatus'\n",
    "loans.loc[mask, column_name] = 'Full-time'"
   ]
  },
  {
   "cell_type": "markdown",
   "metadata": {},
   "source": [
    "The column can now be converted to a category type which is more appropriate for this data."
   ]
  },
  {
   "cell_type": "code",
   "execution_count": 17,
   "metadata": {},
   "outputs": [],
   "source": [
    "# Convert EmploymentStatus to categorical type\n",
    "loans['EmploymentStatus'] = loans['EmploymentStatus'].astype('category')"
   ]
  },
  {
   "cell_type": "markdown",
   "metadata": {},
   "source": [
    "LoanOriginationQuarter can also be converted to a category type."
   ]
  },
  {
   "cell_type": "code",
   "execution_count": 18,
   "metadata": {},
   "outputs": [],
   "source": [
    "# Convert LoanOriginationQuarter to categorical type\n",
    "loans['LoanOriginationQuarter'] = loans['LoanOriginationQuarter'].astype('category')"
   ]
  },
  {
   "cell_type": "markdown",
   "metadata": {},
   "source": [
    "Loan Term may be a candidate for a category type if there are limited term options. Let's see."
   ]
  },
  {
   "cell_type": "code",
   "execution_count": 19,
   "metadata": {},
   "outputs": [
    {
     "data": {
      "text/plain": [
       "36    49852\n",
       "60     3692\n",
       "12     1532\n",
       "Name: Term, dtype: int64"
      ]
     },
     "execution_count": 19,
     "metadata": {},
     "output_type": "execute_result"
    }
   ],
   "source": [
    "loans.Term.value_counts()"
   ]
  },
  {
   "cell_type": "markdown",
   "metadata": {},
   "source": [
    "There are only three possible terms, so these are better represented as categories"
   ]
  },
  {
   "cell_type": "code",
   "execution_count": 20,
   "metadata": {},
   "outputs": [],
   "source": [
    "# Convert Term to categorical type\n",
    "loans['Term'] = loans['Term'].astype('category')"
   ]
  },
  {
   "cell_type": "markdown",
   "metadata": {},
   "source": [
    "The Credit Score will be more useful if there is one Credit Score value per loan, rather than a lower and upper value. A new column can be created that holds the mean of the lower and upper scores for each row."
   ]
  },
  {
   "cell_type": "code",
   "execution_count": 21,
   "metadata": {},
   "outputs": [],
   "source": [
    "# Function to calculate mean of lower and upper credit ratings\n",
    "def get_rating(lower, upper):\n",
    "    \"Calculate mean of lower and upper credit ratings.\"\n",
    "    mean = (lower + upper) / 2\n",
    "    return mean\n",
    "\n",
    "# Add CreditScore column and populate\n",
    "loans['CreditScore'] = loans.apply(lambda x: get_rating(x['CreditScoreRangeLower'], x['CreditScoreRangeUpper']), axis=1)\n",
    "\n",
    "# Drop unneeded Credit Range columns\n",
    "loans.drop(['CreditScoreRangeLower','CreditScoreRangeUpper'], axis=1, inplace=True)"
   ]
  },
  {
   "cell_type": "code",
   "execution_count": 22,
   "metadata": {},
   "outputs": [
    {
     "name": "stdout",
     "output_type": "stream",
     "text": [
      "<class 'pandas.core.frame.DataFrame'>\n",
      "Int64Index: 55076 entries, 0 to 113935\n",
      "Data columns (total 16 columns):\n",
      "Term                      55076 non-null category\n",
      "BorrowerAPR               55051 non-null float64\n",
      "ListingCategory           55076 non-null category\n",
      "EmploymentStatus          55076 non-null category\n",
      "HomeOwner                 55076 non-null bool\n",
      "TotalCreditLines          54379 non-null float64\n",
      "TotalDelinquencies        54086 non-null float64\n",
      "DebtToIncomeRatio         50847 non-null float64\n",
      "StatedMonthlyIncome       55076 non-null float64\n",
      "LoanNumber                55076 non-null object\n",
      "LoanOriginalAmount        55076 non-null int64\n",
      "LoanOriginationQuarter    55076 non-null category\n",
      "MemberKey                 55076 non-null object\n",
      "MonthlyLoanPayment        55076 non-null float64\n",
      "LoanCompleted             55076 non-null category\n",
      "CreditScore               54485 non-null float64\n",
      "dtypes: bool(1), category(5), float64(7), int64(1), object(2)\n",
      "memory usage: 4.9+ MB\n"
     ]
    }
   ],
   "source": [
    "loans.info()"
   ]
  },
  {
   "cell_type": "markdown",
   "metadata": {},
   "source": [
    "### Missing Values"
   ]
  },
  {
   "cell_type": "markdown",
   "metadata": {},
   "source": [
    "There are several columns that contain missing values which I will address here."
   ]
  },
  {
   "cell_type": "markdown",
   "metadata": {},
   "source": [
    "There are 25 rows missing the BorrowerAPR. This is a very small percentage of the total so I can use the mean for the column to fill these values."
   ]
  },
  {
   "cell_type": "code",
   "execution_count": 23,
   "metadata": {},
   "outputs": [],
   "source": [
    "# Fill missing BorrowerAPR values with the mean for the column\n",
    "mean_apr = loans.BorrowerAPR.mean()\n",
    "loans['BorrowerAPR'] = loans.BorrowerAPR.fillna(mean_apr)"
   ]
  },
  {
   "cell_type": "markdown",
   "metadata": {},
   "source": [
    "There are 591 rows missing Credit Score details. I will check what other information these rows are missing."
   ]
  },
  {
   "cell_type": "code",
   "execution_count": 24,
   "metadata": {},
   "outputs": [
    {
     "data": {
      "text/html": [
       "<div>\n",
       "<style scoped>\n",
       "    .dataframe tbody tr th:only-of-type {\n",
       "        vertical-align: middle;\n",
       "    }\n",
       "\n",
       "    .dataframe tbody tr th {\n",
       "        vertical-align: top;\n",
       "    }\n",
       "\n",
       "    .dataframe thead th {\n",
       "        text-align: right;\n",
       "    }\n",
       "</style>\n",
       "<table border=\"1\" class=\"dataframe\">\n",
       "  <thead>\n",
       "    <tr style=\"text-align: right;\">\n",
       "      <th></th>\n",
       "      <th>Term</th>\n",
       "      <th>BorrowerAPR</th>\n",
       "      <th>ListingCategory</th>\n",
       "      <th>EmploymentStatus</th>\n",
       "      <th>HomeOwner</th>\n",
       "      <th>TotalCreditLines</th>\n",
       "      <th>TotalDelinquencies</th>\n",
       "      <th>DebtToIncomeRatio</th>\n",
       "      <th>StatedMonthlyIncome</th>\n",
       "      <th>LoanNumber</th>\n",
       "      <th>LoanOriginalAmount</th>\n",
       "      <th>LoanOriginationQuarter</th>\n",
       "      <th>MemberKey</th>\n",
       "      <th>MonthlyLoanPayment</th>\n",
       "      <th>LoanCompleted</th>\n",
       "      <th>CreditScore</th>\n",
       "    </tr>\n",
       "  </thead>\n",
       "  <tbody>\n",
       "    <tr>\n",
       "      <th>206</th>\n",
       "      <td>36</td>\n",
       "      <td>0.27767</td>\n",
       "      <td>Not Available</td>\n",
       "      <td>Not available</td>\n",
       "      <td>False</td>\n",
       "      <td>NaN</td>\n",
       "      <td>NaN</td>\n",
       "      <td>0.16573</td>\n",
       "      <td>9166.666667</td>\n",
       "      <td>323</td>\n",
       "      <td>7500</td>\n",
       "      <td>Q1 2006</td>\n",
       "      <td>110A336465998424756030B</td>\n",
       "      <td>306.19</td>\n",
       "      <td>Not completed</td>\n",
       "      <td>NaN</td>\n",
       "    </tr>\n",
       "    <tr>\n",
       "      <th>387</th>\n",
       "      <td>36</td>\n",
       "      <td>0.09337</td>\n",
       "      <td>Not Available</td>\n",
       "      <td>Not available</td>\n",
       "      <td>False</td>\n",
       "      <td>NaN</td>\n",
       "      <td>NaN</td>\n",
       "      <td>0.12624</td>\n",
       "      <td>3000.000000</td>\n",
       "      <td>174</td>\n",
       "      <td>3500</td>\n",
       "      <td>Q1 2006</td>\n",
       "      <td>69D933646754525905A852D</td>\n",
       "      <td>110.73</td>\n",
       "      <td>Completed</td>\n",
       "      <td>NaN</td>\n",
       "    </tr>\n",
       "    <tr>\n",
       "      <th>698</th>\n",
       "      <td>36</td>\n",
       "      <td>0.07680</td>\n",
       "      <td>Not Available</td>\n",
       "      <td>Not available</td>\n",
       "      <td>False</td>\n",
       "      <td>NaN</td>\n",
       "      <td>NaN</td>\n",
       "      <td>0.02727</td>\n",
       "      <td>8333.333333</td>\n",
       "      <td>36</td>\n",
       "      <td>6001</td>\n",
       "      <td>Q1 2006</td>\n",
       "      <td>8DE133657363264326FD856</td>\n",
       "      <td>185.29</td>\n",
       "      <td>Completed</td>\n",
       "      <td>NaN</td>\n",
       "    </tr>\n",
       "    <tr>\n",
       "      <th>1023</th>\n",
       "      <td>36</td>\n",
       "      <td>0.08684</td>\n",
       "      <td>Not Available</td>\n",
       "      <td>Not available</td>\n",
       "      <td>False</td>\n",
       "      <td>NaN</td>\n",
       "      <td>NaN</td>\n",
       "      <td>0.02480</td>\n",
       "      <td>8333.333333</td>\n",
       "      <td>396</td>\n",
       "      <td>5000</td>\n",
       "      <td>Q2 2006</td>\n",
       "      <td>6D11336601070734709170C</td>\n",
       "      <td>156.68</td>\n",
       "      <td>Completed</td>\n",
       "      <td>NaN</td>\n",
       "    </tr>\n",
       "    <tr>\n",
       "      <th>1126</th>\n",
       "      <td>36</td>\n",
       "      <td>0.20735</td>\n",
       "      <td>Not Available</td>\n",
       "      <td>Not available</td>\n",
       "      <td>False</td>\n",
       "      <td>NaN</td>\n",
       "      <td>NaN</td>\n",
       "      <td>0.13759</td>\n",
       "      <td>4250.000000</td>\n",
       "      <td>202</td>\n",
       "      <td>2550</td>\n",
       "      <td>Q1 2006</td>\n",
       "      <td>EDAD3365722336384C605F7</td>\n",
       "      <td>94.77</td>\n",
       "      <td>Completed</td>\n",
       "      <td>NaN</td>\n",
       "    </tr>\n",
       "  </tbody>\n",
       "</table>\n",
       "</div>"
      ],
      "text/plain": [
       "     Term  BorrowerAPR ListingCategory EmploymentStatus  HomeOwner  \\\n",
       "206    36      0.27767   Not Available    Not available      False   \n",
       "387    36      0.09337   Not Available    Not available      False   \n",
       "698    36      0.07680   Not Available    Not available      False   \n",
       "1023   36      0.08684   Not Available    Not available      False   \n",
       "1126   36      0.20735   Not Available    Not available      False   \n",
       "\n",
       "      TotalCreditLines  TotalDelinquencies  DebtToIncomeRatio  \\\n",
       "206                NaN                 NaN            0.16573   \n",
       "387                NaN                 NaN            0.12624   \n",
       "698                NaN                 NaN            0.02727   \n",
       "1023               NaN                 NaN            0.02480   \n",
       "1126               NaN                 NaN            0.13759   \n",
       "\n",
       "      StatedMonthlyIncome LoanNumber  LoanOriginalAmount  \\\n",
       "206           9166.666667        323                7500   \n",
       "387           3000.000000        174                3500   \n",
       "698           8333.333333         36                6001   \n",
       "1023          8333.333333        396                5000   \n",
       "1126          4250.000000        202                2550   \n",
       "\n",
       "     LoanOriginationQuarter                MemberKey  MonthlyLoanPayment  \\\n",
       "206                 Q1 2006  110A336465998424756030B              306.19   \n",
       "387                 Q1 2006  69D933646754525905A852D              110.73   \n",
       "698                 Q1 2006  8DE133657363264326FD856              185.29   \n",
       "1023                Q2 2006  6D11336601070734709170C              156.68   \n",
       "1126                Q1 2006  EDAD3365722336384C605F7               94.77   \n",
       "\n",
       "      LoanCompleted  CreditScore  \n",
       "206   Not completed          NaN  \n",
       "387       Completed          NaN  \n",
       "698       Completed          NaN  \n",
       "1023      Completed          NaN  \n",
       "1126      Completed          NaN  "
      ]
     },
     "execution_count": 24,
     "metadata": {},
     "output_type": "execute_result"
    }
   ],
   "source": [
    "missing = loans[loans['CreditScore'].isnull() == True]\n",
    "missing.head()"
   ]
  },
  {
   "cell_type": "markdown",
   "metadata": {},
   "source": [
    "We can see that these rows are missing all of their credit data along with ListingCategory, EmploymentStatus, Delinquincies etc. I can drop these rows from the data as they only represent around 1% of the target data and I do not want to introduce noise or errors by using the mean for these values. Further, ListingCategory, EmploymentStatus and HomeOwner cannot be adequately filled by a default value so it is best to drop these rows."
   ]
  },
  {
   "cell_type": "code",
   "execution_count": 25,
   "metadata": {},
   "outputs": [],
   "source": [
    "# Drop rows missing credit values\n",
    "loans = loans[loans['CreditScore'].isnull() == False]"
   ]
  },
  {
   "cell_type": "markdown",
   "metadata": {},
   "source": [
    "The remaining columns that have missing values can be left as they are. Now I can look at an overview of the remaining data of interest."
   ]
  },
  {
   "cell_type": "code",
   "execution_count": 26,
   "metadata": {},
   "outputs": [
    {
     "name": "stdout",
     "output_type": "stream",
     "text": [
      "(54485, 16)\n",
      "Term                      category\n",
      "BorrowerAPR                float64\n",
      "ListingCategory           category\n",
      "EmploymentStatus          category\n",
      "HomeOwner                     bool\n",
      "TotalCreditLines           float64\n",
      "TotalDelinquencies         float64\n",
      "DebtToIncomeRatio          float64\n",
      "StatedMonthlyIncome        float64\n",
      "LoanNumber                  object\n",
      "LoanOriginalAmount           int64\n",
      "LoanOriginationQuarter    category\n",
      "MemberKey                   object\n",
      "MonthlyLoanPayment         float64\n",
      "LoanCompleted             category\n",
      "CreditScore                float64\n",
      "dtype: object\n",
      "   Term  BorrowerAPR     ListingCategory EmploymentStatus  HomeOwner  \\\n",
      "0    36      0.16516       Not Available    Self-employed       True   \n",
      "2    36      0.28269       Not Available    Not available      False   \n",
      "11   36      0.15033       Not Available        Full-time      False   \n",
      "15   36      0.35797  Household Expenses            Other       True   \n",
      "17   36      0.13202       Not Available    Not available       True   \n",
      "\n",
      "    TotalCreditLines  TotalDelinquencies  DebtToIncomeRatio  \\\n",
      "0               12.0                 4.0               0.17   \n",
      "2                3.0                 0.0               0.06   \n",
      "11              10.0                 1.0               0.27   \n",
      "15              18.0                 0.0               0.49   \n",
      "17              36.0                 0.0               0.12   \n",
      "\n",
      "    StatedMonthlyIncome LoanNumber  LoanOriginalAmount LoanOriginationQuarter  \\\n",
      "0           3083.333333      19141                9425                Q3 2007   \n",
      "2           2083.333333       6466                3001                Q1 2007   \n",
      "11          1666.666667      20907                1000                Q4 2007   \n",
      "15          5500.000000      63982                4000                Q2 2012   \n",
      "17          5833.333333       2711               10000                Q3 2006   \n",
      "\n",
      "                  MemberKey  MonthlyLoanPayment  LoanCompleted  CreditScore  \n",
      "0   1F3E3376408759268057EDA              330.43      Completed        649.5  \n",
      "2   5F7033715035555618FA612              123.32      Completed        489.5  \n",
      "11  59423376541417552B94BD3               33.81      Completed        649.5  \n",
      "15  924335448287456229847ED              173.71  Not completed        709.5  \n",
      "17  893E3365582060699EBBADA              334.54  Not completed        769.5  \n"
     ]
    }
   ],
   "source": [
    "print(loans.shape)\n",
    "print(loans.dtypes)\n",
    "print(loans.head())"
   ]
  },
  {
   "cell_type": "code",
   "execution_count": 27,
   "metadata": {},
   "outputs": [
    {
     "data": {
      "text/html": [
       "<div>\n",
       "<style scoped>\n",
       "    .dataframe tbody tr th:only-of-type {\n",
       "        vertical-align: middle;\n",
       "    }\n",
       "\n",
       "    .dataframe tbody tr th {\n",
       "        vertical-align: top;\n",
       "    }\n",
       "\n",
       "    .dataframe thead th {\n",
       "        text-align: right;\n",
       "    }\n",
       "</style>\n",
       "<table border=\"1\" class=\"dataframe\">\n",
       "  <thead>\n",
       "    <tr style=\"text-align: right;\">\n",
       "      <th></th>\n",
       "      <th>BorrowerAPR</th>\n",
       "      <th>TotalCreditLines</th>\n",
       "      <th>TotalDelinquencies</th>\n",
       "      <th>DebtToIncomeRatio</th>\n",
       "      <th>StatedMonthlyIncome</th>\n",
       "      <th>LoanOriginalAmount</th>\n",
       "      <th>MonthlyLoanPayment</th>\n",
       "      <th>CreditScore</th>\n",
       "    </tr>\n",
       "  </thead>\n",
       "  <tbody>\n",
       "    <tr>\n",
       "      <th>count</th>\n",
       "      <td>54485.000000</td>\n",
       "      <td>54379.000000</td>\n",
       "      <td>54086.000000</td>\n",
       "      <td>50262.000000</td>\n",
       "      <td>54485.000000</td>\n",
       "      <td>54485.000000</td>\n",
       "      <td>54485.000000</td>\n",
       "      <td>54485.000000</td>\n",
       "    </tr>\n",
       "    <tr>\n",
       "      <th>mean</th>\n",
       "      <td>0.222646</td>\n",
       "      <td>25.274977</td>\n",
       "      <td>4.572385</td>\n",
       "      <td>0.291532</td>\n",
       "      <td>5043.489058</td>\n",
       "      <td>6274.071983</td>\n",
       "      <td>224.260224</td>\n",
       "      <td>681.235340</td>\n",
       "    </tr>\n",
       "    <tr>\n",
       "      <th>std</th>\n",
       "      <td>0.088089</td>\n",
       "      <td>14.268204</td>\n",
       "      <td>10.690307</td>\n",
       "      <td>0.740366</td>\n",
       "      <td>5713.731383</td>\n",
       "      <td>5225.328950</td>\n",
       "      <td>186.029469</td>\n",
       "      <td>81.917545</td>\n",
       "    </tr>\n",
       "    <tr>\n",
       "      <th>min</th>\n",
       "      <td>0.006530</td>\n",
       "      <td>2.000000</td>\n",
       "      <td>0.000000</td>\n",
       "      <td>0.000000</td>\n",
       "      <td>0.000000</td>\n",
       "      <td>1000.000000</td>\n",
       "      <td>0.000000</td>\n",
       "      <td>9.500000</td>\n",
       "    </tr>\n",
       "    <tr>\n",
       "      <th>25%</th>\n",
       "      <td>0.149900</td>\n",
       "      <td>15.000000</td>\n",
       "      <td>0.000000</td>\n",
       "      <td>0.130000</td>\n",
       "      <td>2804.166667</td>\n",
       "      <td>2600.000000</td>\n",
       "      <td>98.690000</td>\n",
       "      <td>649.500000</td>\n",
       "    </tr>\n",
       "    <tr>\n",
       "      <th>50%</th>\n",
       "      <td>0.214800</td>\n",
       "      <td>23.000000</td>\n",
       "      <td>0.000000</td>\n",
       "      <td>0.200000</td>\n",
       "      <td>4166.666667</td>\n",
       "      <td>4500.000000</td>\n",
       "      <td>172.760000</td>\n",
       "      <td>689.500000</td>\n",
       "    </tr>\n",
       "    <tr>\n",
       "      <th>75%</th>\n",
       "      <td>0.295250</td>\n",
       "      <td>33.000000</td>\n",
       "      <td>4.000000</td>\n",
       "      <td>0.300000</td>\n",
       "      <td>6250.000000</td>\n",
       "      <td>8000.000000</td>\n",
       "      <td>301.030000</td>\n",
       "      <td>729.500000</td>\n",
       "    </tr>\n",
       "    <tr>\n",
       "      <th>max</th>\n",
       "      <td>0.423950</td>\n",
       "      <td>136.000000</td>\n",
       "      <td>99.000000</td>\n",
       "      <td>10.010000</td>\n",
       "      <td>618547.833333</td>\n",
       "      <td>35000.000000</td>\n",
       "      <td>2251.510000</td>\n",
       "      <td>889.500000</td>\n",
       "    </tr>\n",
       "  </tbody>\n",
       "</table>\n",
       "</div>"
      ],
      "text/plain": [
       "        BorrowerAPR  TotalCreditLines  TotalDelinquencies  DebtToIncomeRatio  \\\n",
       "count  54485.000000      54379.000000        54086.000000       50262.000000   \n",
       "mean       0.222646         25.274977            4.572385           0.291532   \n",
       "std        0.088089         14.268204           10.690307           0.740366   \n",
       "min        0.006530          2.000000            0.000000           0.000000   \n",
       "25%        0.149900         15.000000            0.000000           0.130000   \n",
       "50%        0.214800         23.000000            0.000000           0.200000   \n",
       "75%        0.295250         33.000000            4.000000           0.300000   \n",
       "max        0.423950        136.000000           99.000000          10.010000   \n",
       "\n",
       "       StatedMonthlyIncome  LoanOriginalAmount  MonthlyLoanPayment  \\\n",
       "count         54485.000000        54485.000000        54485.000000   \n",
       "mean           5043.489058         6274.071983          224.260224   \n",
       "std            5713.731383         5225.328950          186.029469   \n",
       "min               0.000000         1000.000000            0.000000   \n",
       "25%            2804.166667         2600.000000           98.690000   \n",
       "50%            4166.666667         4500.000000          172.760000   \n",
       "75%            6250.000000         8000.000000          301.030000   \n",
       "max          618547.833333        35000.000000         2251.510000   \n",
       "\n",
       "        CreditScore  \n",
       "count  54485.000000  \n",
       "mean     681.235340  \n",
       "std       81.917545  \n",
       "min        9.500000  \n",
       "25%      649.500000  \n",
       "50%      689.500000  \n",
       "75%      729.500000  \n",
       "max      889.500000  "
      ]
     },
     "execution_count": 27,
     "metadata": {},
     "output_type": "execute_result"
    }
   ],
   "source": [
    "loans.describe()"
   ]
  },
  {
   "cell_type": "markdown",
   "metadata": {},
   "source": [
    "Looking at the summary of the remaining data we can see a few items of interest that warrant further exploration. Most borrowers have a debt-to-income ratio of between 0.13 and 0.3, however there are some with high ratios, up to the limit of 10. Do those with a high ratio have a disproportionate number of failures to pay off their loans? Average original loan amounts are a bit over \\\\$6000 and generally range from \\\\$2600 to \\\\$8000. Do low Monthly Loan Payment amount values have a higher chance of being paid off? Do high Monthly Loan Payment amounts have a lower chance of being paid off? \n",
    "\n",
    "We can see that the minimum value for monthly loan payment is \\\\$0 which does not seem correct. I will need to check that this is accurate. I will look for a relationship between original loan amounts and monthly loan payments, which I expect to be closely related. The interquartile range for Credit Score is not that large, with the scores centered between 649.5 and 729.5. Do lower scores result in a higher chance that a loan does not get paid off? Does a high score mean a loan is more likely to get paid off?"
   ]
  },
  {
   "cell_type": "markdown",
   "metadata": {},
   "source": [
    "## Univariate Exploration"
   ]
  },
  {
   "cell_type": "markdown",
   "metadata": {},
   "source": [
    "I'll start by looking at the main variable of interest - the Loan Outcome Status."
   ]
  },
  {
   "cell_type": "code",
   "execution_count": 28,
   "metadata": {},
   "outputs": [
    {
     "data": {
      "image/png": "[encoded data removed]",
      "text/plain": [
       "<matplotlib.figure.Figure at 0x20336963240>"
      ]
     },
     "metadata": {
      "needs_background": "light"
     },
     "output_type": "display_data"
    }
   ],
   "source": [
    "# Plot LoanCompleted column as %\n",
    "base_color = sb.color_palette()[0]\n",
    "n_points = loans.shape[0]\n",
    "max_count = loans['LoanCompleted'].value_counts().max()\n",
    "max_prop = max_count / n_points\n",
    "tick_props = np.arange(0, max_prop, 0.05)\n",
    "tick_names = ['{:0.2f}'.format(v) for v in tick_props]\n",
    "sb.countplot(data = loans, x = 'LoanCompleted', color = base_color)\n",
    "plt.yticks(tick_props * n_points, tick_names)\n",
    "plt.ylabel('proportion')\n",
    "plt.xlabel('Loan Completion')\n",
    "plt.title('Completion status of non-current loans as proportions');"
   ]
  },
  {
   "cell_type": "markdown",
   "metadata": {},
   "source": [
    "We can see that close to 70% of the loans in the extracted data were completed and 30% were not completed (not paid off). This means that the mean rate of successful completion of loans in our filtered sample is 70%. I am interested to see if there are variables, or combinations of vaiables, that result in a completion status that is significantly different from 70%.\n",
    "\n",
    "I'd like to check the distribution of some of the categorical variables next."
   ]
  },
  {
   "cell_type": "code",
   "execution_count": 29,
   "metadata": {},
   "outputs": [
    {
     "data": {
      "image/png": "[encoded data removed]",
      "text/plain": [
       "<matplotlib.figure.Figure at 0x2032e8b4550>"
      ]
     },
     "metadata": {
      "needs_background": "light"
     },
     "output_type": "display_data"
    }
   ],
   "source": [
    "# Plot Term column\n",
    "sb.countplot(data = loans, x = 'Term', color = base_color)\n",
    "plt.xlabel('Term')\n",
    "plt.xticks(rotation=45, horizontalalignment='right')\n",
    "plt.title('Number of loans by Loan Term');"
   ]
  },
  {
   "cell_type": "markdown",
   "metadata": {},
   "source": [
    "The vast majoity of loans had a 36 month term, with 60 months being second most popular and 12 months third."
   ]
  },
  {
   "cell_type": "code",
   "execution_count": 30,
   "metadata": {},
   "outputs": [
    {
     "data": {
      "image/png": "[encoded data removed]",
      "text/plain": [
       "<matplotlib.figure.Figure at 0x2032d3adb00>"
      ]
     },
     "metadata": {
      "needs_background": "light"
     },
     "output_type": "display_data"
    }
   ],
   "source": [
    "# Plot EmploymentStatus column\n",
    "cat_order = loans['EmploymentStatus'].value_counts().index\n",
    "sb.countplot(data = loans, x = 'EmploymentStatus', color = base_color, order=cat_order)\n",
    "plt.xlabel('Employment Status')\n",
    "plt.xticks(rotation=45, horizontalalignment='right')\n",
    "plt.title('Employment status counts by category');"
   ]
  },
  {
   "cell_type": "markdown",
   "metadata": {},
   "source": [
    "We can see that most borrowers were involved in some form of employment, however, there was a large proportion for which the employment status was unknown. It will be interesting to see if being employed full-time increases the likelihood of a loan being paid off."
   ]
  },
  {
   "cell_type": "code",
   "execution_count": 31,
   "metadata": {},
   "outputs": [
    {
     "data": {
      "image/png": "[encoded data removed]",
      "text/plain": [
       "<matplotlib.figure.Figure at 0x2032ef9e908>"
      ]
     },
     "metadata": {
      "needs_background": "light"
     },
     "output_type": "display_data"
    }
   ],
   "source": [
    "# Plot HomeOwnership column as %\n",
    "n_points = loans.shape[0]\n",
    "max_count = loans['HomeOwner'].value_counts().max()\n",
    "max_prop = max_count / n_points\n",
    "tick_props = np.arange(0, max_prop, 0.05)\n",
    "tick_names = ['{:0.2f}'.format(v) for v in tick_props]\n",
    "sb.countplot(data = loans, x = 'HomeOwner', color = base_color)\n",
    "plt.yticks(tick_props * n_points, tick_names)\n",
    "plt.ylabel('proportion')\n",
    "plt.xlabel('Home Ownership')\n",
    "plt.xticks([0, 1], ['Not owned', 'Owned'])\n",
    "plt.title('Proportion of home ownership');"
   ]
  },
  {
   "cell_type": "markdown",
   "metadata": {},
   "source": [
    "Home ownership is split pretty evenly across the data with approximately 46% owning their home and the remaining 54% not owning their home."
   ]
  },
  {
   "cell_type": "code",
   "execution_count": 32,
   "metadata": {},
   "outputs": [
    {
     "data": {
      "image/png": "[encoded data removed]",
      "text/plain": [
       "<matplotlib.figure.Figure at 0x2032e50f198>"
      ]
     },
     "metadata": {
      "needs_background": "light"
     },
     "output_type": "display_data"
    }
   ],
   "source": [
    "# Plot ListingCategory column as %\n",
    "plt.figure(figsize=[15,6])\n",
    "n_points = loans.shape[0]\n",
    "cat_order = loans['ListingCategory'].value_counts().index\n",
    "max_count = loans['ListingCategory'].value_counts().max()\n",
    "max_prop = max_count / n_points\n",
    "tick_props = np.arange(0, max_prop, 0.05)\n",
    "tick_names = ['{:0.2f}'.format(v) for v in tick_props]\n",
    "sb.countplot(data = loans, x = 'ListingCategory', color = base_color, order = cat_order)\n",
    "plt.yticks(tick_props * n_points, tick_names)\n",
    "plt.ylabel('proportion')\n",
    "plt.xlabel('Listing Category')\n",
    "plt.xticks(rotation = 45, horizontalalignment='right')\n",
    "plt.title('Listing Category Proportions');"
   ]
  },
  {
   "cell_type": "markdown",
   "metadata": {},
   "source": [
    "Over a third of the Listing Categories fall under 'Debt Consolidation'. Another third is 'Not Available' and a large number are also 'Other' which is not very helpful for analysis. We may be able to look at the effect of the Debt Consolidation category on the outcome of a loan, however, most of the other categories are too underepresented to be able to draw reliable conclusions from.\n",
    "\n",
    "Let's look at the Listing category proportions once 'Not available' is removed and the other Listing categories are combined."
   ]
  },
  {
   "cell_type": "code",
   "execution_count": 33,
   "metadata": {},
   "outputs": [
    {
     "name": "stderr",
     "output_type": "stream",
     "text": [
      "C:\\Users\\Jeff\\Anaconda3\\lib\\site-packages\\ipykernel_launcher.py:11: SettingWithCopyWarning: \n",
      "A value is trying to be set on a copy of a slice from a DataFrame.\n",
      "Try using .loc[row_indexer,col_indexer] = value instead\n",
      "\n",
      "See the caveats in the documentation: http://pandas.pydata.org/pandas-docs/stable/indexing.html#indexing-view-versus-copy\n",
      "  # This is added back by InteractiveShellApp.init_path()\n"
     ]
    },
    {
     "data": {
      "text/plain": [
       "Other                 20265\n",
       "Debt Consolidation    17859\n",
       "Name: ListingCategory, dtype: int64"
      ]
     },
     "execution_count": 33,
     "metadata": {},
     "output_type": "execute_result"
    }
   ],
   "source": [
    "# Drop loans with 'Not available' for ListingCategory\n",
    "listing_categories = loans[loans['ListingCategory'] != 'Not Available']\n",
    "\n",
    "# fuction to convert non-Debt consolidation values in ListingCategory to 'Other'\n",
    "def convert_listing(listing):\n",
    "    if listing == 'Debt Consolidation':\n",
    "        return listing\n",
    "    else:\n",
    "        return 'Other'\n",
    "    \n",
    "listing_categories['ListingCategory'] = listing_categories['ListingCategory'].apply(convert_listing)\n",
    "listing_categories.ListingCategory.value_counts()"
   ]
  },
  {
   "cell_type": "code",
   "execution_count": 34,
   "metadata": {},
   "outputs": [
    {
     "data": {
      "image/png": "[encoded data removed]",
      "text/plain": [
       "<matplotlib.figure.Figure at 0x2032d8ecc18>"
      ]
     },
     "metadata": {
      "needs_background": "light"
     },
     "output_type": "display_data"
    }
   ],
   "source": [
    "# Plot modified ListingCategory column as %\n",
    "n_points = listing_categories.shape[0]\n",
    "cat_order = listing_categories['ListingCategory'].value_counts().index\n",
    "max_count = listing_categories['ListingCategory'].value_counts().max()\n",
    "max_prop = max_count / n_points\n",
    "tick_props = np.arange(0, max_prop, 0.05)\n",
    "tick_names = ['{:0.2f}'.format(v) for v in tick_props]\n",
    "sb.countplot(data = listing_categories, x = 'ListingCategory', color = base_color, order = cat_order)\n",
    "plt.yticks(tick_props * n_points, tick_names)\n",
    "plt.ylabel('proportion')\n",
    "plt.xlabel('Listing Category')\n",
    "plt.xticks(rotation = 45, horizontalalignment='right')\n",
    "plt.title('Modified Listing Category Proportions');"
   ]
  },
  {
   "cell_type": "markdown",
   "metadata": {},
   "source": [
    "Combining the ListingCategory values in this way we can see that around 45% are Debt consolidation and 55% are other listing categories. When I perform the bivariate analysis I can compare the impact of Debt consolidation on the overall outcome of a loan using these groupings."
   ]
  },
  {
   "cell_type": "markdown",
   "metadata": {},
   "source": [
    "Let's see if there are any trends in the Quarter the loans originated."
   ]
  },
  {
   "cell_type": "code",
   "execution_count": 35,
   "metadata": {},
   "outputs": [
    {
     "data": {
      "image/png": "[encoded data removed]",
      "text/plain": [
       "<matplotlib.figure.Figure at 0x2032e51b630>"
      ]
     },
     "metadata": {
      "needs_background": "light"
     },
     "output_type": "display_data"
    }
   ],
   "source": [
    "# Plot LoanOriginationQuarter column\n",
    "plt.figure(figsize=[15,4])\n",
    "quarter_order = ['Q1 2006','Q2 2006','Q3 2006','Q4 2006','Q1 2007','Q2 2007','Q3 2007','Q4 2007','Q1 2008','Q2 2008','Q3 2008',\n",
    "             'Q4 2008','Q1 2009','Q2 2009','Q3 2009','Q4 2009','Q1 2010','Q2 2010','Q3 2010','Q4 2010','Q1 2011','Q2 2011',\n",
    "             'Q3 2011','Q4 2011','Q1 2012','Q2 2012','Q3 2012','Q4 2012','Q1 2013','Q2 2013','Q3 2013','Q4 2013']\n",
    "sb.countplot(data = loans, x = 'LoanOriginationQuarter', color = base_color, order=quarter_order)\n",
    "plt.xlabel('Origination Quarter')\n",
    "plt.xticks(rotation=45, horizontalalignment='right')\n",
    "plt.title('Loan Origination Quarter Counts');"
   ]
  },
  {
   "cell_type": "markdown",
   "metadata": {},
   "source": [
    "While there is some variation in the number of loans per quarter, most quarters have between 1200 and 2500 loans. Q4 2008 to Q3 2009 have noticeably fewer loans. I will compare the number of loans in this period with the number in the original dataset to check that the earlier filtering has not skewed the origination quarters in the remaining data."
   ]
  },
  {
   "cell_type": "code",
   "execution_count": 36,
   "metadata": {},
   "outputs": [
    {
     "data": {
      "text/plain": [
       "1130"
      ]
     },
     "execution_count": 36,
     "metadata": {},
     "output_type": "execute_result"
    }
   ],
   "source": [
    "low_quarters = (loans['LoanOriginationQuarter'] == 'Q4 2008') |\\\n",
    "    (loans['LoanOriginationQuarter'] == 'Q1 2009') | (loans['LoanOriginationQuarter'] == 'Q2 2009') |\\\n",
    "    (loans['LoanOriginationQuarter'] == 'Q3 2009')\n",
    "low_quarters.sum()"
   ]
  },
  {
   "cell_type": "markdown",
   "metadata": {},
   "source": [
    "Filtering the original dataset in Excel on the above quarters returned the same number of loans (1130). This means that the low number of loans in these quarters is an aspect of the original dataset and has not been caused by the filtering of the data completed in the data wrangling phase. There are no loans recorded from Q1 2006 and Q1 2009 in the data so I will remove these quarters from the quarter ordering."
   ]
  },
  {
   "cell_type": "code",
   "execution_count": 37,
   "metadata": {},
   "outputs": [],
   "source": [
    "quarter_order = ['Q2 2006','Q3 2006','Q4 2006','Q1 2007','Q2 2007','Q3 2007','Q4 2007','Q1 2008','Q2 2008','Q3 2008',\n",
    "             'Q4 2008','Q2 2009','Q3 2009','Q4 2009','Q1 2010','Q2 2010','Q3 2010','Q4 2010','Q1 2011','Q2 2011',\n",
    "             'Q3 2011','Q4 2011','Q1 2012','Q2 2012','Q3 2012','Q4 2012','Q1 2013','Q2 2013','Q3 2013','Q4 2013']"
   ]
  },
  {
   "cell_type": "code",
   "execution_count": 38,
   "metadata": {},
   "outputs": [
    {
     "data": {
      "image/png": "[encoded data removed]",
      "text/plain": [
       "<matplotlib.figure.Figure at 0x2032d3f2a20>"
      ]
     },
     "metadata": {
      "needs_background": "light"
     },
     "output_type": "display_data"
    }
   ],
   "source": [
    "# Plot LoanOriginalAmount column\n",
    "binsize = 500\n",
    "bins = np.arange(loans['LoanOriginalAmount'].min(), loans['LoanOriginalAmount'].max()+binsize, binsize)\n",
    "\n",
    "plt.figure(figsize=[8, 5])\n",
    "plt.hist(data = loans, x = 'LoanOriginalAmount', bins = bins)\n",
    "plt.xlabel('Loan Amount ($)')\n",
    "plt.ylabel('Number of loans')\n",
    "plt.title('Original Loan Amounts')\n",
    "plt.show()"
   ]
  },
  {
   "cell_type": "code",
   "execution_count": 39,
   "metadata": {},
   "outputs": [
    {
     "data": {
      "image/png": "[encoded data removed]",
      "text/plain": [
       "<matplotlib.figure.Figure at 0x203368b12b0>"
      ]
     },
     "metadata": {
      "needs_background": "light"
     },
     "output_type": "display_data"
    }
   ],
   "source": [
    "loans['LoanOriginalAmount'].plot(kind='box', showfliers=False)\n",
    "plt.ylabel('Loan amount ($)')\n",
    "plt.title('Distribution of Original Loan Amounts');"
   ]
  },
  {
   "cell_type": "markdown",
   "metadata": {},
   "source": [
    "We can see that the majority of loans are for under \\\\$6000 although there are spikes at \\\\$10000, \\\\$15000, \\\\$20000 and \\\\$25000. This is probably due to people taking out loans that round out to a convenient figure (here at \\\\$5000 intervals). The median is around \\\\$4500 and most loans fall between \\\\$2000 and \\\\$8000.\n",
    "\n",
    "Due to the long tail I can also plot the Original Loan amounts on a log scale."
   ]
  },
  {
   "cell_type": "code",
   "execution_count": 40,
   "metadata": {},
   "outputs": [
    {
     "data": {
      "image/png": "[encoded data removed]",
      "text/plain": [
       "<matplotlib.figure.Figure at 0x2032d96dba8>"
      ]
     },
     "metadata": {
      "needs_background": "light"
     },
     "output_type": "display_data"
    }
   ],
   "source": [
    "log_binsize = 0.05\n",
    "bins = 10 ** np.arange(3, np.log10(loans['LoanOriginalAmount'].max())+log_binsize, log_binsize)\n",
    "\n",
    "plt.figure(figsize=[8, 5])\n",
    "plt.hist(data = loans, x = 'LoanOriginalAmount', bins = bins)\n",
    "plt.xscale('log')\n",
    "plt.xticks([500, 1e3, 2e3, 5e3, 1e4, 2e4], [500, '1k', '2k', '5k', '10k', '20k'])\n",
    "plt.xlabel('Loan Amount ($)')\n",
    "plt.show()"
   ]
  },
  {
   "cell_type": "markdown",
   "metadata": {},
   "source": [
    "The Original Loan Amount has a long tail with most of the amounts being below \\\\$6000 and a few higher amounts, with large spikes at each interval of \\\\$5000. The log of the Original Loan Amount consists of several large spikes at each $1k log Loan Amount."
   ]
  },
  {
   "cell_type": "code",
   "execution_count": 41,
   "metadata": {
    "scrolled": true
   },
   "outputs": [
    {
     "data": {
      "image/png": "[encoded data removed]",
      "text/plain": [
       "<matplotlib.figure.Figure at 0x2032d8d60b8>"
      ]
     },
     "metadata": {
      "needs_background": "light"
     },
     "output_type": "display_data"
    }
   ],
   "source": [
    "# Plot MonthlyLoanPayment column\n",
    "binsize = 25\n",
    "bins = np.arange(0, loans['MonthlyLoanPayment'].max()+binsize, binsize)\n",
    "\n",
    "plt.figure(figsize=[8, 5])\n",
    "plt.hist(data = loans, x = 'MonthlyLoanPayment', bins = bins)\n",
    "plt.xlabel('Monthly Loan Payment ($)')\n",
    "plt.ylabel('Number of loans')\n",
    "plt.title('Monthly Loan Payments')\n",
    "plt.show()"
   ]
  },
  {
   "cell_type": "code",
   "execution_count": 42,
   "metadata": {},
   "outputs": [
    {
     "data": {
      "image/png": "[encoded data removed]",
      "text/plain": [
       "<matplotlib.figure.Figure at 0x2032d947710>"
      ]
     },
     "metadata": {
      "needs_background": "light"
     },
     "output_type": "display_data"
    }
   ],
   "source": [
    "loans['MonthlyLoanPayment'].plot(kind='box', showfliers=False)\n",
    "plt.ylabel('Monthly Loan Payment ($)')\n",
    "plt.title('Distribution of Monthly Loan Payments');"
   ]
  },
  {
   "cell_type": "markdown",
   "metadata": {},
   "source": [
    "We can see with the Monthly Loan Payments that they are also heavily right skewed. There is a spike around \\\\$200 per month and most payments are below \\\\$500 per month. Around half of the payments fall between \\\\$100 and \\\\$300.\n",
    "\n",
    "I can plot a log scale of Monthly Loan Payments as it shows a long tail."
   ]
  },
  {
   "cell_type": "code",
   "execution_count": 43,
   "metadata": {},
   "outputs": [
    {
     "data": {
      "image/png": "[encoded data removed]",
      "text/plain": [
       "<matplotlib.figure.Figure at 0x20334d92320>"
      ]
     },
     "metadata": {
      "needs_background": "light"
     },
     "output_type": "display_data"
    }
   ],
   "source": [
    "log_binsize = 0.15\n",
    "bins = 10 ** np.arange(1, np.log10(loans['MonthlyLoanPayment'].max())+log_binsize, log_binsize)\n",
    "\n",
    "plt.figure(figsize=[8, 5])\n",
    "plt.hist(data = loans, x = 'MonthlyLoanPayment', bins = bins)\n",
    "plt.xscale('log')\n",
    "plt.xticks([50, 100, 200, 500, 1000, 2000], [50, 100, 200, 500, '1k', '2k'])\n",
    "plt.xlabel('Monthly Loan Payment ($)')\n",
    "plt.show()"
   ]
  },
  {
   "cell_type": "markdown",
   "metadata": {},
   "source": [
    "The Monthly Loan Payment has a long tail with most of the amounts being below \\\\$500 and a few higher amounts. The log of the Monthly Loan Payment shows a normal distibution with the median monthly payment being a bit under \\\\$200."
   ]
  },
  {
   "cell_type": "code",
   "execution_count": 44,
   "metadata": {},
   "outputs": [
    {
     "data": {
      "image/png": "[encoded data removed]",
      "text/plain": [
       "<matplotlib.figure.Figure at 0x203368d67b8>"
      ]
     },
     "metadata": {
      "needs_background": "light"
     },
     "output_type": "display_data"
    }
   ],
   "source": [
    "# Plot CreditScore column\n",
    "binsize = 25\n",
    "bins = np.arange(0, loans['CreditScore'].max()+binsize, binsize)\n",
    "\n",
    "plt.figure(figsize=[8, 5])\n",
    "plt.hist(data = loans, x = 'CreditScore', bins = bins)\n",
    "plt.xlabel('Credit Score')\n",
    "plt.ylabel('Number of loans')\n",
    "plt.title('Distribution of Credit Scores')\n",
    "plt.show()"
   ]
  },
  {
   "cell_type": "markdown",
   "metadata": {},
   "source": [
    "There are some Credit Scores that are close to 0. I will remove these outliers from this graph to get a clearer picture of the distribution of Credit Scores.."
   ]
  },
  {
   "cell_type": "code",
   "execution_count": 45,
   "metadata": {},
   "outputs": [
    {
     "data": {
      "text/plain": [
       "133"
      ]
     },
     "execution_count": 45,
     "metadata": {},
     "output_type": "execute_result"
    }
   ],
   "source": [
    "# Select borrowers with a credit score of 0\n",
    "zero_score = loans['CreditScore'] < 50\n",
    "zero_score.sum()"
   ]
  },
  {
   "cell_type": "code",
   "execution_count": 46,
   "metadata": {},
   "outputs": [
    {
     "data": {
      "image/png": "[encoded data removed]",
      "text/plain": [
       "<matplotlib.figure.Figure at 0x20334d92080>"
      ]
     },
     "metadata": {
      "needs_background": "light"
     },
     "output_type": "display_data"
    }
   ],
   "source": [
    "non_outliers = loans.loc[-zero_score,:]\n",
    "\n",
    "# Plot revised CreditScore column\n",
    "binsize = 20\n",
    "bins = np.arange(0, non_outliers['CreditScore'].max()+binsize, binsize)\n",
    "\n",
    "plt.figure(figsize=[8, 5])\n",
    "plt.hist(data = non_outliers, x = 'CreditScore', bins = bins)\n",
    "plt.xlabel('Credit Score')\n",
    "plt.ylabel('Number of loans')\n",
    "plt.title('Distribution of Credit Scores')\n",
    "plt.xlim(400,900)\n",
    "plt.show()"
   ]
  },
  {
   "cell_type": "markdown",
   "metadata": {},
   "source": [
    "With the outlier credit scores removed we see that at the lower scores the data increases in spikes, levels out around 650 and then drops away fairly consistently to reach its max near 900."
   ]
  },
  {
   "cell_type": "code",
   "execution_count": 47,
   "metadata": {},
   "outputs": [
    {
     "data": {
      "image/png": "[encoded data removed]",
      "text/plain": [
       "<matplotlib.figure.Figure at 0x203351282b0>"
      ]
     },
     "metadata": {
      "needs_background": "light"
     },
     "output_type": "display_data"
    }
   ],
   "source": [
    "# Plot BorrowerAPR column\n",
    "binsize = 0.01\n",
    "bins = np.arange(0, loans['BorrowerAPR'].max()+binsize, binsize)\n",
    "\n",
    "plt.figure(figsize=[8, 5])\n",
    "plt.hist(data = loans, x = 'BorrowerAPR', bins = bins)\n",
    "plt.xlabel('Borrower APR')\n",
    "plt.ylabel('Number of loans')\n",
    "plt.title('Distribution of Borrower APR')\n",
    "plt.show()"
   ]
  },
  {
   "cell_type": "markdown",
   "metadata": {},
   "source": [
    "The borrower APR are fairly evenly spread between around 0.1 to 0.3 with a large spike at 0.36."
   ]
  },
  {
   "cell_type": "code",
   "execution_count": 48,
   "metadata": {},
   "outputs": [
    {
     "data": {
      "image/png": "[encoded data removed]",
      "text/plain": [
       "<matplotlib.figure.Figure at 0x2032d9363c8>"
      ]
     },
     "metadata": {
      "needs_background": "light"
     },
     "output_type": "display_data"
    }
   ],
   "source": [
    "# Plot DebtToIncomeRatio column\n",
    "binsize = 0.05\n",
    "bins = np.arange(0, loans['DebtToIncomeRatio'].max()+binsize, binsize)\n",
    "\n",
    "plt.figure(figsize=[8, 5])\n",
    "plt.hist(data = loans, x = 'DebtToIncomeRatio', bins = bins)\n",
    "plt.xlabel('Debt to Income Ratio')\n",
    "plt.ylabel('Number of loans')\n",
    "plt.title('Distribution of Debt to Income Ratios')\n",
    "plt.show()"
   ]
  },
  {
   "cell_type": "code",
   "execution_count": 49,
   "metadata": {},
   "outputs": [
    {
     "data": {
      "image/png": "[encoded data removed]",
      "text/plain": [
       "<matplotlib.figure.Figure at 0x203354af048>"
      ]
     },
     "metadata": {
      "needs_background": "light"
     },
     "output_type": "display_data"
    }
   ],
   "source": [
    "loans['DebtToIncomeRatio'].plot(kind='box', showfliers=False)\n",
    "plt.ylabel('Debt-to-income ratio')\n",
    "plt.title('Distribution of Debt-to-income Ratios');"
   ]
  },
  {
   "cell_type": "markdown",
   "metadata": {},
   "source": [
    "There are a number of outliers above 10 (the highest allowed ratio) which make the graph difficult to read. I will remove these and plot the graph again."
   ]
  },
  {
   "cell_type": "code",
   "execution_count": 50,
   "metadata": {},
   "outputs": [
    {
     "data": {
      "text/plain": [
       "248"
      ]
     },
     "execution_count": 50,
     "metadata": {},
     "output_type": "execute_result"
    }
   ],
   "source": [
    "outliers = loans['DebtToIncomeRatio'] > 9.5\n",
    "outliers.sum()"
   ]
  },
  {
   "cell_type": "code",
   "execution_count": 51,
   "metadata": {},
   "outputs": [
    {
     "data": {
      "image/png": "[encoded data removed]",
      "text/plain": [
       "<matplotlib.figure.Figure at 0x2032d70dc50>"
      ]
     },
     "metadata": {
      "needs_background": "light"
     },
     "output_type": "display_data"
    }
   ],
   "source": [
    "without_outliers = loans.loc[-outliers,:]\n",
    "\n",
    "# Replot DebtToIncomeRatio column\n",
    "binsize = 0.02\n",
    "bins = np.arange(0, without_outliers['DebtToIncomeRatio'].max()+binsize, binsize)\n",
    "\n",
    "plt.figure(figsize=[8, 5])\n",
    "plt.hist(data = without_outliers, x = 'DebtToIncomeRatio', bins = bins)\n",
    "plt.xlabel('Debt to Income Ratio')\n",
    "plt.ylabel('Number of loans')\n",
    "plt.title('Distribution of Debt to Income Ratios')\n",
    "plt.xlim(0,0.75)\n",
    "plt.show()"
   ]
  },
  {
   "cell_type": "markdown",
   "metadata": {},
   "source": [
    "Here we can see that the distribution is skewed to the right with most of the ratios being below 0.5. The majority of ratios are between 0.1 and 0.3. I will keep the outliers in the loan data as I want to know if these high debt-to-income ratios affect loan outcome."
   ]
  },
  {
   "cell_type": "code",
   "execution_count": 52,
   "metadata": {},
   "outputs": [
    {
     "data": {
      "image/png": "[encoded data removed]",
      "text/plain": [
       "<matplotlib.figure.Figure at 0x2032d7225f8>"
      ]
     },
     "metadata": {
      "needs_background": "light"
     },
     "output_type": "display_data"
    }
   ],
   "source": [
    "# Plot StatedMonthlyIncome column\n",
    "binsize = 500\n",
    "bins = np.arange(0, loans['StatedMonthlyIncome'].max()+binsize, binsize)\n",
    "\n",
    "plt.figure(figsize=[8, 5])\n",
    "plt.hist(data = loans, x = 'StatedMonthlyIncome', bins = bins)\n",
    "plt.xlabel('Stated Monthly Income ($)')\n",
    "plt.ylabel('Number of loans')\n",
    "plt.title('Stated Monthly Income Distribution')\n",
    "plt.show()"
   ]
  },
  {
   "cell_type": "markdown",
   "metadata": {},
   "source": [
    "Here we can see again a few outliers have made the graph of Stated Monthly Income very difficult to interpret. Let's try removing these outliers."
   ]
  },
  {
   "cell_type": "code",
   "execution_count": 53,
   "metadata": {},
   "outputs": [
    {
     "data": {
      "text/plain": [
       "142"
      ]
     },
     "execution_count": 53,
     "metadata": {},
     "output_type": "execute_result"
    }
   ],
   "source": [
    "income_outliers = loans['StatedMonthlyIncome'] > 30000\n",
    "income_outliers.sum()"
   ]
  },
  {
   "cell_type": "code",
   "execution_count": 54,
   "metadata": {},
   "outputs": [
    {
     "data": {
      "image/png": "[encoded data removed]",
      "text/plain": [
       "<matplotlib.figure.Figure at 0x2032ec3d710>"
      ]
     },
     "metadata": {
      "needs_background": "light"
     },
     "output_type": "display_data"
    }
   ],
   "source": [
    "without_outliers = loans.loc[-income_outliers,:]\n",
    "\n",
    "# Replot the StatedMonthlyIncome graph\n",
    "binsize = 500\n",
    "bins = np.arange(0, without_outliers['StatedMonthlyIncome'].max()+binsize, binsize)\n",
    "\n",
    "plt.figure(figsize=[8, 5])\n",
    "plt.hist(data = without_outliers, x = 'StatedMonthlyIncome', bins = bins)\n",
    "plt.xlabel('Stated Monthly Income ($)')\n",
    "plt.ylabel('Number of loans')\n",
    "plt.title('Stated Monthly Income Distribution')\n",
    "plt.show()"
   ]
  },
  {
   "cell_type": "markdown",
   "metadata": {},
   "source": [
    "The plot now shows a right skew with most of the borrowers earning less than \\\\$10000 per month. There are a large number of borrowers that do not appear to have any stated income. I want to check if they are missing other data that suggests that they are missing the income rather than not earning any income."
   ]
  },
  {
   "cell_type": "code",
   "execution_count": 55,
   "metadata": {},
   "outputs": [
    {
     "name": "stdout",
     "output_type": "stream",
     "text": [
      "<class 'pandas.core.frame.DataFrame'>\n",
      "Int64Index: 1099 entries, 78 to 113803\n",
      "Data columns (total 16 columns):\n",
      "Term                      1099 non-null category\n",
      "BorrowerAPR               1099 non-null float64\n",
      "ListingCategory           1099 non-null category\n",
      "EmploymentStatus          1099 non-null category\n",
      "HomeOwner                 1099 non-null bool\n",
      "TotalCreditLines          1095 non-null float64\n",
      "TotalDelinquencies        1093 non-null float64\n",
      "DebtToIncomeRatio         11 non-null float64\n",
      "StatedMonthlyIncome       1099 non-null float64\n",
      "LoanNumber                1099 non-null object\n",
      "LoanOriginalAmount        1099 non-null int64\n",
      "LoanOriginationQuarter    1099 non-null category\n",
      "MemberKey                 1099 non-null object\n",
      "MonthlyLoanPayment        1099 non-null float64\n",
      "LoanCompleted             1099 non-null category\n",
      "CreditScore               1099 non-null float64\n",
      "dtypes: bool(1), category(5), float64(7), int64(1), object(2)\n",
      "memory usage: 103.7+ KB\n"
     ]
    }
   ],
   "source": [
    "no_income = loans[loans['StatedMonthlyIncome'] == 0]\n",
    "no_income.info()"
   ]
  },
  {
   "cell_type": "code",
   "execution_count": 56,
   "metadata": {},
   "outputs": [
    {
     "data": {
      "text/html": [
       "<div>\n",
       "<style scoped>\n",
       "    .dataframe tbody tr th:only-of-type {\n",
       "        vertical-align: middle;\n",
       "    }\n",
       "\n",
       "    .dataframe tbody tr th {\n",
       "        vertical-align: top;\n",
       "    }\n",
       "\n",
       "    .dataframe thead th {\n",
       "        text-align: right;\n",
       "    }\n",
       "</style>\n",
       "<table border=\"1\" class=\"dataframe\">\n",
       "  <thead>\n",
       "    <tr style=\"text-align: right;\">\n",
       "      <th></th>\n",
       "      <th>Term</th>\n",
       "      <th>BorrowerAPR</th>\n",
       "      <th>ListingCategory</th>\n",
       "      <th>EmploymentStatus</th>\n",
       "      <th>HomeOwner</th>\n",
       "      <th>TotalCreditLines</th>\n",
       "      <th>TotalDelinquencies</th>\n",
       "      <th>DebtToIncomeRatio</th>\n",
       "      <th>StatedMonthlyIncome</th>\n",
       "      <th>LoanNumber</th>\n",
       "      <th>LoanOriginalAmount</th>\n",
       "      <th>LoanOriginationQuarter</th>\n",
       "      <th>MemberKey</th>\n",
       "      <th>MonthlyLoanPayment</th>\n",
       "      <th>LoanCompleted</th>\n",
       "      <th>CreditScore</th>\n",
       "    </tr>\n",
       "  </thead>\n",
       "  <tbody>\n",
       "    <tr>\n",
       "      <th>78</th>\n",
       "      <td>36</td>\n",
       "      <td>0.18454</td>\n",
       "      <td>Business</td>\n",
       "      <td>Full-time</td>\n",
       "      <td>True</td>\n",
       "      <td>26.0</td>\n",
       "      <td>0.0</td>\n",
       "      <td>NaN</td>\n",
       "      <td>0.0</td>\n",
       "      <td>33852</td>\n",
       "      <td>4800</td>\n",
       "      <td>Q3 2008</td>\n",
       "      <td>D77734052911579724BCDD5</td>\n",
       "      <td>171.13</td>\n",
       "      <td>Not completed</td>\n",
       "      <td>729.5</td>\n",
       "    </tr>\n",
       "    <tr>\n",
       "      <th>100</th>\n",
       "      <td>36</td>\n",
       "      <td>0.35356</td>\n",
       "      <td>Household Expenses</td>\n",
       "      <td>Not employed</td>\n",
       "      <td>False</td>\n",
       "      <td>10.0</td>\n",
       "      <td>0.0</td>\n",
       "      <td>NaN</td>\n",
       "      <td>0.0</td>\n",
       "      <td>82947</td>\n",
       "      <td>4000</td>\n",
       "      <td>Q1 2013</td>\n",
       "      <td>CEE83539008163122ED9B62</td>\n",
       "      <td>172.76</td>\n",
       "      <td>Not completed</td>\n",
       "      <td>729.5</td>\n",
       "    </tr>\n",
       "    <tr>\n",
       "      <th>108</th>\n",
       "      <td>36</td>\n",
       "      <td>0.28320</td>\n",
       "      <td>Debt Consolidation</td>\n",
       "      <td>Full-time</td>\n",
       "      <td>False</td>\n",
       "      <td>21.0</td>\n",
       "      <td>0.0</td>\n",
       "      <td>NaN</td>\n",
       "      <td>0.0</td>\n",
       "      <td>30830</td>\n",
       "      <td>14000</td>\n",
       "      <td>Q2 2008</td>\n",
       "      <td>34F93419082777341558B78</td>\n",
       "      <td>564.07</td>\n",
       "      <td>Completed</td>\n",
       "      <td>649.5</td>\n",
       "    </tr>\n",
       "    <tr>\n",
       "      <th>170</th>\n",
       "      <td>36</td>\n",
       "      <td>0.28851</td>\n",
       "      <td>Other</td>\n",
       "      <td>Not employed</td>\n",
       "      <td>True</td>\n",
       "      <td>16.0</td>\n",
       "      <td>0.0</td>\n",
       "      <td>NaN</td>\n",
       "      <td>0.0</td>\n",
       "      <td>63781</td>\n",
       "      <td>10000</td>\n",
       "      <td>Q2 2012</td>\n",
       "      <td>0B3A35450946276237DF676</td>\n",
       "      <td>397.55</td>\n",
       "      <td>Completed</td>\n",
       "      <td>769.5</td>\n",
       "    </tr>\n",
       "    <tr>\n",
       "      <th>186</th>\n",
       "      <td>36</td>\n",
       "      <td>0.35797</td>\n",
       "      <td>Home Improvement</td>\n",
       "      <td>Not employed</td>\n",
       "      <td>False</td>\n",
       "      <td>43.0</td>\n",
       "      <td>83.0</td>\n",
       "      <td>NaN</td>\n",
       "      <td>0.0</td>\n",
       "      <td>60674</td>\n",
       "      <td>4000</td>\n",
       "      <td>Q1 2012</td>\n",
       "      <td>A2603539184865789204203</td>\n",
       "      <td>173.71</td>\n",
       "      <td>Not completed</td>\n",
       "      <td>669.5</td>\n",
       "    </tr>\n",
       "    <tr>\n",
       "      <th>332</th>\n",
       "      <td>36</td>\n",
       "      <td>0.25650</td>\n",
       "      <td>Not Available</td>\n",
       "      <td>Not available</td>\n",
       "      <td>True</td>\n",
       "      <td>18.0</td>\n",
       "      <td>NaN</td>\n",
       "      <td>0.10361</td>\n",
       "      <td>0.0</td>\n",
       "      <td>668</td>\n",
       "      <td>1000</td>\n",
       "      <td>Q2 2006</td>\n",
       "      <td>4E95336440121524707AE42</td>\n",
       "      <td>39.10</td>\n",
       "      <td>Not completed</td>\n",
       "      <td>529.5</td>\n",
       "    </tr>\n",
       "    <tr>\n",
       "      <th>335</th>\n",
       "      <td>36</td>\n",
       "      <td>0.35797</td>\n",
       "      <td>Other</td>\n",
       "      <td>Not employed</td>\n",
       "      <td>False</td>\n",
       "      <td>3.0</td>\n",
       "      <td>0.0</td>\n",
       "      <td>NaN</td>\n",
       "      <td>0.0</td>\n",
       "      <td>62667</td>\n",
       "      <td>2000</td>\n",
       "      <td>Q1 2012</td>\n",
       "      <td>F1F735415698555052DA0DF</td>\n",
       "      <td>86.85</td>\n",
       "      <td>Completed</td>\n",
       "      <td>769.5</td>\n",
       "    </tr>\n",
       "    <tr>\n",
       "      <th>688</th>\n",
       "      <td>36</td>\n",
       "      <td>0.30532</td>\n",
       "      <td>Other</td>\n",
       "      <td>Not employed</td>\n",
       "      <td>False</td>\n",
       "      <td>22.0</td>\n",
       "      <td>0.0</td>\n",
       "      <td>NaN</td>\n",
       "      <td>0.0</td>\n",
       "      <td>51593</td>\n",
       "      <td>2500</td>\n",
       "      <td>Q3 2011</td>\n",
       "      <td>E1583504823481507B7F8A0</td>\n",
       "      <td>102.05</td>\n",
       "      <td>Completed</td>\n",
       "      <td>729.5</td>\n",
       "    </tr>\n",
       "    <tr>\n",
       "      <th>772</th>\n",
       "      <td>36</td>\n",
       "      <td>0.10491</td>\n",
       "      <td>Debt Consolidation</td>\n",
       "      <td>Full-time</td>\n",
       "      <td>True</td>\n",
       "      <td>25.0</td>\n",
       "      <td>0.0</td>\n",
       "      <td>NaN</td>\n",
       "      <td>0.0</td>\n",
       "      <td>29671</td>\n",
       "      <td>3500</td>\n",
       "      <td>Q2 2008</td>\n",
       "      <td>33313390658251495A144FE</td>\n",
       "      <td>112.61</td>\n",
       "      <td>Completed</td>\n",
       "      <td>829.5</td>\n",
       "    </tr>\n",
       "    <tr>\n",
       "      <th>917</th>\n",
       "      <td>36</td>\n",
       "      <td>0.15713</td>\n",
       "      <td>Not Available</td>\n",
       "      <td>Not available</td>\n",
       "      <td>True</td>\n",
       "      <td>17.0</td>\n",
       "      <td>0.0</td>\n",
       "      <td>NaN</td>\n",
       "      <td>0.0</td>\n",
       "      <td>2552</td>\n",
       "      <td>8000</td>\n",
       "      <td>Q3 2006</td>\n",
       "      <td>4D1333648643890119C04A5</td>\n",
       "      <td>274.24</td>\n",
       "      <td>Completed</td>\n",
       "      <td>729.5</td>\n",
       "    </tr>\n",
       "  </tbody>\n",
       "</table>\n",
       "</div>"
      ],
      "text/plain": [
       "    Term  BorrowerAPR     ListingCategory EmploymentStatus  HomeOwner  \\\n",
       "78    36      0.18454            Business        Full-time       True   \n",
       "100   36      0.35356  Household Expenses     Not employed      False   \n",
       "108   36      0.28320  Debt Consolidation        Full-time      False   \n",
       "170   36      0.28851               Other     Not employed       True   \n",
       "186   36      0.35797    Home Improvement     Not employed      False   \n",
       "332   36      0.25650       Not Available    Not available       True   \n",
       "335   36      0.35797               Other     Not employed      False   \n",
       "688   36      0.30532               Other     Not employed      False   \n",
       "772   36      0.10491  Debt Consolidation        Full-time       True   \n",
       "917   36      0.15713       Not Available    Not available       True   \n",
       "\n",
       "     TotalCreditLines  TotalDelinquencies  DebtToIncomeRatio  \\\n",
       "78               26.0                 0.0                NaN   \n",
       "100              10.0                 0.0                NaN   \n",
       "108              21.0                 0.0                NaN   \n",
       "170              16.0                 0.0                NaN   \n",
       "186              43.0                83.0                NaN   \n",
       "332              18.0                 NaN            0.10361   \n",
       "335               3.0                 0.0                NaN   \n",
       "688              22.0                 0.0                NaN   \n",
       "772              25.0                 0.0                NaN   \n",
       "917              17.0                 0.0                NaN   \n",
       "\n",
       "     StatedMonthlyIncome LoanNumber  LoanOriginalAmount  \\\n",
       "78                   0.0      33852                4800   \n",
       "100                  0.0      82947                4000   \n",
       "108                  0.0      30830               14000   \n",
       "170                  0.0      63781               10000   \n",
       "186                  0.0      60674                4000   \n",
       "332                  0.0        668                1000   \n",
       "335                  0.0      62667                2000   \n",
       "688                  0.0      51593                2500   \n",
       "772                  0.0      29671                3500   \n",
       "917                  0.0       2552                8000   \n",
       "\n",
       "    LoanOriginationQuarter                MemberKey  MonthlyLoanPayment  \\\n",
       "78                 Q3 2008  D77734052911579724BCDD5              171.13   \n",
       "100                Q1 2013  CEE83539008163122ED9B62              172.76   \n",
       "108                Q2 2008  34F93419082777341558B78              564.07   \n",
       "170                Q2 2012  0B3A35450946276237DF676              397.55   \n",
       "186                Q1 2012  A2603539184865789204203              173.71   \n",
       "332                Q2 2006  4E95336440121524707AE42               39.10   \n",
       "335                Q1 2012  F1F735415698555052DA0DF               86.85   \n",
       "688                Q3 2011  E1583504823481507B7F8A0              102.05   \n",
       "772                Q2 2008  33313390658251495A144FE              112.61   \n",
       "917                Q3 2006  4D1333648643890119C04A5              274.24   \n",
       "\n",
       "     LoanCompleted  CreditScore  \n",
       "78   Not completed        729.5  \n",
       "100  Not completed        729.5  \n",
       "108      Completed        649.5  \n",
       "170      Completed        769.5  \n",
       "186  Not completed        669.5  \n",
       "332  Not completed        529.5  \n",
       "335      Completed        769.5  \n",
       "688      Completed        729.5  \n",
       "772      Completed        829.5  \n",
       "917      Completed        729.5  "
      ]
     },
     "execution_count": 56,
     "metadata": {},
     "output_type": "execute_result"
    }
   ],
   "source": [
    "no_income.head(10)"
   ]
  },
  {
   "cell_type": "markdown",
   "metadata": {},
   "source": [
    "There are 1099 loans that have a stated monthly income of \\\\$0. Looking at these loans there is no obvious data missing or patterns to the data (e.g. all from specific quarters). The debt-to-income-ratio is missing for most of them, but given that their income is stated as 0 this makes sense. While it is difficult to believe a loan would be given to a borrower with no income, I do not have anything to suggest that these rows are inaccurate so I will keep them in the data.\n",
    "\n",
    "There appears from the graph of Stated Monthly Income that there are around 1800 loans with Stated Monthly Income less than \\\\$500 so I should check the other low values."
   ]
  },
  {
   "cell_type": "code",
   "execution_count": 57,
   "metadata": {},
   "outputs": [
    {
     "name": "stdout",
     "output_type": "stream",
     "text": [
      "<class 'pandas.core.frame.DataFrame'>\n",
      "Int64Index: 645 entries, 42 to 113626\n",
      "Data columns (total 16 columns):\n",
      "Term                      645 non-null category\n",
      "BorrowerAPR               645 non-null float64\n",
      "ListingCategory           645 non-null category\n",
      "EmploymentStatus          645 non-null category\n",
      "HomeOwner                 645 non-null bool\n",
      "TotalCreditLines          631 non-null float64\n",
      "TotalDelinquencies        626 non-null float64\n",
      "DebtToIncomeRatio         568 non-null float64\n",
      "StatedMonthlyIncome       645 non-null float64\n",
      "LoanNumber                645 non-null object\n",
      "LoanOriginalAmount        645 non-null int64\n",
      "LoanOriginationQuarter    645 non-null category\n",
      "MemberKey                 645 non-null object\n",
      "MonthlyLoanPayment        645 non-null float64\n",
      "LoanCompleted             645 non-null category\n",
      "CreditScore               645 non-null float64\n",
      "dtypes: bool(1), category(5), float64(7), int64(1), object(2)\n",
      "memory usage: 62.1+ KB\n"
     ]
    }
   ],
   "source": [
    "# Find loans below $500 per month of stated monthly income\n",
    "low_income =  loans[loans['StatedMonthlyIncome'] < 500]\n",
    "# Remove loans of $0 per month stated monthly income\n",
    "low_income =  low_income[low_income['StatedMonthlyIncome'] != 0]\n",
    "low_income.info()"
   ]
  },
  {
   "cell_type": "code",
   "execution_count": 58,
   "metadata": {},
   "outputs": [
    {
     "data": {
      "text/html": [
       "<div>\n",
       "<style scoped>\n",
       "    .dataframe tbody tr th:only-of-type {\n",
       "        vertical-align: middle;\n",
       "    }\n",
       "\n",
       "    .dataframe tbody tr th {\n",
       "        vertical-align: top;\n",
       "    }\n",
       "\n",
       "    .dataframe thead th {\n",
       "        text-align: right;\n",
       "    }\n",
       "</style>\n",
       "<table border=\"1\" class=\"dataframe\">\n",
       "  <thead>\n",
       "    <tr style=\"text-align: right;\">\n",
       "      <th></th>\n",
       "      <th>Term</th>\n",
       "      <th>BorrowerAPR</th>\n",
       "      <th>ListingCategory</th>\n",
       "      <th>EmploymentStatus</th>\n",
       "      <th>HomeOwner</th>\n",
       "      <th>TotalCreditLines</th>\n",
       "      <th>TotalDelinquencies</th>\n",
       "      <th>DebtToIncomeRatio</th>\n",
       "      <th>StatedMonthlyIncome</th>\n",
       "      <th>LoanNumber</th>\n",
       "      <th>LoanOriginalAmount</th>\n",
       "      <th>LoanOriginationQuarter</th>\n",
       "      <th>MemberKey</th>\n",
       "      <th>MonthlyLoanPayment</th>\n",
       "      <th>LoanCompleted</th>\n",
       "      <th>CreditScore</th>\n",
       "    </tr>\n",
       "  </thead>\n",
       "  <tbody>\n",
       "    <tr>\n",
       "      <th>42</th>\n",
       "      <td>36</td>\n",
       "      <td>0.30300</td>\n",
       "      <td>Not Available</td>\n",
       "      <td>Not available</td>\n",
       "      <td>False</td>\n",
       "      <td>20.0</td>\n",
       "      <td>3.0</td>\n",
       "      <td>0.27</td>\n",
       "      <td>416.666667</td>\n",
       "      <td>7286</td>\n",
       "      <td>1500</td>\n",
       "      <td>Q1 2007</td>\n",
       "      <td>5CCA33798155110380A1C68</td>\n",
       "      <td>62.86</td>\n",
       "      <td>Not completed</td>\n",
       "      <td>529.5</td>\n",
       "    </tr>\n",
       "    <tr>\n",
       "      <th>146</th>\n",
       "      <td>36</td>\n",
       "      <td>0.09939</td>\n",
       "      <td>Not Available</td>\n",
       "      <td>Not available</td>\n",
       "      <td>False</td>\n",
       "      <td>8.0</td>\n",
       "      <td>0.0</td>\n",
       "      <td>0.07</td>\n",
       "      <td>0.083333</td>\n",
       "      <td>2902</td>\n",
       "      <td>4000</td>\n",
       "      <td>Q3 2006</td>\n",
       "      <td>862A3365213342789F57EB7</td>\n",
       "      <td>127.66</td>\n",
       "      <td>Completed</td>\n",
       "      <td>749.5</td>\n",
       "    </tr>\n",
       "    <tr>\n",
       "      <th>184</th>\n",
       "      <td>36</td>\n",
       "      <td>0.26590</td>\n",
       "      <td>Not Available</td>\n",
       "      <td>Not available</td>\n",
       "      <td>False</td>\n",
       "      <td>3.0</td>\n",
       "      <td>2.0</td>\n",
       "      <td>0.49</td>\n",
       "      <td>200.000000</td>\n",
       "      <td>4846</td>\n",
       "      <td>1200</td>\n",
       "      <td>Q4 2006</td>\n",
       "      <td>9C4B337401069034703BFF6</td>\n",
       "      <td>47.71</td>\n",
       "      <td>Not completed</td>\n",
       "      <td>489.5</td>\n",
       "    </tr>\n",
       "    <tr>\n",
       "      <th>226</th>\n",
       "      <td>36</td>\n",
       "      <td>0.11749</td>\n",
       "      <td>Not Available</td>\n",
       "      <td>Full-time</td>\n",
       "      <td>True</td>\n",
       "      <td>47.0</td>\n",
       "      <td>0.0</td>\n",
       "      <td>10.01</td>\n",
       "      <td>0.083333</td>\n",
       "      <td>8239</td>\n",
       "      <td>1000</td>\n",
       "      <td>Q1 2007</td>\n",
       "      <td>0E243382750780180A98377</td>\n",
       "      <td>32.27</td>\n",
       "      <td>Completed</td>\n",
       "      <td>609.5</td>\n",
       "    </tr>\n",
       "    <tr>\n",
       "      <th>576</th>\n",
       "      <td>36</td>\n",
       "      <td>0.10505</td>\n",
       "      <td>Not Available</td>\n",
       "      <td>Retired</td>\n",
       "      <td>False</td>\n",
       "      <td>13.0</td>\n",
       "      <td>0.0</td>\n",
       "      <td>10.01</td>\n",
       "      <td>0.083333</td>\n",
       "      <td>13269</td>\n",
       "      <td>1500</td>\n",
       "      <td>Q2 2007</td>\n",
       "      <td>574C3374106242551D3C75E</td>\n",
       "      <td>47.94</td>\n",
       "      <td>Completed</td>\n",
       "      <td>809.5</td>\n",
       "    </tr>\n",
       "    <tr>\n",
       "      <th>794</th>\n",
       "      <td>36</td>\n",
       "      <td>0.29776</td>\n",
       "      <td>Not Available</td>\n",
       "      <td>Not available</td>\n",
       "      <td>False</td>\n",
       "      <td>NaN</td>\n",
       "      <td>NaN</td>\n",
       "      <td>NaN</td>\n",
       "      <td>115.583333</td>\n",
       "      <td>7697</td>\n",
       "      <td>4000</td>\n",
       "      <td>Q1 2007</td>\n",
       "      <td>60493379289275032D64C21</td>\n",
       "      <td>167.62</td>\n",
       "      <td>Completed</td>\n",
       "      <td>9.5</td>\n",
       "    </tr>\n",
       "    <tr>\n",
       "      <th>895</th>\n",
       "      <td>36</td>\n",
       "      <td>0.35797</td>\n",
       "      <td>Household Expenses</td>\n",
       "      <td>Self-employed</td>\n",
       "      <td>True</td>\n",
       "      <td>50.0</td>\n",
       "      <td>0.0</td>\n",
       "      <td>NaN</td>\n",
       "      <td>14.583333</td>\n",
       "      <td>59893</td>\n",
       "      <td>4000</td>\n",
       "      <td>Q1 2012</td>\n",
       "      <td>EDCB35372434759063A6711</td>\n",
       "      <td>173.71</td>\n",
       "      <td>Not completed</td>\n",
       "      <td>709.5</td>\n",
       "    </tr>\n",
       "    <tr>\n",
       "      <th>1242</th>\n",
       "      <td>36</td>\n",
       "      <td>0.11415</td>\n",
       "      <td>Not Available</td>\n",
       "      <td>Not employed</td>\n",
       "      <td>False</td>\n",
       "      <td>12.0</td>\n",
       "      <td>0.0</td>\n",
       "      <td>10.01</td>\n",
       "      <td>0.083333</td>\n",
       "      <td>16053</td>\n",
       "      <td>3000</td>\n",
       "      <td>Q2 2007</td>\n",
       "      <td>C4C33365996309580AFAC5C</td>\n",
       "      <td>97.82</td>\n",
       "      <td>Completed</td>\n",
       "      <td>749.5</td>\n",
       "    </tr>\n",
       "    <tr>\n",
       "      <th>1356</th>\n",
       "      <td>36</td>\n",
       "      <td>0.14982</td>\n",
       "      <td>Debt Consolidation</td>\n",
       "      <td>Part-time</td>\n",
       "      <td>False</td>\n",
       "      <td>5.0</td>\n",
       "      <td>12.0</td>\n",
       "      <td>3.49</td>\n",
       "      <td>48.333333</td>\n",
       "      <td>28751</td>\n",
       "      <td>1450</td>\n",
       "      <td>Q1 2008</td>\n",
       "      <td>085E3414289581697F4FC40</td>\n",
       "      <td>48.74</td>\n",
       "      <td>Completed</td>\n",
       "      <td>529.5</td>\n",
       "    </tr>\n",
       "    <tr>\n",
       "      <th>1544</th>\n",
       "      <td>36</td>\n",
       "      <td>0.29205</td>\n",
       "      <td>Business</td>\n",
       "      <td>Part-time</td>\n",
       "      <td>False</td>\n",
       "      <td>5.0</td>\n",
       "      <td>0.0</td>\n",
       "      <td>0.14</td>\n",
       "      <td>416.666667</td>\n",
       "      <td>37539</td>\n",
       "      <td>1000</td>\n",
       "      <td>Q4 2008</td>\n",
       "      <td>F3D3343273718063869EBAE</td>\n",
       "      <td>38.87</td>\n",
       "      <td>Not completed</td>\n",
       "      <td>589.5</td>\n",
       "    </tr>\n",
       "  </tbody>\n",
       "</table>\n",
       "</div>"
      ],
      "text/plain": [
       "     Term  BorrowerAPR     ListingCategory EmploymentStatus  HomeOwner  \\\n",
       "42     36      0.30300       Not Available    Not available      False   \n",
       "146    36      0.09939       Not Available    Not available      False   \n",
       "184    36      0.26590       Not Available    Not available      False   \n",
       "226    36      0.11749       Not Available        Full-time       True   \n",
       "576    36      0.10505       Not Available          Retired      False   \n",
       "794    36      0.29776       Not Available    Not available      False   \n",
       "895    36      0.35797  Household Expenses    Self-employed       True   \n",
       "1242   36      0.11415       Not Available     Not employed      False   \n",
       "1356   36      0.14982  Debt Consolidation        Part-time      False   \n",
       "1544   36      0.29205            Business        Part-time      False   \n",
       "\n",
       "      TotalCreditLines  TotalDelinquencies  DebtToIncomeRatio  \\\n",
       "42                20.0                 3.0               0.27   \n",
       "146                8.0                 0.0               0.07   \n",
       "184                3.0                 2.0               0.49   \n",
       "226               47.0                 0.0              10.01   \n",
       "576               13.0                 0.0              10.01   \n",
       "794                NaN                 NaN                NaN   \n",
       "895               50.0                 0.0                NaN   \n",
       "1242              12.0                 0.0              10.01   \n",
       "1356               5.0                12.0               3.49   \n",
       "1544               5.0                 0.0               0.14   \n",
       "\n",
       "      StatedMonthlyIncome LoanNumber  LoanOriginalAmount  \\\n",
       "42             416.666667       7286                1500   \n",
       "146              0.083333       2902                4000   \n",
       "184            200.000000       4846                1200   \n",
       "226              0.083333       8239                1000   \n",
       "576              0.083333      13269                1500   \n",
       "794            115.583333       7697                4000   \n",
       "895             14.583333      59893                4000   \n",
       "1242             0.083333      16053                3000   \n",
       "1356            48.333333      28751                1450   \n",
       "1544           416.666667      37539                1000   \n",
       "\n",
       "     LoanOriginationQuarter                MemberKey  MonthlyLoanPayment  \\\n",
       "42                  Q1 2007  5CCA33798155110380A1C68               62.86   \n",
       "146                 Q3 2006  862A3365213342789F57EB7              127.66   \n",
       "184                 Q4 2006  9C4B337401069034703BFF6               47.71   \n",
       "226                 Q1 2007  0E243382750780180A98377               32.27   \n",
       "576                 Q2 2007  574C3374106242551D3C75E               47.94   \n",
       "794                 Q1 2007  60493379289275032D64C21              167.62   \n",
       "895                 Q1 2012  EDCB35372434759063A6711              173.71   \n",
       "1242                Q2 2007  C4C33365996309580AFAC5C               97.82   \n",
       "1356                Q1 2008  085E3414289581697F4FC40               48.74   \n",
       "1544                Q4 2008  F3D3343273718063869EBAE               38.87   \n",
       "\n",
       "      LoanCompleted  CreditScore  \n",
       "42    Not completed        529.5  \n",
       "146       Completed        749.5  \n",
       "184   Not completed        489.5  \n",
       "226       Completed        609.5  \n",
       "576       Completed        809.5  \n",
       "794       Completed          9.5  \n",
       "895   Not completed        709.5  \n",
       "1242      Completed        749.5  \n",
       "1356      Completed        529.5  \n",
       "1544  Not completed        589.5  "
      ]
     },
     "execution_count": 58,
     "metadata": {},
     "output_type": "execute_result"
    }
   ],
   "source": [
    "low_income.head(10)"
   ]
  },
  {
   "cell_type": "markdown",
   "metadata": {},
   "source": [
    "Again there is no clear pattern to the low income loans that suggests that the data is inaccurate. I can see several Stated Monthly Income values of \\\\$0.083333 so I will check the value counts on the column to look for anything of interest."
   ]
  },
  {
   "cell_type": "code",
   "execution_count": 59,
   "metadata": {},
   "outputs": [
    {
     "data": {
      "text/plain": [
       "0.083333      242\n",
       "416.666667     41\n",
       "250.000000     19\n",
       "166.666667     16\n",
       "208.333333     15\n",
       "Name: StatedMonthlyIncome, dtype: int64"
      ]
     },
     "execution_count": 59,
     "metadata": {},
     "output_type": "execute_result"
    }
   ],
   "source": [
    "low_income.StatedMonthlyIncome.value_counts().head()"
   ]
  },
  {
   "cell_type": "markdown",
   "metadata": {},
   "source": [
    "There are 242 borrowers with a Stated Monthly Income of \\\\$0.083333. This equates to about \\\\$1 per year which does not seem accurate, especially for someone who is listed as employed. I will remove these loans from any analysis involving the Stated monthly Income as I am not confident in their accuracy."
   ]
  },
  {
   "cell_type": "code",
   "execution_count": 60,
   "metadata": {},
   "outputs": [],
   "source": [
    "# Remove loans where Stated Monthly Income = $0.083333\n",
    "incorrect_income = loans['StatedMonthlyIncome'] == 0.083333\n",
    "filtered_income = loans.loc[-incorrect_income,:]"
   ]
  },
  {
   "cell_type": "code",
   "execution_count": 61,
   "metadata": {},
   "outputs": [
    {
     "name": "stdout",
     "output_type": "stream",
     "text": [
      "<class 'pandas.core.frame.DataFrame'>\n",
      "Int64Index: 54243 entries, 0 to 113935\n",
      "Data columns (total 16 columns):\n",
      "Term                      54243 non-null category\n",
      "BorrowerAPR               54243 non-null float64\n",
      "ListingCategory           54243 non-null category\n",
      "EmploymentStatus          54243 non-null category\n",
      "HomeOwner                 54243 non-null bool\n",
      "TotalCreditLines          54143 non-null float64\n",
      "TotalDelinquencies        53855 non-null float64\n",
      "DebtToIncomeRatio         50032 non-null float64\n",
      "StatedMonthlyIncome       54243 non-null float64\n",
      "LoanNumber                54243 non-null object\n",
      "LoanOriginalAmount        54243 non-null int64\n",
      "LoanOriginationQuarter    54243 non-null category\n",
      "MemberKey                 54243 non-null object\n",
      "MonthlyLoanPayment        54243 non-null float64\n",
      "LoanCompleted             54243 non-null category\n",
      "CreditScore               54243 non-null float64\n",
      "dtypes: bool(1), category(5), float64(7), int64(1), object(2)\n",
      "memory usage: 4.9+ MB\n"
     ]
    }
   ],
   "source": [
    "filtered_income.info()"
   ]
  },
  {
   "cell_type": "code",
   "execution_count": 62,
   "metadata": {},
   "outputs": [
    {
     "data": {
      "image/png": "[encoded data removed]",
      "text/plain": [
       "<matplotlib.figure.Figure at 0x20335144be0>"
      ]
     },
     "metadata": {
      "needs_background": "light"
     },
     "output_type": "display_data"
    }
   ],
   "source": [
    "log_binsize = 0.08\n",
    "bins = 10 ** np.arange(1, np.log10(filtered_income['StatedMonthlyIncome'].max())+log_binsize, log_binsize)\n",
    "\n",
    "plt.figure(figsize=[8, 5])\n",
    "plt.hist(data = filtered_income, x = 'StatedMonthlyIncome', bins = bins)\n",
    "plt.xscale('log')\n",
    "plt.xticks([500, 1e3, 2e3, 5e3, 1e4, 2e4], [500, '1k', '2k', '5k', '10k', '20k'])\n",
    "plt.xlabel('Stated Monthly Income ($)')\n",
    "plt.xlim(500, 22500)\n",
    "plt.ylabel('Number of loans')\n",
    "plt.title('Distribution of log of Stated Monthly Income')\n",
    "plt.show()"
   ]
  },
  {
   "cell_type": "markdown",
   "metadata": {},
   "source": [
    "With a log transformation the Stated Monthly Income looks normal with the mean being a little under \\\\$5000."
   ]
  },
  {
   "cell_type": "markdown",
   "metadata": {},
   "source": [
    "We can look at the distribution of the number of loans per borrower by grouping by the MemberKey."
   ]
  },
  {
   "cell_type": "code",
   "execution_count": 63,
   "metadata": {},
   "outputs": [],
   "source": [
    "# Create a DataFrame holding the counts of loans per MemberKey\n",
    "members = loans.groupby('MemberKey').size().reset_index(name='counts')"
   ]
  },
  {
   "cell_type": "code",
   "execution_count": 64,
   "metadata": {},
   "outputs": [
    {
     "data": {
      "image/png": "[encoded data removed]",
      "text/plain": [
       "<matplotlib.figure.Figure at 0x2032da5d4a8>"
      ]
     },
     "metadata": {
      "needs_background": "light"
     },
     "output_type": "display_data"
    }
   ],
   "source": [
    "binsize = 1\n",
    "bins = np.arange(1, members['counts'].max()+binsize, binsize)\n",
    "\n",
    "plt.figure(figsize=[8, 5])\n",
    "plt.hist(data = members, x = 'counts', bins = bins)\n",
    "plt.xlabel('Number of Loans')\n",
    "plt.ylabel('Number of Borrowers')\n",
    "plt.title('Distribution of Number of Loans per Member')\n",
    "plt.show()"
   ]
  },
  {
   "cell_type": "markdown",
   "metadata": {},
   "source": [
    "We can also look at the proportion of number of loans per borrower."
   ]
  },
  {
   "cell_type": "code",
   "execution_count": 65,
   "metadata": {},
   "outputs": [
    {
     "data": {
      "image/png": "[encoded data removed]",
      "text/plain": [
       "<matplotlib.figure.Figure at 0x2032d865908>"
      ]
     },
     "metadata": {
      "needs_background": "light"
     },
     "output_type": "display_data"
    }
   ],
   "source": [
    "# Plot Loan counts column as %\n",
    "plt.figure(figsize=[15,6])\n",
    "n_points = members.shape[0]\n",
    "cat_order = [1, 2, 3, 4, 5, 6, 7, 8]\n",
    "max_count = members['counts'].value_counts().max()\n",
    "max_prop = max_count / n_points\n",
    "tick_props = np.arange(0, max_prop, 0.05)\n",
    "tick_names = ['{:0.2f}'.format(v) for v in tick_props]\n",
    "ax = sb.countplot(data = members, x = 'counts', color = base_color, order = cat_order)\n",
    "plt.yticks(tick_props * n_points, tick_names)\n",
    "plt.ylabel('proportion')\n",
    "plt.xlabel('Number of Loans')\n",
    "plt.xticks(horizontalalignment='right')\n",
    "plt.title('Number of Loans per Member Proportions')\n",
    "plt.show();"
   ]
  },
  {
   "cell_type": "markdown",
   "metadata": {},
   "source": [
    "We can see from this that most (80%) of borrowers have only one finished loan, whether it was completed succesfully or not. A further 14% have two finished loans and around 4% have three. The highest number of finished loans is 8."
   ]
  },
  {
   "cell_type": "markdown",
   "metadata": {},
   "source": [
    "### Discuss the distribution(s) of your variable(s) of interest. Were there any unusual points? Did you need to perform any transformations?\n",
    "\n",
    "70% of the loans were completed succesfully and 30% were not. Home ownership was split fairly evenly and most borrowers had one completed loan (80%) with 15% with 2 completed loans and around 4% with three. The original loan amounts were skewed to the right and tended to cluster around \\\\$5000 intervals suggesting that borrowers would take out a loan that was an interval of \\\\$5000. Monthly loan payments were also skewed to the right, however, after a log transformation these showed a normal distribution. Most monthly payments were below \\\\$500 with the average being around \\\\$200.\n",
    "\n",
    "The Debt-to-income ratios were clearly right skewed with most being below 0.5. Listing Categories had a large number of Unknown and Other listings which make the feature less useful for analysis. Over a third were listed as Debt Consolidation so there is the possibility to look at the effect of Debt Consolidation on Loan Outcome Status compared to the other Listing Categories.\n",
    "\n",
    "There was variation in the Loan Quarter Originations and a noticeable lack of loans generated between Q4 2008 and Q4 2009. \n",
    "\n",
    "### Of the features you investigated, were there any unusual distributions? Did you perform any operations on the data to tidy, adjust, or change the form of the data? If so, why did you do this?\n",
    "\n",
    "Some work was required to tidy the data. As I am investingating the impact of featurs on Loan Outcome Status, I needed to remove loans which had not yet reached an outcome (paid off or not paid off). I chose to include Defaulted loans in the not paid off category as there were a large number of them and they are loans that Prosper consider to be unlikely to be paid off. Loans that were past due were removed as I still considered these as current as there was a reasonable chance they may be paid off, as opposed to the defaulted loans.\n",
    "\n",
    "There were a few loans that were duplicated in the data. The only difference between duplicated loans was the value in the ProsperScore column. I am not going to use this column in my analysis so it is safe to remove duplicates and keep only the first (the default action) as this will not affect my analysis in any way.\n",
    "\n",
    "The EmploymentStatus column was not very helpful as it contained a large number of 'Employed' results, but then had separate levels of employment in the data also. I addressed this by converting 'Employed' members to 'Full-time' due to the fact that most employed members were in the 'Full-time' category.\n",
    "\n",
    "There were outliers at the low end for Credit Score which I removed to make the plots clearer. Each of these had a low score of 0 and an upper score of 19, which may reflect errors in the data. There were also outliers at the high end for StatedMonthlyIncome. I removed those that were above \\\\$30000 per month from the analysis to make the plots clearer. It is also reasonable to expect that some of these high values were inaccurate when considering the relatively small loan amounts they were for.\n",
    "\n",
    "Several columns were converted to category types as these were appropriate to the form of the data (each contained clear categories). There were several entries that were missing data for a number of columns so I removed these. A small number of rows were missing the BorrowerAPR so replaced these with the mean for the column, as it was a very small percentage of rows that it was missing from. There were a number of loans with a Stated Monthly Income of around $1 per year which I removed for analysis based on Stated Monthly Income."
   ]
  },
  {
   "cell_type": "markdown",
   "metadata": {},
   "source": [
    "## Bivariate Exploration"
   ]
  },
  {
   "cell_type": "markdown",
   "metadata": {},
   "source": [
    "I'll start by looking at the pairwise correlations present between features in the data."
   ]
  },
  {
   "cell_type": "code",
   "execution_count": 66,
   "metadata": {},
   "outputs": [],
   "source": [
    "numeric_vars = ['BorrowerAPR', 'DebtToIncomeRatio', 'StatedMonthlyIncome', 'LoanOriginalAmount', 'MonthlyLoanPayment',\n",
    "                'CreditScore']\n",
    "categoric_vars = ['Term', 'ListingCategory', 'EmploymentStatus', 'LoanOriginationQuarter', 'LoanCompleted']"
   ]
  },
  {
   "cell_type": "code",
   "execution_count": 67,
   "metadata": {},
   "outputs": [
    {
     "data": {
      "image/png": "[encoded data removed]",
      "text/plain": [
       "<matplotlib.figure.Figure at 0x2032e7dc908>"
      ]
     },
     "metadata": {
      "needs_background": "light"
     },
     "output_type": "display_data"
    }
   ],
   "source": [
    "# correlation plot\n",
    "plt.figure(figsize = [8, 5])\n",
    "sb.heatmap(filtered_income[numeric_vars].corr(), annot = True, fmt = '.3f',\n",
    "           cmap = 'vlag_r', center = 0)\n",
    "plt.xticks(rotation = 45, horizontalalignment='right')\n",
    "plt.show()"
   ]
  },
  {
   "cell_type": "markdown",
   "metadata": {},
   "source": [
    "The correlations are largely what we would expect for this data:\n",
    "\n",
    "- BorrowerAPR correlates closest with CreditScore (lower credit score = higher borrower APR)\n",
    "- Monthly loan payments increase as the Loan Original Amount increases\n",
    "\n",
    "The correlation scores between the other numeric variables were not high enough to suggest a correlation. Debt-to-income ratios showed the least correlation to any other numeric variable. There does not appear to be any interesting relationships between the numeric variables worth examining further - the only clear relationship is between Loan Original Amount and Monthly Loan Payment which we would expect to be correlated."
   ]
  },
  {
   "cell_type": "markdown",
   "metadata": {},
   "source": [
    "Next I will look at how Loan Completion Status is affected by Term, Employment Status and Loan Origination Quarter."
   ]
  },
  {
   "cell_type": "code",
   "execution_count": 68,
   "metadata": {},
   "outputs": [
    {
     "data": {
      "image/png": "[encoded data removed]",
      "text/plain": [
       "<matplotlib.figure.Figure at 0x2032d7e4518>"
      ]
     },
     "metadata": {
      "needs_background": "light"
     },
     "output_type": "display_data"
    }
   ],
   "source": [
    "# Plot LoanCompleted against categorical variables\n",
    "plt.figure(figsize = [12, 12])\n",
    "plt.subplots_adjust(top = 0.99, bottom=0.01, hspace=0.3)\n",
    "\n",
    "# subplot 1: Term vs LoanCompleted\n",
    "plt.subplot(3, 1, 1)\n",
    "sb.countplot(data = loans, x = 'Term', hue = 'LoanCompleted', palette = 'Blues')\n",
    "plt.title('Loan Completion Status by Term')\n",
    "\n",
    "# subplot 2: EmploymentStatus vs. LoanCompleted\n",
    "ax = plt.subplot(3, 1, 2)\n",
    "sb.countplot(data = loans, x = 'EmploymentStatus', hue = 'LoanCompleted', palette = 'Blues')\n",
    "ax.legend(ncol = 2) # re-arrange legend to reduce overlapping\n",
    "plt.title('Loan Completion Status by Employment Status')\n",
    "\n",
    "# subplot 3: ListingOrigniationQuarter vs. LoanCompleted, use different color palette\n",
    "ax = plt.subplot(3, 1, 3)\n",
    "sb.countplot(data = loans, x = 'LoanOriginationQuarter', hue = 'LoanCompleted', palette = 'Greens', order = quarter_order)\n",
    "plt.xticks(rotation = 45, horizontalalignment='right')\n",
    "ax.legend(loc = 1, ncol = 2) # re-arrange legend to remove overlapping\n",
    "plt.title('Loan Completion Status by Loan Origination Quarter')\n",
    "\n",
    "plt.show()"
   ]
  },
  {
   "cell_type": "markdown",
   "metadata": {},
   "source": [
    "The graphs above show that there is some variance in Loan Completion Status between the different variables. I will look at each of these in more detail to see what they suggest."
   ]
  },
  {
   "cell_type": "code",
   "execution_count": 69,
   "metadata": {},
   "outputs": [
    {
     "data": {
      "image/png": "[encoded data removed]",
      "text/plain": [
       "<matplotlib.figure.Figure at 0x20335144630>"
      ]
     },
     "metadata": {
      "needs_background": "light"
     },
     "output_type": "display_data"
    }
   ],
   "source": [
    "term_props = loans.groupby('Term')['LoanCompleted'].value_counts(normalize=True).unstack()\n",
    "term_props.plot(kind='bar', stacked='True', title='Loan completion proportions by Term').legend(bbox_to_anchor=(1, 1));"
   ]
  },
  {
   "cell_type": "code",
   "execution_count": 70,
   "metadata": {},
   "outputs": [
    {
     "data": {
      "text/html": [
       "<div>\n",
       "<style scoped>\n",
       "    .dataframe tbody tr th:only-of-type {\n",
       "        vertical-align: middle;\n",
       "    }\n",
       "\n",
       "    .dataframe tbody tr th {\n",
       "        vertical-align: top;\n",
       "    }\n",
       "\n",
       "    .dataframe thead th {\n",
       "        text-align: right;\n",
       "    }\n",
       "</style>\n",
       "<table border=\"1\" class=\"dataframe\">\n",
       "  <thead>\n",
       "    <tr style=\"text-align: right;\">\n",
       "      <th>LoanCompleted</th>\n",
       "      <th>Completed</th>\n",
       "      <th>Not completed</th>\n",
       "    </tr>\n",
       "    <tr>\n",
       "      <th>Term</th>\n",
       "      <th></th>\n",
       "      <th></th>\n",
       "    </tr>\n",
       "  </thead>\n",
       "  <tbody>\n",
       "    <tr>\n",
       "      <th>12</th>\n",
       "      <td>0.946475</td>\n",
       "      <td>0.053525</td>\n",
       "    </tr>\n",
       "    <tr>\n",
       "      <th>36</th>\n",
       "      <td>0.685634</td>\n",
       "      <td>0.314366</td>\n",
       "    </tr>\n",
       "    <tr>\n",
       "      <th>60</th>\n",
       "      <td>0.655471</td>\n",
       "      <td>0.344529</td>\n",
       "    </tr>\n",
       "  </tbody>\n",
       "</table>\n",
       "</div>"
      ],
      "text/plain": [
       "LoanCompleted  Completed  Not completed\n",
       "Term                                   \n",
       "12              0.946475       0.053525\n",
       "36              0.685634       0.314366\n",
       "60              0.655471       0.344529"
      ]
     },
     "execution_count": 70,
     "metadata": {},
     "output_type": "execute_result"
    }
   ],
   "source": [
    "term_props"
   ]
  },
  {
   "cell_type": "markdown",
   "metadata": {},
   "source": [
    "We can see here that loans with a twelve month term are mostly completed (95%). Loans over 36 and 60 months have a much lower completion rate (69% and 66% respectively)."
   ]
  },
  {
   "cell_type": "code",
   "execution_count": 71,
   "metadata": {},
   "outputs": [
    {
     "data": {
      "image/png": "[encoded data removed]",
      "text/plain": [
       "<matplotlib.figure.Figure at 0x203368b14e0>"
      ]
     },
     "metadata": {
      "needs_background": "light"
     },
     "output_type": "display_data"
    }
   ],
   "source": [
    "# Compare Loan Outcome Status and Employment\n",
    "employment_props = loans.groupby('EmploymentStatus')['LoanCompleted'].value_counts(normalize=True).unstack()\n",
    "employment_props.plot(kind='bar', stacked='True', title='Loan completion proportions by Employment Status').legend(\n",
    "    bbox_to_anchor=(1, 1));"
   ]
  },
  {
   "cell_type": "code",
   "execution_count": 72,
   "metadata": {},
   "outputs": [
    {
     "data": {
      "text/html": [
       "<div>\n",
       "<style scoped>\n",
       "    .dataframe tbody tr th:only-of-type {\n",
       "        vertical-align: middle;\n",
       "    }\n",
       "\n",
       "    .dataframe tbody tr th {\n",
       "        vertical-align: top;\n",
       "    }\n",
       "\n",
       "    .dataframe thead th {\n",
       "        text-align: right;\n",
       "    }\n",
       "</style>\n",
       "<table border=\"1\" class=\"dataframe\">\n",
       "  <thead>\n",
       "    <tr style=\"text-align: right;\">\n",
       "      <th>LoanCompleted</th>\n",
       "      <th>Completed</th>\n",
       "      <th>Not completed</th>\n",
       "    </tr>\n",
       "    <tr>\n",
       "      <th>EmploymentStatus</th>\n",
       "      <th></th>\n",
       "      <th></th>\n",
       "    </tr>\n",
       "  </thead>\n",
       "  <tbody>\n",
       "    <tr>\n",
       "      <th>Part-time</th>\n",
       "      <td>0.751894</td>\n",
       "      <td>0.248106</td>\n",
       "    </tr>\n",
       "    <tr>\n",
       "      <th>Full-time</th>\n",
       "      <td>0.717161</td>\n",
       "      <td>0.282839</td>\n",
       "    </tr>\n",
       "    <tr>\n",
       "      <th>Retired</th>\n",
       "      <td>0.658537</td>\n",
       "      <td>0.341463</td>\n",
       "    </tr>\n",
       "    <tr>\n",
       "      <th>Not employed</th>\n",
       "      <td>0.613191</td>\n",
       "      <td>0.386809</td>\n",
       "    </tr>\n",
       "    <tr>\n",
       "      <th>Self-employed</th>\n",
       "      <td>0.609231</td>\n",
       "      <td>0.390769</td>\n",
       "    </tr>\n",
       "    <tr>\n",
       "      <th>Not available</th>\n",
       "      <td>0.584795</td>\n",
       "      <td>0.415205</td>\n",
       "    </tr>\n",
       "    <tr>\n",
       "      <th>Other</th>\n",
       "      <td>0.562657</td>\n",
       "      <td>0.437343</td>\n",
       "    </tr>\n",
       "  </tbody>\n",
       "</table>\n",
       "</div>"
      ],
      "text/plain": [
       "LoanCompleted     Completed  Not completed\n",
       "EmploymentStatus                          \n",
       "Part-time          0.751894       0.248106\n",
       "Full-time          0.717161       0.282839\n",
       "Retired            0.658537       0.341463\n",
       "Not employed       0.613191       0.386809\n",
       "Self-employed      0.609231       0.390769\n",
       "Not available      0.584795       0.415205\n",
       "Other              0.562657       0.437343"
      ]
     },
     "execution_count": 72,
     "metadata": {},
     "output_type": "execute_result"
    }
   ],
   "source": [
    "employment_props.sort_values('Completed', ascending=False)"
   ]
  },
  {
   "cell_type": "markdown",
   "metadata": {},
   "source": [
    "Borrowers who are employed (either part- or full-time) are the most likely to complete their loan (75% and 72% respectively) while those for whom employment status is not available (Not available and Other) are the least likely to pay the loan, at 59% and 56% repectively."
   ]
  },
  {
   "cell_type": "markdown",
   "metadata": {},
   "source": [
    "Trying to group by LoanOriginationQuarter returns an error that suggests there are empty categories. I need to check the value counts for each category given that I have filtered out certain data in earlier steps."
   ]
  },
  {
   "cell_type": "code",
   "execution_count": 73,
   "metadata": {},
   "outputs": [
    {
     "data": {
      "text/plain": [
       "Q4 2013    381\n",
       "Q1 2014     68\n",
       "Q2 2009     13\n",
       "Q4 2005      0\n",
       "Q1 2006      0\n",
       "Name: LoanOriginationQuarter, dtype: int64"
      ]
     },
     "execution_count": 73,
     "metadata": {},
     "output_type": "execute_result"
    }
   ],
   "source": [
    "loans.LoanOriginationQuarter.value_counts().tail()"
   ]
  },
  {
   "cell_type": "markdown",
   "metadata": {},
   "source": [
    "Q4 2005 and Q1 2006 are both empty and therefore causing the error. I will remove them from the data."
   ]
  },
  {
   "cell_type": "code",
   "execution_count": 74,
   "metadata": {},
   "outputs": [],
   "source": [
    "loans.LoanOriginationQuarter.cat.remove_unused_categories(inplace=True)"
   ]
  },
  {
   "cell_type": "code",
   "execution_count": 75,
   "metadata": {},
   "outputs": [
    {
     "data": {
      "text/plain": [
       "Q3 2009    585\n",
       "Q4 2008    532\n",
       "Q4 2013    381\n",
       "Q1 2014     68\n",
       "Q2 2009     13\n",
       "Name: LoanOriginationQuarter, dtype: int64"
      ]
     },
     "execution_count": 75,
     "metadata": {},
     "output_type": "execute_result"
    }
   ],
   "source": [
    "loans.LoanOriginationQuarter.value_counts().tail()"
   ]
  },
  {
   "cell_type": "code",
   "execution_count": 76,
   "metadata": {},
   "outputs": [
    {
     "data": {
      "image/png": "[encoded data removed]",
      "text/plain": [
       "<matplotlib.figure.Figure at 0x203337b9780>"
      ]
     },
     "metadata": {
      "needs_background": "light"
     },
     "output_type": "display_data"
    }
   ],
   "source": [
    "# Compare Loan Outcome Status and Loan Origination Quarter\n",
    "quarter_props = loans.groupby('LoanOriginationQuarter')['LoanCompleted'].value_counts(normalize=True).unstack().reindex(\n",
    "    quarter_order)\n",
    "quarter_props.plot(kind='bar', stacked='True', title='Loan completion proportions by Loan Origination Quarter').legend(\n",
    "    bbox_to_anchor=(1, 1));"
   ]
  },
  {
   "cell_type": "markdown",
   "metadata": {},
   "source": [
    "The earliest loans from Q2 2006 to Q4 2008 had the lowest completion rates, though they generally increased from Q4 2006 to a peak at Q3 2009. From Q3 2010 they trended downward to plateau at Q1 2012 before increasing again from Q4 2012 with the latest loans from 2013 having the highest completion rates."
   ]
  },
  {
   "cell_type": "markdown",
   "metadata": {},
   "source": [
    "I'd like to see if there is a relationship between Listing Category and Loan Completion."
   ]
  },
  {
   "cell_type": "code",
   "execution_count": 77,
   "metadata": {},
   "outputs": [
    {
     "data": {
      "image/png": "[encoded data removed]",
      "text/plain": [
       "<matplotlib.figure.Figure at 0x2032e53bb38>"
      ]
     },
     "metadata": {
      "needs_background": "light"
     },
     "output_type": "display_data"
    }
   ],
   "source": [
    "# Compare Loan Outcome Status and Loan Category\n",
    "listing_props = listing_categories.groupby('ListingCategory')['LoanCompleted'].value_counts(normalize=True).unstack()\n",
    "listing_props.plot(kind='bar', stacked='True', title='Loan completion proportions by Listing Category').legend(\n",
    "    bbox_to_anchor=(1, 1));"
   ]
  },
  {
   "cell_type": "markdown",
   "metadata": {},
   "source": [
    "There is no difference in Loan copletion status between Debt consolidation and all other categories grouped together. I'll check if there are any differences between individual categories."
   ]
  },
  {
   "cell_type": "code",
   "execution_count": 78,
   "metadata": {},
   "outputs": [
    {
     "data": {
      "image/png": "[encoded data removed]",
      "text/plain": [
       "<matplotlib.figure.Figure at 0x20334af0198>"
      ]
     },
     "metadata": {
      "needs_background": "light"
     },
     "output_type": "display_data"
    }
   ],
   "source": [
    "# Compare Loan Outcome Status and Loan Category\n",
    "listing_props = loans.groupby('ListingCategory')['LoanCompleted'].value_counts(normalize=True).unstack()\n",
    "listing_props.plot(kind='bar', stacked='True', title='Loan completion proportions by Listing Category').legend(\n",
    "    bbox_to_anchor=(1, 1));"
   ]
  },
  {
   "cell_type": "markdown",
   "metadata": {},
   "source": [
    "There is some more variation visible now, with RV loans bieng mostly completed and only around half of Green Loans being completed. Boat, Engagement Rings and Motorcycles had high completion rates while household expenses, Not available Personal loans had lower completion rates."
   ]
  },
  {
   "cell_type": "code",
   "execution_count": 79,
   "metadata": {},
   "outputs": [
    {
     "data": {
      "image/png": "[encoded data removed]",
      "text/plain": [
       "<matplotlib.figure.Figure at 0x203367e2630>"
      ]
     },
     "metadata": {
      "needs_background": "light"
     },
     "output_type": "display_data"
    }
   ],
   "source": [
    "# Compare Loan Outcome Status and Home Ownership\n",
    "# See if can plot several categorical variables in one set to look for ones that are interesting\n",
    "home_props = loans.groupby('HomeOwner')['LoanCompleted'].value_counts(normalize=True).unstack()\n",
    "home_props.plot(kind='bar', stacked='True', title='Loan completion proportions by Home Ownership').legend(\n",
    "    bbox_to_anchor=(1, 1));"
   ]
  },
  {
   "cell_type": "code",
   "execution_count": 80,
   "metadata": {},
   "outputs": [
    {
     "data": {
      "text/html": [
       "<div>\n",
       "<style scoped>\n",
       "    .dataframe tbody tr th:only-of-type {\n",
       "        vertical-align: middle;\n",
       "    }\n",
       "\n",
       "    .dataframe tbody tr th {\n",
       "        vertical-align: top;\n",
       "    }\n",
       "\n",
       "    .dataframe thead th {\n",
       "        text-align: right;\n",
       "    }\n",
       "</style>\n",
       "<table border=\"1\" class=\"dataframe\">\n",
       "  <thead>\n",
       "    <tr style=\"text-align: right;\">\n",
       "      <th>LoanCompleted</th>\n",
       "      <th>Completed</th>\n",
       "      <th>Not completed</th>\n",
       "    </tr>\n",
       "    <tr>\n",
       "      <th>HomeOwner</th>\n",
       "      <th></th>\n",
       "      <th></th>\n",
       "    </tr>\n",
       "  </thead>\n",
       "  <tbody>\n",
       "    <tr>\n",
       "      <th>False</th>\n",
       "      <td>0.677202</td>\n",
       "      <td>0.322798</td>\n",
       "    </tr>\n",
       "    <tr>\n",
       "      <th>True</th>\n",
       "      <td>0.706089</td>\n",
       "      <td>0.293911</td>\n",
       "    </tr>\n",
       "  </tbody>\n",
       "</table>\n",
       "</div>"
      ],
      "text/plain": [
       "LoanCompleted  Completed  Not completed\n",
       "HomeOwner                              \n",
       "False           0.677202       0.322798\n",
       "True            0.706089       0.293911"
      ]
     },
     "execution_count": 80,
     "metadata": {},
     "output_type": "execute_result"
    }
   ],
   "source": [
    "home_props"
   ]
  },
  {
   "cell_type": "markdown",
   "metadata": {},
   "source": [
    "There is only a 3% difference in the rate of loan completion between home owners and non-owners, much smaller than the difference for employed versus non-employed or 12 month terms and 36 or 60 month terms."
   ]
  },
  {
   "cell_type": "markdown",
   "metadata": {},
   "source": [
    "The Debt-to-income ratios need to be binned before they can be analysed effectively. To do so I will add a DebtRatioBin column with the bin for each loan."
   ]
  },
  {
   "cell_type": "code",
   "execution_count": 81,
   "metadata": {},
   "outputs": [],
   "source": [
    "# Function to place Debt-To-Income-Ratio into bins\n",
    "def get_ratio(debt_to_income):\n",
    "    \"\"\"Get bin for debt-to-income ratio.\"\"\"\n",
    "    if debt_to_income < 0.05:\n",
    "        return 0.05\n",
    "    elif debt_to_income < 0.1:\n",
    "        return 0.1\n",
    "    elif debt_to_income < 0.15:\n",
    "        return 0.15\n",
    "    elif debt_to_income < 0.2:\n",
    "        return 0.2\n",
    "    elif debt_to_income < 0.25:\n",
    "        return 0.25\n",
    "    elif debt_to_income < 0.3:\n",
    "        return 0.3\n",
    "    elif debt_to_income < 0.4:\n",
    "        return 0.4\n",
    "    elif debt_to_income < 0.5:\n",
    "        return 0.5\n",
    "    elif debt_to_income < 0.6:\n",
    "        return 0.6\n",
    "    elif debt_to_income < 0.7:\n",
    "        return 0.7\n",
    "    elif debt_to_income < 0.8:\n",
    "        return 0.8\n",
    "    elif debt_to_income <0.9:\n",
    "        return 0.9\n",
    "    elif debt_to_income < 1:\n",
    "        return 1\n",
    "    elif debt_to_income < 3:\n",
    "        return 3\n",
    "    elif debt_to_income < 6:\n",
    "        return 6\n",
    "    else:\n",
    "        return 10\n",
    "    \n",
    "# Create a column placing Debt-to-income-ratio into a bin\n",
    "loans['DebtRatioBin'] = loans.DebtToIncomeRatio.apply(get_ratio)"
   ]
  },
  {
   "cell_type": "code",
   "execution_count": 82,
   "metadata": {},
   "outputs": [
    {
     "data": {
      "image/png": "[encoded data removed]",
      "text/plain": [
       "<matplotlib.figure.Figure at 0x2032ec35f28>"
      ]
     },
     "metadata": {
      "needs_background": "light"
     },
     "output_type": "display_data"
    }
   ],
   "source": [
    "# Compare Loan Outcome Status and Debt Consolidation\n",
    "debt_props = loans.groupby('DebtRatioBin')['LoanCompleted'].value_counts(normalize=True).unstack()\n",
    "debt_props.plot(kind='bar', stacked='True', title='Loan completion proportions by Debt-to-income Ratio').legend(\n",
    "    bbox_to_anchor=(1, 1));"
   ]
  },
  {
   "cell_type": "code",
   "execution_count": 83,
   "metadata": {},
   "outputs": [
    {
     "data": {
      "text/html": [
       "<div>\n",
       "<style scoped>\n",
       "    .dataframe tbody tr th:only-of-type {\n",
       "        vertical-align: middle;\n",
       "    }\n",
       "\n",
       "    .dataframe tbody tr th {\n",
       "        vertical-align: top;\n",
       "    }\n",
       "\n",
       "    .dataframe thead th {\n",
       "        text-align: right;\n",
       "    }\n",
       "</style>\n",
       "<table border=\"1\" class=\"dataframe\">\n",
       "  <thead>\n",
       "    <tr style=\"text-align: right;\">\n",
       "      <th>LoanCompleted</th>\n",
       "      <th>Completed</th>\n",
       "      <th>Not completed</th>\n",
       "    </tr>\n",
       "    <tr>\n",
       "      <th>DebtRatioBin</th>\n",
       "      <th></th>\n",
       "      <th></th>\n",
       "    </tr>\n",
       "  </thead>\n",
       "  <tbody>\n",
       "    <tr>\n",
       "      <th>0.05</th>\n",
       "      <td>0.720533</td>\n",
       "      <td>0.279467</td>\n",
       "    </tr>\n",
       "    <tr>\n",
       "      <th>0.10</th>\n",
       "      <td>0.731520</td>\n",
       "      <td>0.268480</td>\n",
       "    </tr>\n",
       "    <tr>\n",
       "      <th>0.15</th>\n",
       "      <td>0.730317</td>\n",
       "      <td>0.269683</td>\n",
       "    </tr>\n",
       "    <tr>\n",
       "      <th>0.20</th>\n",
       "      <td>0.721528</td>\n",
       "      <td>0.278472</td>\n",
       "    </tr>\n",
       "    <tr>\n",
       "      <th>0.25</th>\n",
       "      <td>0.707808</td>\n",
       "      <td>0.292192</td>\n",
       "    </tr>\n",
       "    <tr>\n",
       "      <th>0.30</th>\n",
       "      <td>0.694604</td>\n",
       "      <td>0.305396</td>\n",
       "    </tr>\n",
       "    <tr>\n",
       "      <th>0.40</th>\n",
       "      <td>0.670362</td>\n",
       "      <td>0.329638</td>\n",
       "    </tr>\n",
       "    <tr>\n",
       "      <th>0.50</th>\n",
       "      <td>0.616776</td>\n",
       "      <td>0.383224</td>\n",
       "    </tr>\n",
       "    <tr>\n",
       "      <th>0.60</th>\n",
       "      <td>0.569028</td>\n",
       "      <td>0.430972</td>\n",
       "    </tr>\n",
       "    <tr>\n",
       "      <th>0.70</th>\n",
       "      <td>0.515249</td>\n",
       "      <td>0.484751</td>\n",
       "    </tr>\n",
       "    <tr>\n",
       "      <th>0.80</th>\n",
       "      <td>0.565217</td>\n",
       "      <td>0.434783</td>\n",
       "    </tr>\n",
       "    <tr>\n",
       "      <th>0.90</th>\n",
       "      <td>0.505952</td>\n",
       "      <td>0.494048</td>\n",
       "    </tr>\n",
       "    <tr>\n",
       "      <th>1.00</th>\n",
       "      <td>0.580952</td>\n",
       "      <td>0.419048</td>\n",
       "    </tr>\n",
       "    <tr>\n",
       "      <th>3.00</th>\n",
       "      <td>0.604730</td>\n",
       "      <td>0.395270</td>\n",
       "    </tr>\n",
       "    <tr>\n",
       "      <th>6.00</th>\n",
       "      <td>0.527027</td>\n",
       "      <td>0.472973</td>\n",
       "    </tr>\n",
       "    <tr>\n",
       "      <th>10.00</th>\n",
       "      <td>0.636991</td>\n",
       "      <td>0.363009</td>\n",
       "    </tr>\n",
       "  </tbody>\n",
       "</table>\n",
       "</div>"
      ],
      "text/plain": [
       "LoanCompleted  Completed  Not completed\n",
       "DebtRatioBin                           \n",
       "0.05            0.720533       0.279467\n",
       "0.10            0.731520       0.268480\n",
       "0.15            0.730317       0.269683\n",
       "0.20            0.721528       0.278472\n",
       "0.25            0.707808       0.292192\n",
       "0.30            0.694604       0.305396\n",
       "0.40            0.670362       0.329638\n",
       "0.50            0.616776       0.383224\n",
       "0.60            0.569028       0.430972\n",
       "0.70            0.515249       0.484751\n",
       "0.80            0.565217       0.434783\n",
       "0.90            0.505952       0.494048\n",
       "1.00            0.580952       0.419048\n",
       "3.00            0.604730       0.395270\n",
       "6.00            0.527027       0.472973\n",
       "10.00           0.636991       0.363009"
      ]
     },
     "execution_count": 83,
     "metadata": {},
     "output_type": "execute_result"
    }
   ],
   "source": [
    "debt_props"
   ]
  },
  {
   "cell_type": "markdown",
   "metadata": {},
   "source": [
    "Loan completion rates are fairly consistent between Debt-to-income ratios of 0 and 0.25 where they are around 72%. From 0.3 onwards they begin to trend down with a slight increase at 0.8 and again at 3 and 10."
   ]
  },
  {
   "cell_type": "markdown",
   "metadata": {},
   "source": [
    "Due to the close correlation between Loan Original Amount and Monthly Loan Payments, we only need to analyse one of these. We can look at the effect of Monthly Loan Payments."
   ]
  },
  {
   "cell_type": "code",
   "execution_count": 84,
   "metadata": {},
   "outputs": [
    {
     "name": "stderr",
     "output_type": "stream",
     "text": [
      "C:\\Users\\Jeff\\Anaconda3\\lib\\site-packages\\scipy\\stats\\stats.py:1706: FutureWarning: Using a non-tuple sequence for multidimensional indexing is deprecated; use `arr[tuple(seq)]` instead of `arr[seq]`. In the future this will be interpreted as an array index, `arr[np.array(seq)]`, which will result either in an error or a different result.\n",
      "  return np.add.reduce(sorted[indexer] * weights, axis=axis) / sumval\n"
     ]
    },
    {
     "data": {
      "image/png": "[encoded data removed]",
      "text/plain": [
       "<matplotlib.figure.Figure at 0x2032d70d400>"
      ]
     },
     "metadata": {
      "needs_background": "light"
     },
     "output_type": "display_data"
    }
   ],
   "source": [
    "# Compare Employment Status and Monthly Loan Payment\n",
    "base_color = sb.color_palette()[0]\n",
    "sb.barplot(data = loans, x = 'EmploymentStatus', y='MonthlyLoanPayment',color=base_color).set_title(\n",
    "    'Average Monthly Loan Payment by Employment Status')\n",
    "plt.xticks(rotation=45, horizontalalignment='right');"
   ]
  },
  {
   "cell_type": "markdown",
   "metadata": {},
   "source": [
    "The highest monthly payments on average were made by people that were self-employed or working full time. Lower monthly payments on average were made by borrowers that were not employed, retired or employed part-time. This would likely be a reflection of the ability of the borrower to pay back the loan given their monthly income."
   ]
  },
  {
   "cell_type": "markdown",
   "metadata": {},
   "source": [
    "To plot the effect of Monthly Loan Payments on Loan Completion I must first add a column that bins the Monthly Loan Payment values."
   ]
  },
  {
   "cell_type": "code",
   "execution_count": 85,
   "metadata": {},
   "outputs": [],
   "source": [
    "# Function to place Monthly Loan Payments into bins\n",
    "def get_monthly_bin(monthly_payment):\n",
    "    \"\"\"Get bin for Monthly Loan Payment.\"\"\"\n",
    "    if monthly_payment == 0:\n",
    "        return 0\n",
    "    elif monthly_payment < 50:\n",
    "        return 50\n",
    "    elif monthly_payment < 100:\n",
    "        return 100\n",
    "    elif monthly_payment < 150:\n",
    "        return 150\n",
    "    elif monthly_payment < 200:\n",
    "        return 200\n",
    "    elif monthly_payment < 250:\n",
    "        return 250\n",
    "    elif monthly_payment < 300:\n",
    "        return 300\n",
    "    elif monthly_payment < 350:\n",
    "        return 350\n",
    "    elif monthly_payment < 400:\n",
    "        return 400\n",
    "    elif monthly_payment < 450:\n",
    "        return 450\n",
    "    elif monthly_payment < 500:\n",
    "        return 500\n",
    "    elif monthly_payment < 550:\n",
    "        return 550\n",
    "    elif monthly_payment < 600:\n",
    "        return 600\n",
    "    elif monthly_payment < 750:\n",
    "        return 750\n",
    "    elif monthly_payment < 1000:\n",
    "        return 1000\n",
    "    elif monthly_payment < 1500:\n",
    "        return 1500\n",
    "    elif monthly_payment < 2000:\n",
    "        return 2000\n",
    "    else:\n",
    "        return 2500\n",
    "    \n",
    "# Create a column placing Debt-to-income-ratio into a bin\n",
    "loans['MonthlyPaymentBin'] = loans.MonthlyLoanPayment.apply(get_monthly_bin)"
   ]
  },
  {
   "cell_type": "code",
   "execution_count": 86,
   "metadata": {},
   "outputs": [
    {
     "data": {
      "image/png": "[encoded data removed]",
      "text/plain": [
       "<matplotlib.figure.Figure at 0x203368660f0>"
      ]
     },
     "metadata": {
      "needs_background": "light"
     },
     "output_type": "display_data"
    }
   ],
   "source": [
    "# Compare Loan Outcome Status and Debt Consolidation\n",
    "monthly_props = loans.groupby('MonthlyPaymentBin')['LoanCompleted'].value_counts(normalize=True).unstack()\n",
    "monthly_props.plot(kind='bar', stacked='True', title='Loan completion proportions by Monthly Loan Payments').legend(\n",
    "    bbox_to_anchor=(1, 1));"
   ]
  },
  {
   "cell_type": "markdown",
   "metadata": {},
   "source": [
    "The completion rates according to monthly loan payments are fairly consistent. The few bins that showed different results were those at 0 and those above \\\\$1500 per month. Monthly Loan Payments between \\\\$750 and \\\\$1000 had the lowest rate of completion."
   ]
  },
  {
   "cell_type": "code",
   "execution_count": 87,
   "metadata": {},
   "outputs": [
    {
     "data": {
      "image/png": "[encoded data removed]",
      "text/plain": [
       "<matplotlib.figure.Figure at 0x2032d496588>"
      ]
     },
     "metadata": {
      "needs_background": "light"
     },
     "output_type": "display_data"
    }
   ],
   "source": [
    "# Compare Loan Outcome Status and Credit Scores\n",
    "sb.barplot(data = loans, x = 'LoanCompleted', y = 'CreditScore', color = base_color, ci = 'sd').set_title(\n",
    "    'Average Credit Score by Loan Completion');"
   ]
  },
  {
   "cell_type": "markdown",
   "metadata": {},
   "source": [
    "The average credit score for a completed loan was a bit higher than for non-completed loans at close to 700 compared to 650 for non-completed."
   ]
  },
  {
   "cell_type": "code",
   "execution_count": 88,
   "metadata": {},
   "outputs": [
    {
     "data": {
      "image/png": "[encoded data removed]",
      "text/plain": [
       "<matplotlib.figure.Figure at 0x2032ec14550>"
      ]
     },
     "metadata": {
      "needs_background": "light"
     },
     "output_type": "display_data"
    }
   ],
   "source": [
    "# Compare Loan Outcome Status and BorrowerAPR\n",
    "sb.barplot(data = loans, x = 'LoanCompleted', y = 'BorrowerAPR', color = base_color, ci = 'sd').set_title(\n",
    "    'Average Borrower APR by Loan Completion');"
   ]
  },
  {
   "cell_type": "markdown",
   "metadata": {},
   "source": [
    "On average a completed loan has a lower Borrower APR at just over 0.2 than a non-completed loan at 0.25."
   ]
  },
  {
   "cell_type": "code",
   "execution_count": 89,
   "metadata": {},
   "outputs": [
    {
     "data": {
      "image/png": "[encoded data removed]",
      "text/plain": [
       "<matplotlib.figure.Figure at 0x2032d70c400>"
      ]
     },
     "metadata": {
      "needs_background": "light"
     },
     "output_type": "display_data"
    }
   ],
   "source": [
    "# Compare Loan Outcome Status and Stated Monthly Income\n",
    "sb.barplot(data = filtered_income, x = 'LoanCompleted', y = 'StatedMonthlyIncome', color = base_color, ci = 'sd').set_title(\n",
    "    'Average Stated  Monthly Income by Loan Completion');"
   ]
  },
  {
   "cell_type": "markdown",
   "metadata": {},
   "source": [
    "The stated monthly income was on average higher for completed loans (at \\\\$5500) than non-completed at a little over \\\\$4000. There was a number of outliers in the Stated Monthly Income that skewed this data somewhat, however.\n",
    "\n",
    "I will finish my bivariate analysis by looking for relationships between Employment status and the financial variables."
   ]
  },
  {
   "cell_type": "code",
   "execution_count": 90,
   "metadata": {},
   "outputs": [
    {
     "name": "stderr",
     "output_type": "stream",
     "text": [
      "C:\\Users\\Jeff\\Anaconda3\\lib\\site-packages\\pandas\\core\\indexing.py:1494: FutureWarning: \n",
      "Passing list-likes to .loc or [] with any missing label will raise\n",
      "KeyError in the future, you can use .reindex() as an alternative.\n",
      "\n",
      "See the documentation here:\n",
      "https://pandas.pydata.org/pandas-docs/stable/indexing.html#deprecate-loc-reindex-listlike\n",
      "  return self._getitem_tuple(key)\n"
     ]
    },
    {
     "data": {
      "image/png": "[encoded data removed]",
      "text/plain": [
       "<matplotlib.figure.Figure at 0x20333113358>"
      ]
     },
     "metadata": {
      "needs_background": "light"
     },
     "output_type": "display_data"
    }
   ],
   "source": [
    "samples = np.random.choice(loans.shape[0], 500, replace = False)\n",
    "loan_samples = filtered_income.loc[samples,:]\n",
    "\n",
    "g = sb.PairGrid(data=loan_samples, x_vars = ['MonthlyLoanPayment', 'StatedMonthlyIncome', 'DebtToIncomeRatio'],\n",
    "               y_vars=['EmploymentStatus'])\n",
    "g.fig.set_figheight(12)\n",
    "g.fig.set_figwidth(12)\n",
    "g.fig.suptitle('Financial relationships for Employment Status')\n",
    "g.map(sb.violinplot, inner = 'quartile');"
   ]
  },
  {
   "cell_type": "markdown",
   "metadata": {},
   "source": [
    "These graphs look odd but an examination of them shows a few points that could be expected. Not employed members have zero income which also means they do not have any values for their Debt-to-income ratio. The income spread for Full-time and not-available is similar, with the exception of the long tail which shows some high values for a few full-time members. The Self-employed show the largest range as they are very spread out for Monthly Loan Payment and Stated Monthly income.\n",
    "\n",
    "Part-time members have reduced Stated Monthly Income which is also reflected in a limited range for Monthly Loan payments. This can also be explained by the low number of members in the Part-time category. Retired members have a very low range of Monthly Loan Payments although their Stated Monthly Income spreads further."
   ]
  },
  {
   "cell_type": "markdown",
   "metadata": {},
   "source": [
    "### Talk about some of the relationships you observed in this part of the investigation. How did the feature(s) of interest vary with other features in the dataset?\n",
    "\n",
    "The term length appeared to have an impact on Loan completion, as a 12-month term had a high completion rate and 36-month and 60-month were each lower than the previous. Employed members were most likely to pay off their loans. There were some trends in the Loan Origination Quarter, as loans that originated between 2009 and 2010, and those from 2013 were the most likely to be paid off. Home ownership did not appear to impact the likelihood of a loan being paid off. \n",
    "\n",
    "There were some clear trends between the financial variables and Loan completion. Completion rates trended down as the Debt-to-income ratio increased. The average credit score was higher for members that completed their loans compared to those that did not. The Borrower APR was lower for those that completed their loans. The average stated monthly income was also higher for those that completed their loans.\n",
    "\n",
    "The completion rate for Debt consolidation loans was no different from the completion rate for all other categories, however, there were some differences identified between other categories. Vehicle loans had the highest compltion rates and Personal and Green loans the lowest. The low number of loans from each category other than Debt consolidation makes it hard to read too much into these results.\n",
    "\n",
    "Monthly Loan Payments had a fairly consistent impact on loan completion rate, with the exceptions being at the high end (above \\\\$1500) where the completion rate was very high and between \\\\$750 and \\\\$1000 where it was the lowest.\n",
    "\n",
    "### Did you observe any interesting relationships between the other features (not the main feature(s) of interest)?\n",
    "\n",
    "The average monthly loan payments were highest for full-time and self-employed members. There were not many correlations between the different numeric variables. The only ones that were correlated were as expected - the Monthly Loan Payments are correlated with the total amount of the loan. Lower credit scores were seen to result in higher Borrwoer APR which is also expected."
   ]
  },
  {
   "cell_type": "markdown",
   "metadata": {},
   "source": [
    "## Multivariate Exploration\n",
    "\n",
    "> Create plots of three or more variables to investigate your data even\n",
    "further. Make sure that your investigations are justified, and follow from\n",
    "your work in the previous sections."
   ]
  },
  {
   "cell_type": "code",
   "execution_count": 91,
   "metadata": {},
   "outputs": [],
   "source": [
    "# Plot MonthlyLoanPayment, EmploymentStatus and StatedMonthlyIncome"
   ]
  },
  {
   "cell_type": "code",
   "execution_count": 92,
   "metadata": {},
   "outputs": [],
   "source": [
    "# "
   ]
  },
  {
   "cell_type": "code",
   "execution_count": null,
   "metadata": {},
   "outputs": [],
   "source": []
  },
  {
   "cell_type": "code",
   "execution_count": null,
   "metadata": {},
   "outputs": [],
   "source": []
  },
  {
   "cell_type": "code",
   "execution_count": null,
   "metadata": {},
   "outputs": [],
   "source": []
  },
  {
   "cell_type": "code",
   "execution_count": null,
   "metadata": {},
   "outputs": [],
   "source": []
  },
  {
   "cell_type": "markdown",
   "metadata": {},
   "source": [
    "### Talk about some of the relationships you observed in this part of the investigation. Were there features that strengthened each other in terms of looking at your feature(s) of interest?\n",
    "\n",
    "> Your answer here!\n",
    "\n",
    "### Were there any interesting or surprising interactions between features?\n",
    "\n",
    "> Your answer here!"
   ]
  },
  {
   "cell_type": "markdown",
   "metadata": {},
   "source": [
    "> At the end of your report, make sure that you export the notebook as an\n",
    "html file from the `File > Download as... > HTML` menu. Make sure you keep\n",
    "track of where the exported file goes, so you can put it in the same folder\n",
    "as this notebook for project submission. Also, make sure you remove all of\n",
    "the quote-formatted guide notes like this one before you finish your report!"
   ]
  },
  {
   "cell_type": "code",
   "execution_count": null,
   "metadata": {},
   "outputs": [],
   "source": []
  }
 ],
 "metadata": {
  "kernelspec": {
   "display_name": "Python 3",
   "language": "python",
   "name": "python3"
  },
  "language_info": {
   "codemirror_mode": {
    "name": "ipython",
    "version": 3
   },
   "file_extension": ".py",
   "mimetype": "text/x-python",
   "name": "python",
   "nbconvert_exporter": "python",
   "pygments_lexer": "ipython3",
   "version": "3.6.8"
  }
 },
 "nbformat": 4,
 "nbformat_minor": 2
}
