{
 "cells": [
  {
   "cell_type": "markdown",
   "metadata": {},
   "source": [
    "# Loan Data from Prosper Exploration\n",
    "## by Jeff Mitchell\n",
    "\n",
    "## Preliminary Wrangling\n",
    "\n",
    "This dataset contains information on nearly 114,000 loans from Prosper. The dataset contains a lot of features and will require some wrangling before we can start analysing it."
   ]
  },
  {
   "cell_type": "code",
   "execution_count": 1,
   "metadata": {},
   "outputs": [],
   "source": [
    "# import all packages and set plots to be embedded inline\n",
    "import numpy as np\n",
    "import pandas as pd\n",
    "import matplotlib.pyplot as plt\n",
    "import seaborn as sb\n",
    "\n",
    "%matplotlib inline"
   ]
  },
  {
   "cell_type": "markdown",
   "metadata": {},
   "source": [
    "> Load in your dataset and describe its properties through the questions below.\n",
    "Try and motivate your exploration goals through this section."
   ]
  },
  {
   "cell_type": "code",
   "execution_count": 2,
   "metadata": {},
   "outputs": [],
   "source": [
    "loans = pd.read_csv('prosperLoanData.csv')"
   ]
  },
  {
   "cell_type": "code",
   "execution_count": 3,
   "metadata": {},
   "outputs": [
    {
     "name": "stdout",
     "output_type": "stream",
     "text": [
      "(113937, 81)\n",
      "ListingKey                              object\n",
      "ListingNumber                            int64\n",
      "ListingCreationDate                     object\n",
      "CreditGrade                             object\n",
      "Term                                     int64\n",
      "LoanStatus                              object\n",
      "ClosedDate                              object\n",
      "BorrowerAPR                            float64\n",
      "BorrowerRate                           float64\n",
      "LenderYield                            float64\n",
      "EstimatedEffectiveYield                float64\n",
      "EstimatedLoss                          float64\n",
      "EstimatedReturn                        float64\n",
      "ProsperRating (numeric)                float64\n",
      "ProsperRating (Alpha)                   object\n",
      "ProsperScore                           float64\n",
      "ListingCategory (numeric)                int64\n",
      "BorrowerState                           object\n",
      "Occupation                              object\n",
      "EmploymentStatus                        object\n",
      "EmploymentStatusDuration               float64\n",
      "IsBorrowerHomeowner                       bool\n",
      "CurrentlyInGroup                          bool\n",
      "GroupKey                                object\n",
      "DateCreditPulled                        object\n",
      "CreditScoreRangeLower                  float64\n",
      "CreditScoreRangeUpper                  float64\n",
      "FirstRecordedCreditLine                 object\n",
      "CurrentCreditLines                     float64\n",
      "OpenCreditLines                        float64\n",
      "                                        ...   \n",
      "TotalProsperLoans                      float64\n",
      "TotalProsperPaymentsBilled             float64\n",
      "OnTimeProsperPayments                  float64\n",
      "ProsperPaymentsLessThanOneMonthLate    float64\n",
      "ProsperPaymentsOneMonthPlusLate        float64\n",
      "ProsperPrincipalBorrowed               float64\n",
      "ProsperPrincipalOutstanding            float64\n",
      "ScorexChangeAtTimeOfListing            float64\n",
      "LoanCurrentDaysDelinquent                int64\n",
      "LoanFirstDefaultedCycleNumber          float64\n",
      "LoanMonthsSinceOrigination               int64\n",
      "LoanNumber                               int64\n",
      "LoanOriginalAmount                       int64\n",
      "LoanOriginationDate                     object\n",
      "LoanOriginationQuarter                  object\n",
      "MemberKey                               object\n",
      "MonthlyLoanPayment                     float64\n",
      "LP_CustomerPayments                    float64\n",
      "LP_CustomerPrincipalPayments           float64\n",
      "LP_InterestandFees                     float64\n",
      "LP_ServiceFees                         float64\n",
      "LP_CollectionFees                      float64\n",
      "LP_GrossPrincipalLoss                  float64\n",
      "LP_NetPrincipalLoss                    float64\n",
      "LP_NonPrincipalRecoverypayments        float64\n",
      "PercentFunded                          float64\n",
      "Recommendations                          int64\n",
      "InvestmentFromFriendsCount               int64\n",
      "InvestmentFromFriendsAmount            float64\n",
      "Investors                                int64\n",
      "Length: 81, dtype: object\n"
     ]
    }
   ],
   "source": [
    "# high-level overview of data shape and composition\n",
    "print(loans.shape)\n",
    "print(loans.dtypes)"
   ]
  },
  {
   "cell_type": "markdown",
   "metadata": {},
   "source": [
    "### What is the structure of your dataset?\n",
    "\n",
    "There are 113,937 loans with 81 features for each loan. This is a lot of features and some are only relevant to certain periods of time (e.g. pre-2009, post-July 2009). These features include details such as Term, Loan status, Borrower rate, various scores and ratings, demographic features such as Occupation, Employment status, Home ownership, various credit scores and totals, income range and details specific to the loan.\n",
    "\n",
    "### What is/are the main feature(s) of interest in your dataset?\n",
    "\n",
    "I am most interested in finding out what features have the greatest impact on Loan Outcome Status, specifically on whether or not the loan is paid off.\n",
    "\n",
    "### What features in the dataset do you think will help support your investigation into your feature(s) of interest?\n",
    "\n",
    "There are a number of features that I feel to be of interest in investigating Loan Outcome Status. These include the reason for the loan (ListingCategory), their employment status (EmploymentStatus), their home ownership status, their credit scores, number of delinquincies, their debt-to-income ratio (DebtToIncomeRatio), their monthly income, the amount of the loan (LoanOriginalAmount) and level of monthly payments (MonthlyLoanPayment). I expect that borrowers with higher debt-to-income ratios, lower monthly income and lower credit scores are less likely to complete their loan payments."
   ]
  },
  {
   "cell_type": "markdown",
   "metadata": {},
   "source": [
    "### Initial cleaning\n",
    "\n",
    "A quick visual assessment looking at the data file shows that the data requires some initial cleaning before I can start analysing it. This will involve dropping unnecessary columns, cleaning column types and creating new columns to help with the analysis.\n",
    "\n",
    "There are a lot of columns in the data which makes useful analysis difficult. I will start by reducing the dataframe to only the columns that are of interest to me for investigating the Loan Status Outcome. For example, LoanNumber can be used to identify individual loans. This removes the need to hold ListingNumber, ListingKey and LoanKey which are all associated with a unique LoanNumber."
   ]
  },
  {
   "cell_type": "code",
   "execution_count": 4,
   "metadata": {},
   "outputs": [],
   "source": [
    "# Reduce the number of columns to just those that may be of interest\n",
    "columns = ['Term', 'LoanStatus', 'BorrowerAPR', 'BorrowerRate', 'ListingCategory (numeric)', 'EmploymentStatus', \n",
    "           'IsBorrowerHomeowner', 'CreditScoreRangeLower', 'CreditScoreRangeUpper', 'TotalCreditLinespast7years',\n",
    "           'OpenRevolvingAccounts', 'OpenRevolvingMonthlyPayment', 'CurrentDelinquencies', 'DelinquenciesLast7Years', \n",
    "           'DebtToIncomeRatio', 'StatedMonthlyIncome', 'LoanNumber', 'LoanOriginalAmount', 'LoanOriginationQuarter',\n",
    "           'MemberKey', 'MonthlyLoanPayment']\n",
    "loans = loans[columns]"
   ]
  },
  {
   "cell_type": "markdown",
   "metadata": {},
   "source": [
    "Some of the column headings are confusing or difficult to work with so I will rename them."
   ]
  },
  {
   "cell_type": "code",
   "execution_count": 5,
   "metadata": {},
   "outputs": [],
   "source": [
    "loans = loans.rename(columns={'ListingCategory (numeric)':'ListingCategory','IsBorrowerHomeowner':'HomeOwner',\n",
    "                              'TotalCreditLinespast7years':'TotalCreditLines',\n",
    "                              'DelinquenciesLast7Years':'TotalDelinquencies'})"
   ]
  },
  {
   "cell_type": "markdown",
   "metadata": {},
   "source": [
    "I am interested in the effect of the features on Loan Outcome Status. Loans that have not yet reached an outcome need to be removed as I do not know what their final outcome will be (I cannot identify what effect their features have on Loan Outcome Status as their status is not yet known). First I will check the values in the LoanStatus column."
   ]
  },
  {
   "cell_type": "code",
   "execution_count": 6,
   "metadata": {},
   "outputs": [
    {
     "data": {
      "text/plain": [
       "Current                   56576\n",
       "Completed                 38074\n",
       "Chargedoff                11992\n",
       "Defaulted                  5018\n",
       "Past Due (1-15 days)        806\n",
       "Past Due (31-60 days)       363\n",
       "Past Due (61-90 days)       313\n",
       "Past Due (91-120 days)      304\n",
       "Past Due (16-30 days)       265\n",
       "FinalPaymentInProgress      205\n",
       "Past Due (>120 days)         16\n",
       "Cancelled                     5\n",
       "Name: LoanStatus, dtype: int64"
      ]
     },
     "execution_count": 6,
     "metadata": {},
     "output_type": "execute_result"
    }
   ],
   "source": [
    "loans.LoanStatus.value_counts()"
   ]
  },
  {
   "cell_type": "markdown",
   "metadata": {},
   "source": [
    "For this analysis I am going to consider 'Chargedoff' and 'Defaulted' as loans that were not completed successfully. Loans that are 'Past Due...' I will consider current.The loans to be removed are those listed as 'Current', 'Past Due...' and 'FinalPaymentInProgress'. "
   ]
  },
  {
   "cell_type": "code",
   "execution_count": 7,
   "metadata": {},
   "outputs": [
    {
     "data": {
      "text/plain": [
       "Completed     38074\n",
       "Chargedoff    11992\n",
       "Defaulted      5018\n",
       "Cancelled         5\n",
       "Name: LoanStatus, dtype: int64"
      ]
     },
     "execution_count": 7,
     "metadata": {},
     "output_type": "execute_result"
    }
   ],
   "source": [
    "# Remove loans that have not reached an outcome\n",
    "loans = loans[loans['LoanStatus'].isin(['Completed', 'Chargedoff', 'Defaulted', 'Cancelled'])]\n",
    "loans.LoanStatus.value_counts()"
   ]
  },
  {
   "cell_type": "markdown",
   "metadata": {},
   "source": [
    "I am interested in knowing the outcome of the loan - if it was successfully paid off or not. This will be easiest by creating a new column that records the final status of the loan - LoanCompleted - which holds a string, either 'Completed' (paid off) or 'Not completed' (not paid off)."
   ]
  },
  {
   "cell_type": "code",
   "execution_count": 8,
   "metadata": {},
   "outputs": [],
   "source": [
    "# Return loan completion status\n",
    "def getLoanCompleted(loan_status):\n",
    "    \"\"\"Return True if loan completed, False otherwise.\"\"\"\n",
    "    if loan_status.strip() == 'Completed':\n",
    "        return 'Completed'\n",
    "    else:\n",
    "        return 'Not completed'\n",
    "    \n",
    "# Create column to hold status of loan outcome\n",
    "loans['LoanCompleted'] = loans['LoanStatus'].apply(getLoanCompleted)\n",
    "\n",
    "# Drop LoanStatus column\n",
    "loans.drop('LoanStatus', axis=1, inplace=True)"
   ]
  },
  {
   "cell_type": "code",
   "execution_count": 9,
   "metadata": {},
   "outputs": [
    {
     "name": "stdout",
     "output_type": "stream",
     "text": [
      "<class 'pandas.core.frame.DataFrame'>\n",
      "Int64Index: 55089 entries, 0 to 113935\n",
      "Data columns (total 21 columns):\n",
      "Term                           55089 non-null int64\n",
      "BorrowerAPR                    55064 non-null float64\n",
      "BorrowerRate                   55089 non-null float64\n",
      "ListingCategory                55089 non-null int64\n",
      "EmploymentStatus               52834 non-null object\n",
      "HomeOwner                      55089 non-null bool\n",
      "CreditScoreRangeLower          54498 non-null float64\n",
      "CreditScoreRangeUpper          54498 non-null float64\n",
      "TotalCreditLines               54392 non-null float64\n",
      "OpenRevolvingAccounts          55089 non-null int64\n",
      "OpenRevolvingMonthlyPayment    55089 non-null float64\n",
      "CurrentDelinquencies           54392 non-null float64\n",
      "TotalDelinquencies             54099 non-null float64\n",
      "DebtToIncomeRatio              50859 non-null float64\n",
      "StatedMonthlyIncome            55089 non-null float64\n",
      "LoanNumber                     55089 non-null int64\n",
      "LoanOriginalAmount             55089 non-null int64\n",
      "LoanOriginationQuarter         55089 non-null object\n",
      "MemberKey                      55089 non-null object\n",
      "MonthlyLoanPayment             55089 non-null float64\n",
      "LoanCompleted                  55089 non-null object\n",
      "dtypes: bool(1), float64(11), int64(5), object(4)\n",
      "memory usage: 8.9+ MB\n"
     ]
    }
   ],
   "source": [
    "# Examine remaining columns\n",
    "loans.info()"
   ]
  },
  {
   "cell_type": "markdown",
   "metadata": {},
   "source": [
    "Several of the columns will need some cleaning before we can perform analysis on them."
   ]
  },
  {
   "cell_type": "code",
   "execution_count": 10,
   "metadata": {},
   "outputs": [],
   "source": [
    "# Convert LoanNumber to a string as we will not perform calcluations on it\n",
    "loans['LoanNumber'] = loans['LoanNumber'].astype('str')"
   ]
  },
  {
   "cell_type": "markdown",
   "metadata": {},
   "source": [
    "The Listing Category column currently only has ints. These will be much easier to analyse by converting them to a string that states what the int represents and then setting the column to category type."
   ]
  },
  {
   "cell_type": "code",
   "execution_count": 11,
   "metadata": {
    "scrolled": true
   },
   "outputs": [],
   "source": [
    "# Convert the ListingCategory column to readable values\n",
    "def convert_listing_category(cat):\n",
    "    \"\"\"Convert the listing category to a human-readable string.\"\"\"\n",
    "    categories = ['Not Available', 'Debt Consolidation', 'Home Improvement', 'Business', 'Personal Loan', 'Student Use',\n",
    "                 'Auto', 'Other', 'Baby and Adoption', 'Boat', 'Cosmetic Procedure', 'Engagement Ring', 'Green Loans',\n",
    "                 'Household Expense', 'Large Purchases', 'Medical and Dental', 'Motorcycle', 'RV', 'Taxes', 'Vacation',\n",
    "                 'Wedding']\n",
    "    return categories[cat]\n",
    "\n",
    "loans['ListingCategory'] = loans['ListingCategory'].apply(convert_listing_category)"
   ]
  },
  {
   "cell_type": "code",
   "execution_count": 12,
   "metadata": {},
   "outputs": [],
   "source": [
    "# Convert ListingCategoy to categorical types\n",
    "loans['ListingCategory'] = loans['ListingCategory'].astype('category')"
   ]
  },
  {
   "cell_type": "markdown",
   "metadata": {},
   "source": [
    "The null values in EmploymentStatus can also be represented by the existing 'Not available' value, so these should be converted to be consistent and make analysis easier. The column can then be changed to a category type."
   ]
  },
  {
   "cell_type": "code",
   "execution_count": 13,
   "metadata": {},
   "outputs": [],
   "source": [
    "# Convert null EmploymentStatus to 'Not Available'\n",
    "loans['EmploymentStatus'] = loans['EmploymentStatus'].fillna('Not available')"
   ]
  },
  {
   "cell_type": "code",
   "execution_count": 14,
   "metadata": {},
   "outputs": [],
   "source": [
    "# Convert EmploymentStatus to categorical type\n",
    "loans['EmploymentStatus'] = loans['EmploymentStatus'].astype('category')"
   ]
  },
  {
   "cell_type": "markdown",
   "metadata": {},
   "source": [
    "LoanOriginationQuarter can also be converted to a category type."
   ]
  },
  {
   "cell_type": "code",
   "execution_count": 15,
   "metadata": {},
   "outputs": [],
   "source": [
    "# Convert LoanOriginationQuarter to categorical type\n",
    "loans['LoanOriginationQuarter'] = loans['LoanOriginationQuarter'].astype('category')"
   ]
  },
  {
   "cell_type": "code",
   "execution_count": 16,
   "metadata": {},
   "outputs": [
    {
     "data": {
      "text/plain": [
       "36    49861\n",
       "60     3696\n",
       "12     1532\n",
       "Name: Term, dtype: int64"
      ]
     },
     "execution_count": 16,
     "metadata": {},
     "output_type": "execute_result"
    }
   ],
   "source": [
    "loans.Term.value_counts()"
   ]
  },
  {
   "cell_type": "markdown",
   "metadata": {},
   "source": [
    "There are only three possible terms, so these are better represented as categories"
   ]
  },
  {
   "cell_type": "code",
   "execution_count": 17,
   "metadata": {},
   "outputs": [],
   "source": [
    "# Convert Term to categorical type\n",
    "loans['Term'] = loans['Term'].astype('category')"
   ]
  },
  {
   "cell_type": "markdown",
   "metadata": {},
   "source": [
    "The Credit Score will be more useful if there is one Credit Score value per row, rather than a lower and upper value. A new column can be created that holds the mean of the lower and upper scores for each row."
   ]
  },
  {
   "cell_type": "code",
   "execution_count": 18,
   "metadata": {},
   "outputs": [],
   "source": [
    "# Function to calculate mean of lower and upper credit ratings\n",
    "def get_rating(lower, upper):\n",
    "    \"Calculate mean of lower and upper credit ratings.\"\n",
    "    mean = (lower + upper) / 2\n",
    "    return mean\n",
    "\n",
    "# Add CreditScore column and populate\n",
    "loans['CreditScore'] = loans.apply(lambda x: get_rating(x['CreditScoreRangeLower'], x['CreditScoreRangeUpper']), axis=1)\n",
    "\n",
    "# Drop unneeded Credit Range columns\n",
    "loans.drop(['CreditScoreRangeLower','CreditScoreRangeUpper'], axis=1, inplace=True)"
   ]
  },
  {
   "cell_type": "markdown",
   "metadata": {},
   "source": [
    "As I will be using LoanNumber to identify unique loans, I need to make sure there are no duplicated loan records."
   ]
  },
  {
   "cell_type": "code",
   "execution_count": 19,
   "metadata": {},
   "outputs": [
    {
     "data": {
      "text/html": [
       "<div>\n",
       "<style scoped>\n",
       "    .dataframe tbody tr th:only-of-type {\n",
       "        vertical-align: middle;\n",
       "    }\n",
       "\n",
       "    .dataframe tbody tr th {\n",
       "        vertical-align: top;\n",
       "    }\n",
       "\n",
       "    .dataframe thead th {\n",
       "        text-align: right;\n",
       "    }\n",
       "</style>\n",
       "<table border=\"1\" class=\"dataframe\">\n",
       "  <thead>\n",
       "    <tr style=\"text-align: right;\">\n",
       "      <th></th>\n",
       "      <th>Term</th>\n",
       "      <th>BorrowerAPR</th>\n",
       "      <th>BorrowerRate</th>\n",
       "      <th>ListingCategory</th>\n",
       "      <th>EmploymentStatus</th>\n",
       "      <th>HomeOwner</th>\n",
       "      <th>TotalCreditLines</th>\n",
       "      <th>OpenRevolvingAccounts</th>\n",
       "      <th>OpenRevolvingMonthlyPayment</th>\n",
       "      <th>CurrentDelinquencies</th>\n",
       "      <th>TotalDelinquencies</th>\n",
       "      <th>DebtToIncomeRatio</th>\n",
       "      <th>StatedMonthlyIncome</th>\n",
       "      <th>LoanNumber</th>\n",
       "      <th>LoanOriginalAmount</th>\n",
       "      <th>LoanOriginationQuarter</th>\n",
       "      <th>MemberKey</th>\n",
       "      <th>MonthlyLoanPayment</th>\n",
       "      <th>LoanCompleted</th>\n",
       "      <th>CreditScore</th>\n",
       "    </tr>\n",
       "  </thead>\n",
       "  <tbody>\n",
       "    <tr>\n",
       "      <th>33959</th>\n",
       "      <td>60</td>\n",
       "      <td>0.28875</td>\n",
       "      <td>0.2624</td>\n",
       "      <td>Business</td>\n",
       "      <td>Employed</td>\n",
       "      <td>False</td>\n",
       "      <td>61.0</td>\n",
       "      <td>7</td>\n",
       "      <td>255.0</td>\n",
       "      <td>0.0</td>\n",
       "      <td>0.0</td>\n",
       "      <td>0.33</td>\n",
       "      <td>4506.666667</td>\n",
       "      <td>131358</td>\n",
       "      <td>5500</td>\n",
       "      <td>Q1 2014</td>\n",
       "      <td>85D535659273197054A0BB3</td>\n",
       "      <td>165.45</td>\n",
       "      <td>Completed</td>\n",
       "      <td>669.5</td>\n",
       "    </tr>\n",
       "    <tr>\n",
       "      <th>37956</th>\n",
       "      <td>36</td>\n",
       "      <td>0.22875</td>\n",
       "      <td>0.1915</td>\n",
       "      <td>Debt Consolidation</td>\n",
       "      <td>Employed</td>\n",
       "      <td>False</td>\n",
       "      <td>19.0</td>\n",
       "      <td>13</td>\n",
       "      <td>459.0</td>\n",
       "      <td>0.0</td>\n",
       "      <td>0.0</td>\n",
       "      <td>0.20</td>\n",
       "      <td>6083.333333</td>\n",
       "      <td>105288</td>\n",
       "      <td>20000</td>\n",
       "      <td>Q4 2013</td>\n",
       "      <td>8EC335867884136891E9E14</td>\n",
       "      <td>734.64</td>\n",
       "      <td>Completed</td>\n",
       "      <td>669.5</td>\n",
       "    </tr>\n",
       "    <tr>\n",
       "      <th>51079</th>\n",
       "      <td>36</td>\n",
       "      <td>0.23438</td>\n",
       "      <td>0.1970</td>\n",
       "      <td>Debt Consolidation</td>\n",
       "      <td>Employed</td>\n",
       "      <td>True</td>\n",
       "      <td>43.0</td>\n",
       "      <td>13</td>\n",
       "      <td>1027.0</td>\n",
       "      <td>0.0</td>\n",
       "      <td>0.0</td>\n",
       "      <td>0.16</td>\n",
       "      <td>14583.333333</td>\n",
       "      <td>123094</td>\n",
       "      <td>5000</td>\n",
       "      <td>Q4 2013</td>\n",
       "      <td>9FA83698836314377793393</td>\n",
       "      <td>185.05</td>\n",
       "      <td>Completed</td>\n",
       "      <td>669.5</td>\n",
       "    </tr>\n",
       "    <tr>\n",
       "      <th>60004</th>\n",
       "      <td>36</td>\n",
       "      <td>0.13799</td>\n",
       "      <td>0.1099</td>\n",
       "      <td>Other</td>\n",
       "      <td>Employed</td>\n",
       "      <td>True</td>\n",
       "      <td>21.0</td>\n",
       "      <td>6</td>\n",
       "      <td>237.0</td>\n",
       "      <td>0.0</td>\n",
       "      <td>1.0</td>\n",
       "      <td>0.23</td>\n",
       "      <td>4250.000000</td>\n",
       "      <td>110303</td>\n",
       "      <td>2000</td>\n",
       "      <td>Q4 2013</td>\n",
       "      <td>4553358888719707373CD1C</td>\n",
       "      <td>65.47</td>\n",
       "      <td>Completed</td>\n",
       "      <td>689.5</td>\n",
       "    </tr>\n",
       "    <tr>\n",
       "      <th>61289</th>\n",
       "      <td>36</td>\n",
       "      <td>0.09000</td>\n",
       "      <td>0.0766</td>\n",
       "      <td>Debt Consolidation</td>\n",
       "      <td>Self-employed</td>\n",
       "      <td>True</td>\n",
       "      <td>17.0</td>\n",
       "      <td>5</td>\n",
       "      <td>178.0</td>\n",
       "      <td>0.0</td>\n",
       "      <td>0.0</td>\n",
       "      <td>NaN</td>\n",
       "      <td>7500.000000</td>\n",
       "      <td>107275</td>\n",
       "      <td>3500</td>\n",
       "      <td>Q4 2013</td>\n",
       "      <td>34193560492599576667729</td>\n",
       "      <td>109.13</td>\n",
       "      <td>Completed</td>\n",
       "      <td>809.5</td>\n",
       "    </tr>\n",
       "    <tr>\n",
       "      <th>68585</th>\n",
       "      <td>36</td>\n",
       "      <td>0.18633</td>\n",
       "      <td>0.1500</td>\n",
       "      <td>Debt Consolidation</td>\n",
       "      <td>Employed</td>\n",
       "      <td>False</td>\n",
       "      <td>40.0</td>\n",
       "      <td>16</td>\n",
       "      <td>604.0</td>\n",
       "      <td>0.0</td>\n",
       "      <td>0.0</td>\n",
       "      <td>0.34</td>\n",
       "      <td>7500.000000</td>\n",
       "      <td>121979</td>\n",
       "      <td>15000</td>\n",
       "      <td>Q4 2013</td>\n",
       "      <td>27FA3533700778342A3BB33</td>\n",
       "      <td>519.98</td>\n",
       "      <td>Completed</td>\n",
       "      <td>709.5</td>\n",
       "    </tr>\n",
       "    <tr>\n",
       "      <th>70435</th>\n",
       "      <td>60</td>\n",
       "      <td>0.19988</td>\n",
       "      <td>0.1760</td>\n",
       "      <td>Debt Consolidation</td>\n",
       "      <td>Employed</td>\n",
       "      <td>True</td>\n",
       "      <td>26.0</td>\n",
       "      <td>8</td>\n",
       "      <td>159.0</td>\n",
       "      <td>2.0</td>\n",
       "      <td>0.0</td>\n",
       "      <td>0.26</td>\n",
       "      <td>4125.000000</td>\n",
       "      <td>119188</td>\n",
       "      <td>15000</td>\n",
       "      <td>Q4 2013</td>\n",
       "      <td>4FC835464074587007C7ABC</td>\n",
       "      <td>377.64</td>\n",
       "      <td>Completed</td>\n",
       "      <td>729.5</td>\n",
       "    </tr>\n",
       "    <tr>\n",
       "      <th>96475</th>\n",
       "      <td>60</td>\n",
       "      <td>0.22601</td>\n",
       "      <td>0.2015</td>\n",
       "      <td>Debt Consolidation</td>\n",
       "      <td>Employed</td>\n",
       "      <td>False</td>\n",
       "      <td>20.0</td>\n",
       "      <td>11</td>\n",
       "      <td>506.0</td>\n",
       "      <td>0.0</td>\n",
       "      <td>0.0</td>\n",
       "      <td>0.23</td>\n",
       "      <td>4125.000000</td>\n",
       "      <td>101908</td>\n",
       "      <td>15000</td>\n",
       "      <td>Q3 2013</td>\n",
       "      <td>7EF83383685864632D111F0</td>\n",
       "      <td>398.66</td>\n",
       "      <td>Completed</td>\n",
       "      <td>689.5</td>\n",
       "    </tr>\n",
       "    <tr>\n",
       "      <th>97137</th>\n",
       "      <td>36</td>\n",
       "      <td>0.32446</td>\n",
       "      <td>0.2850</td>\n",
       "      <td>Debt Consolidation</td>\n",
       "      <td>Employed</td>\n",
       "      <td>False</td>\n",
       "      <td>30.0</td>\n",
       "      <td>6</td>\n",
       "      <td>88.0</td>\n",
       "      <td>0.0</td>\n",
       "      <td>13.0</td>\n",
       "      <td>0.17</td>\n",
       "      <td>5833.333333</td>\n",
       "      <td>121751</td>\n",
       "      <td>4000</td>\n",
       "      <td>Q4 2013</td>\n",
       "      <td>4E9335537538907782E9392</td>\n",
       "      <td>166.54</td>\n",
       "      <td>Completed</td>\n",
       "      <td>669.5</td>\n",
       "    </tr>\n",
       "    <tr>\n",
       "      <th>97330</th>\n",
       "      <td>60</td>\n",
       "      <td>0.23318</td>\n",
       "      <td>0.2085</td>\n",
       "      <td>Debt Consolidation</td>\n",
       "      <td>Employed</td>\n",
       "      <td>True</td>\n",
       "      <td>26.0</td>\n",
       "      <td>8</td>\n",
       "      <td>339.0</td>\n",
       "      <td>0.0</td>\n",
       "      <td>0.0</td>\n",
       "      <td>0.32</td>\n",
       "      <td>4166.666667</td>\n",
       "      <td>118909</td>\n",
       "      <td>13000</td>\n",
       "      <td>Q4 2013</td>\n",
       "      <td>117636957815160767DC8DC</td>\n",
       "      <td>350.60</td>\n",
       "      <td>Completed</td>\n",
       "      <td>689.5</td>\n",
       "    </tr>\n",
       "    <tr>\n",
       "      <th>99090</th>\n",
       "      <td>36</td>\n",
       "      <td>0.09534</td>\n",
       "      <td>0.0819</td>\n",
       "      <td>Home Improvement</td>\n",
       "      <td>Employed</td>\n",
       "      <td>False</td>\n",
       "      <td>26.0</td>\n",
       "      <td>9</td>\n",
       "      <td>224.0</td>\n",
       "      <td>0.0</td>\n",
       "      <td>0.0</td>\n",
       "      <td>0.14</td>\n",
       "      <td>3750.000000</td>\n",
       "      <td>108257</td>\n",
       "      <td>10000</td>\n",
       "      <td>Q4 2013</td>\n",
       "      <td>1859369694988323456B99E</td>\n",
       "      <td>314.24</td>\n",
       "      <td>Completed</td>\n",
       "      <td>789.5</td>\n",
       "    </tr>\n",
       "    <tr>\n",
       "      <th>101171</th>\n",
       "      <td>36</td>\n",
       "      <td>0.17090</td>\n",
       "      <td>0.1349</td>\n",
       "      <td>Other</td>\n",
       "      <td>Employed</td>\n",
       "      <td>False</td>\n",
       "      <td>30.0</td>\n",
       "      <td>10</td>\n",
       "      <td>315.0</td>\n",
       "      <td>0.0</td>\n",
       "      <td>0.0</td>\n",
       "      <td>0.27</td>\n",
       "      <td>2500.000000</td>\n",
       "      <td>112174</td>\n",
       "      <td>4000</td>\n",
       "      <td>Q4 2013</td>\n",
       "      <td>E46436944820827864B5342</td>\n",
       "      <td>135.72</td>\n",
       "      <td>Completed</td>\n",
       "      <td>689.5</td>\n",
       "    </tr>\n",
       "    <tr>\n",
       "      <th>101928</th>\n",
       "      <td>36</td>\n",
       "      <td>0.23438</td>\n",
       "      <td>0.1970</td>\n",
       "      <td>Debt Consolidation</td>\n",
       "      <td>Employed</td>\n",
       "      <td>False</td>\n",
       "      <td>15.0</td>\n",
       "      <td>8</td>\n",
       "      <td>475.0</td>\n",
       "      <td>0.0</td>\n",
       "      <td>0.0</td>\n",
       "      <td>0.13</td>\n",
       "      <td>5333.333333</td>\n",
       "      <td>119542</td>\n",
       "      <td>4500</td>\n",
       "      <td>Q4 2013</td>\n",
       "      <td>2A3E3695252772746B63733</td>\n",
       "      <td>166.55</td>\n",
       "      <td>Completed</td>\n",
       "      <td>669.5</td>\n",
       "    </tr>\n",
       "  </tbody>\n",
       "</table>\n",
       "</div>"
      ],
      "text/plain": [
       "       Term  BorrowerAPR  BorrowerRate     ListingCategory EmploymentStatus  \\\n",
       "33959    60      0.28875        0.2624            Business         Employed   \n",
       "37956    36      0.22875        0.1915  Debt Consolidation         Employed   \n",
       "51079    36      0.23438        0.1970  Debt Consolidation         Employed   \n",
       "60004    36      0.13799        0.1099               Other         Employed   \n",
       "61289    36      0.09000        0.0766  Debt Consolidation    Self-employed   \n",
       "68585    36      0.18633        0.1500  Debt Consolidation         Employed   \n",
       "70435    60      0.19988        0.1760  Debt Consolidation         Employed   \n",
       "96475    60      0.22601        0.2015  Debt Consolidation         Employed   \n",
       "97137    36      0.32446        0.2850  Debt Consolidation         Employed   \n",
       "97330    60      0.23318        0.2085  Debt Consolidation         Employed   \n",
       "99090    36      0.09534        0.0819    Home Improvement         Employed   \n",
       "101171   36      0.17090        0.1349               Other         Employed   \n",
       "101928   36      0.23438        0.1970  Debt Consolidation         Employed   \n",
       "\n",
       "        HomeOwner  TotalCreditLines  OpenRevolvingAccounts  \\\n",
       "33959       False              61.0                      7   \n",
       "37956       False              19.0                     13   \n",
       "51079        True              43.0                     13   \n",
       "60004        True              21.0                      6   \n",
       "61289        True              17.0                      5   \n",
       "68585       False              40.0                     16   \n",
       "70435        True              26.0                      8   \n",
       "96475       False              20.0                     11   \n",
       "97137       False              30.0                      6   \n",
       "97330        True              26.0                      8   \n",
       "99090       False              26.0                      9   \n",
       "101171      False              30.0                     10   \n",
       "101928      False              15.0                      8   \n",
       "\n",
       "        OpenRevolvingMonthlyPayment  CurrentDelinquencies  TotalDelinquencies  \\\n",
       "33959                         255.0                   0.0                 0.0   \n",
       "37956                         459.0                   0.0                 0.0   \n",
       "51079                        1027.0                   0.0                 0.0   \n",
       "60004                         237.0                   0.0                 1.0   \n",
       "61289                         178.0                   0.0                 0.0   \n",
       "68585                         604.0                   0.0                 0.0   \n",
       "70435                         159.0                   2.0                 0.0   \n",
       "96475                         506.0                   0.0                 0.0   \n",
       "97137                          88.0                   0.0                13.0   \n",
       "97330                         339.0                   0.0                 0.0   \n",
       "99090                         224.0                   0.0                 0.0   \n",
       "101171                        315.0                   0.0                 0.0   \n",
       "101928                        475.0                   0.0                 0.0   \n",
       "\n",
       "        DebtToIncomeRatio  StatedMonthlyIncome LoanNumber  LoanOriginalAmount  \\\n",
       "33959                0.33          4506.666667     131358                5500   \n",
       "37956                0.20          6083.333333     105288               20000   \n",
       "51079                0.16         14583.333333     123094                5000   \n",
       "60004                0.23          4250.000000     110303                2000   \n",
       "61289                 NaN          7500.000000     107275                3500   \n",
       "68585                0.34          7500.000000     121979               15000   \n",
       "70435                0.26          4125.000000     119188               15000   \n",
       "96475                0.23          4125.000000     101908               15000   \n",
       "97137                0.17          5833.333333     121751                4000   \n",
       "97330                0.32          4166.666667     118909               13000   \n",
       "99090                0.14          3750.000000     108257               10000   \n",
       "101171               0.27          2500.000000     112174                4000   \n",
       "101928               0.13          5333.333333     119542                4500   \n",
       "\n",
       "       LoanOriginationQuarter                MemberKey  MonthlyLoanPayment  \\\n",
       "33959                 Q1 2014  85D535659273197054A0BB3              165.45   \n",
       "37956                 Q4 2013  8EC335867884136891E9E14              734.64   \n",
       "51079                 Q4 2013  9FA83698836314377793393              185.05   \n",
       "60004                 Q4 2013  4553358888719707373CD1C               65.47   \n",
       "61289                 Q4 2013  34193560492599576667729              109.13   \n",
       "68585                 Q4 2013  27FA3533700778342A3BB33              519.98   \n",
       "70435                 Q4 2013  4FC835464074587007C7ABC              377.64   \n",
       "96475                 Q3 2013  7EF83383685864632D111F0              398.66   \n",
       "97137                 Q4 2013  4E9335537538907782E9392              166.54   \n",
       "97330                 Q4 2013  117636957815160767DC8DC              350.60   \n",
       "99090                 Q4 2013  1859369694988323456B99E              314.24   \n",
       "101171                Q4 2013  E46436944820827864B5342              135.72   \n",
       "101928                Q4 2013  2A3E3695252772746B63733              166.55   \n",
       "\n",
       "       LoanCompleted  CreditScore  \n",
       "33959      Completed        669.5  \n",
       "37956      Completed        669.5  \n",
       "51079      Completed        669.5  \n",
       "60004      Completed        689.5  \n",
       "61289      Completed        809.5  \n",
       "68585      Completed        709.5  \n",
       "70435      Completed        729.5  \n",
       "96475      Completed        689.5  \n",
       "97137      Completed        669.5  \n",
       "97330      Completed        689.5  \n",
       "99090      Completed        789.5  \n",
       "101171     Completed        689.5  \n",
       "101928     Completed        669.5  "
      ]
     },
     "execution_count": 19,
     "metadata": {},
     "output_type": "execute_result"
    }
   ],
   "source": [
    "dupes = loans[loans['LoanNumber'].duplicated() == True]\n",
    "dupes"
   ]
  },
  {
   "cell_type": "markdown",
   "metadata": {},
   "source": [
    "There are 13 duplicated records in the data based on LoanNumber. A visual check of these in the raw data showed that the only difference between the duplicates was the ProsperScore, which is not being used in this analysis. For this reason we can drop the duplicate values."
   ]
  },
  {
   "cell_type": "code",
   "execution_count": 20,
   "metadata": {},
   "outputs": [],
   "source": [
    "# Drop rows duplicated on LoanNumber\n",
    "loans.drop_duplicates('LoanNumber', inplace=True)"
   ]
  },
  {
   "cell_type": "code",
   "execution_count": 21,
   "metadata": {},
   "outputs": [
    {
     "name": "stdout",
     "output_type": "stream",
     "text": [
      "<class 'pandas.core.frame.DataFrame'>\n",
      "Int64Index: 55076 entries, 0 to 113935\n",
      "Data columns (total 20 columns):\n",
      "Term                           55076 non-null category\n",
      "BorrowerAPR                    55051 non-null float64\n",
      "BorrowerRate                   55076 non-null float64\n",
      "ListingCategory                55076 non-null category\n",
      "EmploymentStatus               55076 non-null category\n",
      "HomeOwner                      55076 non-null bool\n",
      "TotalCreditLines               54379 non-null float64\n",
      "OpenRevolvingAccounts          55076 non-null int64\n",
      "OpenRevolvingMonthlyPayment    55076 non-null float64\n",
      "CurrentDelinquencies           54379 non-null float64\n",
      "TotalDelinquencies             54086 non-null float64\n",
      "DebtToIncomeRatio              50847 non-null float64\n",
      "StatedMonthlyIncome            55076 non-null float64\n",
      "LoanNumber                     55076 non-null object\n",
      "LoanOriginalAmount             55076 non-null int64\n",
      "LoanOriginationQuarter         55076 non-null category\n",
      "MemberKey                      55076 non-null object\n",
      "MonthlyLoanPayment             55076 non-null float64\n",
      "LoanCompleted                  55076 non-null object\n",
      "CreditScore                    54485 non-null float64\n",
      "dtypes: bool(1), category(4), float64(10), int64(2), object(3)\n",
      "memory usage: 7.0+ MB\n"
     ]
    }
   ],
   "source": [
    "loans.info()"
   ]
  },
  {
   "cell_type": "markdown",
   "metadata": {},
   "source": [
    "### Missing Values"
   ]
  },
  {
   "cell_type": "markdown",
   "metadata": {},
   "source": [
    "There are several columns that contain missing values. We need to address each of these individually."
   ]
  },
  {
   "cell_type": "markdown",
   "metadata": {},
   "source": [
    "There are 25 rows missing the BorrowerAPR. This is a very small percentage of the total so we can use the mean for the column to fill these values."
   ]
  },
  {
   "cell_type": "code",
   "execution_count": 22,
   "metadata": {},
   "outputs": [],
   "source": [
    "# Fill missing BorrowerAPR values with the mean for the columnm\n",
    "mean_apr = loans.BorrowerAPR.mean()\n",
    "loans['BorrowerAPR'] = loans.BorrowerAPR.fillna(mean_apr)"
   ]
  },
  {
   "cell_type": "markdown",
   "metadata": {},
   "source": [
    "There are 591 rows missing Credit Score details. We should check what other information these rows are missing."
   ]
  },
  {
   "cell_type": "code",
   "execution_count": 23,
   "metadata": {},
   "outputs": [
    {
     "data": {
      "text/html": [
       "<div>\n",
       "<style scoped>\n",
       "    .dataframe tbody tr th:only-of-type {\n",
       "        vertical-align: middle;\n",
       "    }\n",
       "\n",
       "    .dataframe tbody tr th {\n",
       "        vertical-align: top;\n",
       "    }\n",
       "\n",
       "    .dataframe thead th {\n",
       "        text-align: right;\n",
       "    }\n",
       "</style>\n",
       "<table border=\"1\" class=\"dataframe\">\n",
       "  <thead>\n",
       "    <tr style=\"text-align: right;\">\n",
       "      <th></th>\n",
       "      <th>Term</th>\n",
       "      <th>BorrowerAPR</th>\n",
       "      <th>BorrowerRate</th>\n",
       "      <th>ListingCategory</th>\n",
       "      <th>EmploymentStatus</th>\n",
       "      <th>HomeOwner</th>\n",
       "      <th>TotalCreditLines</th>\n",
       "      <th>OpenRevolvingAccounts</th>\n",
       "      <th>OpenRevolvingMonthlyPayment</th>\n",
       "      <th>CurrentDelinquencies</th>\n",
       "      <th>TotalDelinquencies</th>\n",
       "      <th>DebtToIncomeRatio</th>\n",
       "      <th>StatedMonthlyIncome</th>\n",
       "      <th>LoanNumber</th>\n",
       "      <th>LoanOriginalAmount</th>\n",
       "      <th>LoanOriginationQuarter</th>\n",
       "      <th>MemberKey</th>\n",
       "      <th>MonthlyLoanPayment</th>\n",
       "      <th>LoanCompleted</th>\n",
       "      <th>CreditScore</th>\n",
       "    </tr>\n",
       "  </thead>\n",
       "  <tbody>\n",
       "    <tr>\n",
       "      <th>206</th>\n",
       "      <td>36</td>\n",
       "      <td>0.27767</td>\n",
       "      <td>0.2700</td>\n",
       "      <td>Not Available</td>\n",
       "      <td>Not available</td>\n",
       "      <td>False</td>\n",
       "      <td>NaN</td>\n",
       "      <td>0</td>\n",
       "      <td>0.0</td>\n",
       "      <td>NaN</td>\n",
       "      <td>NaN</td>\n",
       "      <td>0.16573</td>\n",
       "      <td>9166.666667</td>\n",
       "      <td>323</td>\n",
       "      <td>7500</td>\n",
       "      <td>Q1 2006</td>\n",
       "      <td>110A336465998424756030B</td>\n",
       "      <td>306.19</td>\n",
       "      <td>Not completed</td>\n",
       "      <td>NaN</td>\n",
       "    </tr>\n",
       "    <tr>\n",
       "      <th>387</th>\n",
       "      <td>36</td>\n",
       "      <td>0.09337</td>\n",
       "      <td>0.0865</td>\n",
       "      <td>Not Available</td>\n",
       "      <td>Not available</td>\n",
       "      <td>False</td>\n",
       "      <td>NaN</td>\n",
       "      <td>0</td>\n",
       "      <td>0.0</td>\n",
       "      <td>NaN</td>\n",
       "      <td>NaN</td>\n",
       "      <td>0.12624</td>\n",
       "      <td>3000.000000</td>\n",
       "      <td>174</td>\n",
       "      <td>3500</td>\n",
       "      <td>Q1 2006</td>\n",
       "      <td>69D933646754525905A852D</td>\n",
       "      <td>110.73</td>\n",
       "      <td>Completed</td>\n",
       "      <td>NaN</td>\n",
       "    </tr>\n",
       "    <tr>\n",
       "      <th>698</th>\n",
       "      <td>36</td>\n",
       "      <td>0.07680</td>\n",
       "      <td>0.0700</td>\n",
       "      <td>Not Available</td>\n",
       "      <td>Not available</td>\n",
       "      <td>False</td>\n",
       "      <td>NaN</td>\n",
       "      <td>0</td>\n",
       "      <td>0.0</td>\n",
       "      <td>NaN</td>\n",
       "      <td>NaN</td>\n",
       "      <td>0.02727</td>\n",
       "      <td>8333.333333</td>\n",
       "      <td>36</td>\n",
       "      <td>6001</td>\n",
       "      <td>Q1 2006</td>\n",
       "      <td>8DE133657363264326FD856</td>\n",
       "      <td>185.29</td>\n",
       "      <td>Completed</td>\n",
       "      <td>NaN</td>\n",
       "    </tr>\n",
       "    <tr>\n",
       "      <th>1023</th>\n",
       "      <td>36</td>\n",
       "      <td>0.08684</td>\n",
       "      <td>0.0800</td>\n",
       "      <td>Not Available</td>\n",
       "      <td>Not available</td>\n",
       "      <td>False</td>\n",
       "      <td>NaN</td>\n",
       "      <td>0</td>\n",
       "      <td>0.0</td>\n",
       "      <td>NaN</td>\n",
       "      <td>NaN</td>\n",
       "      <td>0.02480</td>\n",
       "      <td>8333.333333</td>\n",
       "      <td>396</td>\n",
       "      <td>5000</td>\n",
       "      <td>Q2 2006</td>\n",
       "      <td>6D11336601070734709170C</td>\n",
       "      <td>156.68</td>\n",
       "      <td>Completed</td>\n",
       "      <td>NaN</td>\n",
       "    </tr>\n",
       "    <tr>\n",
       "      <th>1126</th>\n",
       "      <td>36</td>\n",
       "      <td>0.20735</td>\n",
       "      <td>0.2000</td>\n",
       "      <td>Not Available</td>\n",
       "      <td>Not available</td>\n",
       "      <td>False</td>\n",
       "      <td>NaN</td>\n",
       "      <td>0</td>\n",
       "      <td>0.0</td>\n",
       "      <td>NaN</td>\n",
       "      <td>NaN</td>\n",
       "      <td>0.13759</td>\n",
       "      <td>4250.000000</td>\n",
       "      <td>202</td>\n",
       "      <td>2550</td>\n",
       "      <td>Q1 2006</td>\n",
       "      <td>EDAD3365722336384C605F7</td>\n",
       "      <td>94.77</td>\n",
       "      <td>Completed</td>\n",
       "      <td>NaN</td>\n",
       "    </tr>\n",
       "  </tbody>\n",
       "</table>\n",
       "</div>"
      ],
      "text/plain": [
       "     Term  BorrowerAPR  BorrowerRate ListingCategory EmploymentStatus  \\\n",
       "206    36      0.27767        0.2700   Not Available    Not available   \n",
       "387    36      0.09337        0.0865   Not Available    Not available   \n",
       "698    36      0.07680        0.0700   Not Available    Not available   \n",
       "1023   36      0.08684        0.0800   Not Available    Not available   \n",
       "1126   36      0.20735        0.2000   Not Available    Not available   \n",
       "\n",
       "      HomeOwner  TotalCreditLines  OpenRevolvingAccounts  \\\n",
       "206       False               NaN                      0   \n",
       "387       False               NaN                      0   \n",
       "698       False               NaN                      0   \n",
       "1023      False               NaN                      0   \n",
       "1126      False               NaN                      0   \n",
       "\n",
       "      OpenRevolvingMonthlyPayment  CurrentDelinquencies  TotalDelinquencies  \\\n",
       "206                           0.0                   NaN                 NaN   \n",
       "387                           0.0                   NaN                 NaN   \n",
       "698                           0.0                   NaN                 NaN   \n",
       "1023                          0.0                   NaN                 NaN   \n",
       "1126                          0.0                   NaN                 NaN   \n",
       "\n",
       "      DebtToIncomeRatio  StatedMonthlyIncome LoanNumber  LoanOriginalAmount  \\\n",
       "206             0.16573          9166.666667        323                7500   \n",
       "387             0.12624          3000.000000        174                3500   \n",
       "698             0.02727          8333.333333         36                6001   \n",
       "1023            0.02480          8333.333333        396                5000   \n",
       "1126            0.13759          4250.000000        202                2550   \n",
       "\n",
       "     LoanOriginationQuarter                MemberKey  MonthlyLoanPayment  \\\n",
       "206                 Q1 2006  110A336465998424756030B              306.19   \n",
       "387                 Q1 2006  69D933646754525905A852D              110.73   \n",
       "698                 Q1 2006  8DE133657363264326FD856              185.29   \n",
       "1023                Q2 2006  6D11336601070734709170C              156.68   \n",
       "1126                Q1 2006  EDAD3365722336384C605F7               94.77   \n",
       "\n",
       "      LoanCompleted  CreditScore  \n",
       "206   Not completed          NaN  \n",
       "387       Completed          NaN  \n",
       "698       Completed          NaN  \n",
       "1023      Completed          NaN  \n",
       "1126      Completed          NaN  "
      ]
     },
     "execution_count": 23,
     "metadata": {},
     "output_type": "execute_result"
    }
   ],
   "source": [
    "missing = loans[loans['CreditScore'].isnull() == True]\n",
    "missing.head()"
   ]
  },
  {
   "cell_type": "markdown",
   "metadata": {},
   "source": [
    "We can see that these rows are missing all of their credit data along with Listing Category, Employment Status, Delinquincies etc. We can drop these rows from the data as they only represent around 1% of the target data and I do not want to introduce noise or errors by using the mean for these values."
   ]
  },
  {
   "cell_type": "code",
   "execution_count": 24,
   "metadata": {},
   "outputs": [
    {
     "name": "stdout",
     "output_type": "stream",
     "text": [
      "<class 'pandas.core.frame.DataFrame'>\n",
      "Int64Index: 54485 entries, 0 to 113935\n",
      "Data columns (total 20 columns):\n",
      "Term                           54485 non-null category\n",
      "BorrowerAPR                    54485 non-null float64\n",
      "BorrowerRate                   54485 non-null float64\n",
      "ListingCategory                54485 non-null category\n",
      "EmploymentStatus               54485 non-null category\n",
      "HomeOwner                      54485 non-null bool\n",
      "TotalCreditLines               54379 non-null float64\n",
      "OpenRevolvingAccounts          54485 non-null int64\n",
      "OpenRevolvingMonthlyPayment    54485 non-null float64\n",
      "CurrentDelinquencies           54379 non-null float64\n",
      "TotalDelinquencies             54086 non-null float64\n",
      "DebtToIncomeRatio              50262 non-null float64\n",
      "StatedMonthlyIncome            54485 non-null float64\n",
      "LoanNumber                     54485 non-null object\n",
      "LoanOriginalAmount             54485 non-null int64\n",
      "LoanOriginationQuarter         54485 non-null category\n",
      "MemberKey                      54485 non-null object\n",
      "MonthlyLoanPayment             54485 non-null float64\n",
      "LoanCompleted                  54485 non-null object\n",
      "CreditScore                    54485 non-null float64\n",
      "dtypes: bool(1), category(4), float64(10), int64(2), object(3)\n",
      "memory usage: 6.9+ MB\n"
     ]
    }
   ],
   "source": [
    "# Drop rows missing credit values\n",
    "loans = loans[loans['CreditScore'].isnull() == False]\n",
    "loans.info()"
   ]
  },
  {
   "cell_type": "markdown",
   "metadata": {},
   "source": [
    "The remaining columns that have missing values can be dealt with when they are analysed - the null values can remain in place. Now we can look at an overview of the remaining data of interest"
   ]
  },
  {
   "cell_type": "code",
   "execution_count": 25,
   "metadata": {},
   "outputs": [
    {
     "name": "stdout",
     "output_type": "stream",
     "text": [
      "(54485, 20)\n",
      "Term                           category\n",
      "BorrowerAPR                     float64\n",
      "BorrowerRate                    float64\n",
      "ListingCategory                category\n",
      "EmploymentStatus               category\n",
      "HomeOwner                          bool\n",
      "TotalCreditLines                float64\n",
      "OpenRevolvingAccounts             int64\n",
      "OpenRevolvingMonthlyPayment     float64\n",
      "CurrentDelinquencies            float64\n",
      "TotalDelinquencies              float64\n",
      "DebtToIncomeRatio               float64\n",
      "StatedMonthlyIncome             float64\n",
      "LoanNumber                       object\n",
      "LoanOriginalAmount                int64\n",
      "LoanOriginationQuarter         category\n",
      "MemberKey                        object\n",
      "MonthlyLoanPayment              float64\n",
      "LoanCompleted                    object\n",
      "CreditScore                     float64\n",
      "dtype: object\n",
      "   Term  BorrowerAPR  BorrowerRate    ListingCategory EmploymentStatus  \\\n",
      "0    36      0.16516        0.1580      Not Available    Self-employed   \n",
      "2    36      0.28269        0.2750      Not Available    Not available   \n",
      "11   36      0.15033        0.1325      Not Available        Full-time   \n",
      "15   36      0.35797        0.3177  Household Expense            Other   \n",
      "17   36      0.13202        0.1250      Not Available    Not available   \n",
      "\n",
      "    HomeOwner  TotalCreditLines  OpenRevolvingAccounts  \\\n",
      "0        True              12.0                      1   \n",
      "2       False               3.0                      0   \n",
      "11      False              10.0                      1   \n",
      "15       True              18.0                      5   \n",
      "17       True              36.0                     16   \n",
      "\n",
      "    OpenRevolvingMonthlyPayment  CurrentDelinquencies  TotalDelinquencies  \\\n",
      "0                          24.0                   2.0                 4.0   \n",
      "2                           0.0                   1.0                 0.0   \n",
      "11                         40.0                   3.0                 1.0   \n",
      "15                        300.0                   0.0                 0.0   \n",
      "17                        346.0                   2.0                 0.0   \n",
      "\n",
      "    DebtToIncomeRatio  StatedMonthlyIncome LoanNumber  LoanOriginalAmount  \\\n",
      "0                0.17          3083.333333      19141                9425   \n",
      "2                0.06          2083.333333       6466                3001   \n",
      "11               0.27          1666.666667      20907                1000   \n",
      "15               0.49          5500.000000      63982                4000   \n",
      "17               0.12          5833.333333       2711               10000   \n",
      "\n",
      "   LoanOriginationQuarter                MemberKey  MonthlyLoanPayment  \\\n",
      "0                 Q3 2007  1F3E3376408759268057EDA              330.43   \n",
      "2                 Q1 2007  5F7033715035555618FA612              123.32   \n",
      "11                Q4 2007  59423376541417552B94BD3               33.81   \n",
      "15                Q2 2012  924335448287456229847ED              173.71   \n",
      "17                Q3 2006  893E3365582060699EBBADA              334.54   \n",
      "\n",
      "    LoanCompleted  CreditScore  \n",
      "0       Completed        649.5  \n",
      "2       Completed        489.5  \n",
      "11      Completed        649.5  \n",
      "15  Not completed        709.5  \n",
      "17  Not completed        769.5  \n"
     ]
    }
   ],
   "source": [
    "print(loans.shape)\n",
    "print(loans.dtypes)\n",
    "print(loans.head())"
   ]
  },
  {
   "cell_type": "code",
   "execution_count": 26,
   "metadata": {},
   "outputs": [
    {
     "data": {
      "text/html": [
       "<div>\n",
       "<style scoped>\n",
       "    .dataframe tbody tr th:only-of-type {\n",
       "        vertical-align: middle;\n",
       "    }\n",
       "\n",
       "    .dataframe tbody tr th {\n",
       "        vertical-align: top;\n",
       "    }\n",
       "\n",
       "    .dataframe thead th {\n",
       "        text-align: right;\n",
       "    }\n",
       "</style>\n",
       "<table border=\"1\" class=\"dataframe\">\n",
       "  <thead>\n",
       "    <tr style=\"text-align: right;\">\n",
       "      <th></th>\n",
       "      <th>BorrowerAPR</th>\n",
       "      <th>BorrowerRate</th>\n",
       "      <th>TotalCreditLines</th>\n",
       "      <th>OpenRevolvingAccounts</th>\n",
       "      <th>OpenRevolvingMonthlyPayment</th>\n",
       "      <th>CurrentDelinquencies</th>\n",
       "      <th>TotalDelinquencies</th>\n",
       "      <th>DebtToIncomeRatio</th>\n",
       "      <th>StatedMonthlyIncome</th>\n",
       "      <th>LoanOriginalAmount</th>\n",
       "      <th>MonthlyLoanPayment</th>\n",
       "      <th>CreditScore</th>\n",
       "    </tr>\n",
       "  </thead>\n",
       "  <tbody>\n",
       "    <tr>\n",
       "      <th>count</th>\n",
       "      <td>54485.000000</td>\n",
       "      <td>54485.000000</td>\n",
       "      <td>54379.000000</td>\n",
       "      <td>54485.000000</td>\n",
       "      <td>54485.000000</td>\n",
       "      <td>54379.000000</td>\n",
       "      <td>54086.000000</td>\n",
       "      <td>50262.000000</td>\n",
       "      <td>54485.000000</td>\n",
       "      <td>54485.000000</td>\n",
       "      <td>54485.000000</td>\n",
       "      <td>54485.000000</td>\n",
       "    </tr>\n",
       "    <tr>\n",
       "      <th>mean</th>\n",
       "      <td>0.222646</td>\n",
       "      <td>0.200789</td>\n",
       "      <td>25.274977</td>\n",
       "      <td>6.143104</td>\n",
       "      <td>328.796550</td>\n",
       "      <td>0.906563</td>\n",
       "      <td>4.572385</td>\n",
       "      <td>0.291532</td>\n",
       "      <td>5043.489058</td>\n",
       "      <td>6274.071983</td>\n",
       "      <td>224.260224</td>\n",
       "      <td>681.235340</td>\n",
       "    </tr>\n",
       "    <tr>\n",
       "      <th>std</th>\n",
       "      <td>0.088089</td>\n",
       "      <td>0.081165</td>\n",
       "      <td>14.268204</td>\n",
       "      <td>4.508924</td>\n",
       "      <td>450.006566</td>\n",
       "      <td>2.596514</td>\n",
       "      <td>10.690307</td>\n",
       "      <td>0.740366</td>\n",
       "      <td>5713.731383</td>\n",
       "      <td>5225.328950</td>\n",
       "      <td>186.029469</td>\n",
       "      <td>81.917545</td>\n",
       "    </tr>\n",
       "    <tr>\n",
       "      <th>min</th>\n",
       "      <td>0.006530</td>\n",
       "      <td>0.000000</td>\n",
       "      <td>2.000000</td>\n",
       "      <td>0.000000</td>\n",
       "      <td>0.000000</td>\n",
       "      <td>0.000000</td>\n",
       "      <td>0.000000</td>\n",
       "      <td>0.000000</td>\n",
       "      <td>0.000000</td>\n",
       "      <td>1000.000000</td>\n",
       "      <td>0.000000</td>\n",
       "      <td>9.500000</td>\n",
       "    </tr>\n",
       "    <tr>\n",
       "      <th>25%</th>\n",
       "      <td>0.149900</td>\n",
       "      <td>0.135000</td>\n",
       "      <td>15.000000</td>\n",
       "      <td>3.000000</td>\n",
       "      <td>63.000000</td>\n",
       "      <td>0.000000</td>\n",
       "      <td>0.000000</td>\n",
       "      <td>0.130000</td>\n",
       "      <td>2804.166667</td>\n",
       "      <td>2600.000000</td>\n",
       "      <td>98.690000</td>\n",
       "      <td>649.500000</td>\n",
       "    </tr>\n",
       "    <tr>\n",
       "      <th>50%</th>\n",
       "      <td>0.214800</td>\n",
       "      <td>0.194900</td>\n",
       "      <td>23.000000</td>\n",
       "      <td>5.000000</td>\n",
       "      <td>186.000000</td>\n",
       "      <td>0.000000</td>\n",
       "      <td>0.000000</td>\n",
       "      <td>0.200000</td>\n",
       "      <td>4166.666667</td>\n",
       "      <td>4500.000000</td>\n",
       "      <td>172.760000</td>\n",
       "      <td>689.500000</td>\n",
       "    </tr>\n",
       "    <tr>\n",
       "      <th>75%</th>\n",
       "      <td>0.295250</td>\n",
       "      <td>0.269900</td>\n",
       "      <td>33.000000</td>\n",
       "      <td>8.000000</td>\n",
       "      <td>422.000000</td>\n",
       "      <td>1.000000</td>\n",
       "      <td>4.000000</td>\n",
       "      <td>0.300000</td>\n",
       "      <td>6250.000000</td>\n",
       "      <td>8000.000000</td>\n",
       "      <td>301.030000</td>\n",
       "      <td>729.500000</td>\n",
       "    </tr>\n",
       "    <tr>\n",
       "      <th>max</th>\n",
       "      <td>0.423950</td>\n",
       "      <td>0.360000</td>\n",
       "      <td>136.000000</td>\n",
       "      <td>51.000000</td>\n",
       "      <td>14985.000000</td>\n",
       "      <td>83.000000</td>\n",
       "      <td>99.000000</td>\n",
       "      <td>10.010000</td>\n",
       "      <td>618547.833333</td>\n",
       "      <td>35000.000000</td>\n",
       "      <td>2251.510000</td>\n",
       "      <td>889.500000</td>\n",
       "    </tr>\n",
       "  </tbody>\n",
       "</table>\n",
       "</div>"
      ],
      "text/plain": [
       "        BorrowerAPR  BorrowerRate  TotalCreditLines  OpenRevolvingAccounts  \\\n",
       "count  54485.000000  54485.000000      54379.000000           54485.000000   \n",
       "mean       0.222646      0.200789         25.274977               6.143104   \n",
       "std        0.088089      0.081165         14.268204               4.508924   \n",
       "min        0.006530      0.000000          2.000000               0.000000   \n",
       "25%        0.149900      0.135000         15.000000               3.000000   \n",
       "50%        0.214800      0.194900         23.000000               5.000000   \n",
       "75%        0.295250      0.269900         33.000000               8.000000   \n",
       "max        0.423950      0.360000        136.000000              51.000000   \n",
       "\n",
       "       OpenRevolvingMonthlyPayment  CurrentDelinquencies  TotalDelinquencies  \\\n",
       "count                 54485.000000          54379.000000        54086.000000   \n",
       "mean                    328.796550              0.906563            4.572385   \n",
       "std                     450.006566              2.596514           10.690307   \n",
       "min                       0.000000              0.000000            0.000000   \n",
       "25%                      63.000000              0.000000            0.000000   \n",
       "50%                     186.000000              0.000000            0.000000   \n",
       "75%                     422.000000              1.000000            4.000000   \n",
       "max                   14985.000000             83.000000           99.000000   \n",
       "\n",
       "       DebtToIncomeRatio  StatedMonthlyIncome  LoanOriginalAmount  \\\n",
       "count       50262.000000         54485.000000        54485.000000   \n",
       "mean            0.291532          5043.489058         6274.071983   \n",
       "std             0.740366          5713.731383         5225.328950   \n",
       "min             0.000000             0.000000         1000.000000   \n",
       "25%             0.130000          2804.166667         2600.000000   \n",
       "50%             0.200000          4166.666667         4500.000000   \n",
       "75%             0.300000          6250.000000         8000.000000   \n",
       "max            10.010000        618547.833333        35000.000000   \n",
       "\n",
       "       MonthlyLoanPayment   CreditScore  \n",
       "count        54485.000000  54485.000000  \n",
       "mean           224.260224    681.235340  \n",
       "std            186.029469     81.917545  \n",
       "min              0.000000      9.500000  \n",
       "25%             98.690000    649.500000  \n",
       "50%            172.760000    689.500000  \n",
       "75%            301.030000    729.500000  \n",
       "max           2251.510000    889.500000  "
      ]
     },
     "execution_count": 26,
     "metadata": {},
     "output_type": "execute_result"
    }
   ],
   "source": [
    "loans.describe()"
   ]
  },
  {
   "cell_type": "markdown",
   "metadata": {},
   "source": [
    "## Univariate Exploration\n",
    "\n",
    "> In this section, investigate distributions of individual variables. If\n",
    "you see unusual points or outliers, take a deeper look to clean things up\n",
    "and prepare yourself to look at relationships between variables."
   ]
  },
  {
   "cell_type": "markdown",
   "metadata": {},
   "source": [
    "I'll start by looking at the main variable of interest - the Loan Outcome Status"
   ]
  },
  {
   "cell_type": "code",
   "execution_count": 27,
   "metadata": {},
   "outputs": [
    {
     "data": {
      "image/png": "[encoded data removed]",
      "text/plain": [
       "<matplotlib.figure.Figure at 0x1963eec8a58>"
      ]
     },
     "metadata": {
      "needs_background": "light"
     },
     "output_type": "display_data"
    }
   ],
   "source": [
    "# Plot LoanCompleted column as %\n",
    "base_color = sb.color_palette()[0]\n",
    "n_points = loans.shape[0]\n",
    "max_count = loans['LoanCompleted'].value_counts().max()\n",
    "max_prop = max_count / n_points\n",
    "tick_props = np.arange(0, max_prop, 0.05)\n",
    "tick_names = ['{:0.2f}'.format(v) for v in tick_props]\n",
    "sb.countplot(data = loans, x = 'LoanCompleted', color = base_color)\n",
    "plt.yticks(tick_props * n_points, tick_names)\n",
    "plt.ylabel('proportion')\n",
    "plt.xlabel('Loan Completion')\n",
    "plt.title('Completion status of non-current loans as proportions');"
   ]
  },
  {
   "cell_type": "markdown",
   "metadata": {},
   "source": [
    "We can see that close to 70% of the loans in the extracted data were completed and 30% were not completed (not paid off).\n",
    "\n",
    "I'd like to check the distribution of some of the categorical variables next."
   ]
  },
  {
   "cell_type": "code",
   "execution_count": 28,
   "metadata": {},
   "outputs": [
    {
     "data": {
      "image/png": "[encoded data removed]",
      "text/plain": [
       "<matplotlib.figure.Figure at 0x196441734e0>"
      ]
     },
     "metadata": {
      "needs_background": "light"
     },
     "output_type": "display_data"
    }
   ],
   "source": [
    "# Plot EmploymentStatus column\n",
    "cat_order = loans['EmploymentStatus'].value_counts().index\n",
    "sb.countplot(data = loans, x = 'EmploymentStatus', color = base_color, order=cat_order)\n",
    "plt.xlabel('Employment Status')\n",
    "plt.xticks(rotation=45, horizontalalignment='right')\n",
    "plt.title('Employment status');"
   ]
  },
  {
   "cell_type": "markdown",
   "metadata": {},
   "source": [
    "We can see that most borrowers were involved in some form of employment, however, there was a large proportion that the employment status was unknown. The 'Employed' category is only of use if we group categories as either 'Employed' or 'Unemployed'. Given that most borrowers fall into the grouped Employed and Not available categories, we may not see much of an impact of employment status on the Loan Outcome Status. This is due to the relatively small sample size of unemployed categories."
   ]
  },
  {
   "cell_type": "code",
   "execution_count": 29,
   "metadata": {},
   "outputs": [
    {
     "data": {
      "image/png": "[encoded data removed]",
      "text/plain": [
       "<matplotlib.figure.Figure at 0x1963ed4c780>"
      ]
     },
     "metadata": {
      "needs_background": "light"
     },
     "output_type": "display_data"
    }
   ],
   "source": [
    "# Plot HomeOwnership column as %\n",
    "n_points = loans.shape[0]\n",
    "max_count = loans['HomeOwner'].value_counts().max()\n",
    "max_prop = max_count / n_points\n",
    "tick_props = np.arange(0, max_prop, 0.05)\n",
    "tick_names = ['{:0.2f}'.format(v) for v in tick_props]\n",
    "sb.countplot(data = loans, x = 'HomeOwner', color = base_color)\n",
    "plt.yticks(tick_props * n_points, tick_names)\n",
    "plt.ylabel('proportion')\n",
    "plt.xlabel('Home Ownership')\n",
    "plt.xticks([0, 1], ['Not owned', 'Owned'])\n",
    "plt.title('Proportion of home ownership');"
   ]
  },
  {
   "cell_type": "markdown",
   "metadata": {},
   "source": [
    "Home ownership is split pretty evenly across the data."
   ]
  },
  {
   "cell_type": "code",
   "execution_count": 30,
   "metadata": {},
   "outputs": [
    {
     "data": {
      "image/png": "[encoded data removed]",
      "text/plain": [
       "<matplotlib.figure.Figure at 0x1964bc146a0>"
      ]
     },
     "metadata": {
      "needs_background": "light"
     },
     "output_type": "display_data"
    }
   ],
   "source": [
    "# Plot ListingCategory column as %\n",
    "plt.figure(figsize=[15,6])\n",
    "n_points = loans.shape[0]\n",
    "cat_order = loans['ListingCategory'].value_counts().index\n",
    "max_count = loans['ListingCategory'].value_counts().max()\n",
    "max_prop = max_count / n_points\n",
    "tick_props = np.arange(0, max_prop, 0.05)\n",
    "tick_names = ['{:0.2f}'.format(v) for v in tick_props]\n",
    "sb.countplot(data = loans, x = 'ListingCategory', color = base_color, order = cat_order)\n",
    "plt.yticks(tick_props * n_points, tick_names)\n",
    "plt.ylabel('proportion')\n",
    "plt.xlabel('Listing Category')\n",
    "plt.xticks(rotation = 45, horizontalalignment='right')\n",
    "plt.title('Listing Category Proportions');"
   ]
  },
  {
   "cell_type": "markdown",
   "metadata": {},
   "source": [
    "Over a third of the Listing Categories fall under 'Debt Consolidation'. Another third is 'Not Available' and a large number are also 'Other' which is not very helpful for analysis. These results suggest that Listing Category may not be a very useful feature use in our analysis.\n",
    "\n",
    "Let's see if there are any trends in the Quarter the loans originated."
   ]
  },
  {
   "cell_type": "code",
   "execution_count": 31,
   "metadata": {},
   "outputs": [
    {
     "data": {
      "image/png": "[encoded data removed]",
      "text/plain": [
       "<matplotlib.figure.Figure at 0x19643ce2b00>"
      ]
     },
     "metadata": {
      "needs_background": "light"
     },
     "output_type": "display_data"
    }
   ],
   "source": [
    "# Plot LoanOriginationQuarter column\n",
    "plt.figure(figsize=[15,4])\n",
    "cat_order = ['Q1 2006','Q2 2006','Q3 2006','Q4 2006','Q1 2007','Q2 2007','Q3 2007','Q4 2007','Q1 2008','Q2 2008','Q3 2008',\n",
    "             'Q4 2008','Q1 2009','Q2 2009','Q3 2009','Q4 2009','Q1 2010','Q2 2010','Q3 2010','Q4 2010','Q1 2011','Q2 2011',\n",
    "             'Q3 2011','Q4 2011','Q1 2012','Q2 2012','Q3 2012','Q4 2012','Q1 2013','Q2 2013','Q3 2013','Q4 2013']\n",
    "sb.countplot(data = loans, x = 'LoanOriginationQuarter', color = base_color, order=cat_order)\n",
    "plt.xlabel('Origination Quarter')\n",
    "plt.xticks(rotation=45, horizontalalignment='right')\n",
    "plt.title('Loan Orignation Quarter Proportions');"
   ]
  },
  {
   "cell_type": "markdown",
   "metadata": {},
   "source": [
    "While there is some variation in the number of loans per quarter, most are between 1200 and 2500. Q4 2008 to Q3 2009 have noticeably fewer loans. I will compare the number of loans in this period with the number in the original dataset."
   ]
  },
  {
   "cell_type": "code",
   "execution_count": 32,
   "metadata": {},
   "outputs": [
    {
     "data": {
      "text/plain": [
       "1130"
      ]
     },
     "execution_count": 32,
     "metadata": {},
     "output_type": "execute_result"
    }
   ],
   "source": [
    "low_quarters = (loans['LoanOriginationQuarter'] == 'Q4 2008') |\\\n",
    "    (loans['LoanOriginationQuarter'] == 'Q1 2009') | (loans['LoanOriginationQuarter'] == 'Q2 2009') |\\\n",
    "    (loans['LoanOriginationQuarter'] == 'Q3 2009')\n",
    "low_quarters.sum()"
   ]
  },
  {
   "cell_type": "markdown",
   "metadata": {},
   "source": [
    "Filtering the original dataset in Excel on the above quarters returned the same number of loans (1130). This means that the low number of loans in these quarters is an aspect of the original dataset and has not been caused by the filtering of the data completed in the data wrangling phase."
   ]
  },
  {
   "cell_type": "code",
   "execution_count": 34,
   "metadata": {},
   "outputs": [
    {
     "data": {
      "image/png": "[encoded data removed]",
      "text/plain": [
       "<matplotlib.figure.Figure at 0x19643c364e0>"
      ]
     },
     "metadata": {
      "needs_background": "light"
     },
     "output_type": "display_data"
    }
   ],
   "source": [
    "# Plot LoanOriginalAmount column\n",
    "binsize = 500\n",
    "bins = np.arange(loans['LoanOriginalAmount'].min(), loans['LoanOriginalAmount'].max()+binsize, binsize)\n",
    "\n",
    "plt.figure(figsize=[8, 5])\n",
    "plt.hist(data = loans, x = 'LoanOriginalAmount', bins = bins)\n",
    "plt.xlabel('Loan Amount ($)')\n",
    "plt.ylabel('Number of loans')\n",
    "plt.title('Original loan amounts')\n",
    "plt.show()"
   ]
  },
  {
   "cell_type": "markdown",
   "metadata": {},
   "source": [
    "We can see that most loans are for under \\\\$6000 although there are spikes at \\\\$10000, \\\\$15000, \\\\$20000 and \\\\$25000. This is probably due to people taking out loans that round out to a convenient figure (here at \\\\$5000 intervals).\n",
    "\n",
    "Due to the long tail we can also plot the Original Loan amounts on a log scale."
   ]
  },
  {
   "cell_type": "code",
   "execution_count": 35,
   "metadata": {},
   "outputs": [
    {
     "data": {
      "image/png": "[encoded data removed]",
      "text/plain": [
       "<matplotlib.figure.Figure at 0x1967232e7f0>"
      ]
     },
     "metadata": {
      "needs_background": "light"
     },
     "output_type": "display_data"
    }
   ],
   "source": [
    "log_binsize = 0.05\n",
    "bins = 10 ** np.arange(3, np.log10(loans['LoanOriginalAmount'].max())+log_binsize, log_binsize)\n",
    "\n",
    "plt.figure(figsize=[8, 5])\n",
    "plt.hist(data = loans, x = 'LoanOriginalAmount', bins = bins)\n",
    "plt.xscale('log')\n",
    "plt.xticks([500, 1e3, 2e3, 5e3, 1e4, 2e4], [500, '1k', '2k', '5k', '10k', '20k'])\n",
    "plt.xlabel('Loan Amount ($)')\n",
    "plt.show()"
   ]
  },
  {
   "cell_type": "markdown",
   "metadata": {},
   "source": [
    "The Original Loan Amount has a long tail with most of the amounts being below \\\\$6000 and a few higher amounts, with large spikes at each interval of \\\\$5000. The log of the Original Loan Amount consists if several large spikes at each $1k log Loan Amount."
   ]
  },
  {
   "cell_type": "code",
   "execution_count": 36,
   "metadata": {},
   "outputs": [
    {
     "data": {
      "image/png": "[encoded data removed]",
      "text/plain": [
       "<matplotlib.figure.Figure at 0x196746df7b8>"
      ]
     },
     "metadata": {
      "needs_background": "light"
     },
     "output_type": "display_data"
    }
   ],
   "source": [
    "# Plot MonthlyLoanPayment column\n",
    "binsize = 25\n",
    "bins = np.arange(0, loans['MonthlyLoanPayment'].max()+binsize, binsize)\n",
    "\n",
    "plt.figure(figsize=[8, 5])\n",
    "plt.hist(data = loans, x = 'MonthlyLoanPayment', bins = bins)\n",
    "plt.xlabel('Monthly Loan Payment ($)')\n",
    "plt.ylabel('Number of loans')\n",
    "plt.title('Monthly Loan Payments')\n",
    "plt.show()"
   ]
  },
  {
   "cell_type": "markdown",
   "metadata": {},
   "source": [
    "We can see with the Monthly Loan Payments that they are also heavily right skewed. There is a spike around \\\\$200 per month and most payments are below \\\\$500 per month.\n",
    "\n",
    "We can plot a log scale of Monthly Loan Payments as it shows a long tail."
   ]
  },
  {
   "cell_type": "code",
   "execution_count": 37,
   "metadata": {},
   "outputs": [
    {
     "data": {
      "image/png": "[encoded data removed]",
      "text/plain": [
       "<matplotlib.figure.Figure at 0x196747fbd68>"
      ]
     },
     "metadata": {
      "needs_background": "light"
     },
     "output_type": "display_data"
    }
   ],
   "source": [
    "log_binsize = 0.15\n",
    "bins = 10 ** np.arange(1, np.log10(loans['MonthlyLoanPayment'].max())+log_binsize, log_binsize)\n",
    "\n",
    "plt.figure(figsize=[8, 5])\n",
    "plt.hist(data = loans, x = 'MonthlyLoanPayment', bins = bins)\n",
    "plt.xscale('log')\n",
    "plt.xticks([50, 100, 200, 500, 1000, 2000], [50, 100, 200, 500, '1k', '2k'])\n",
    "plt.xlabel('Monthly Loan Payment ($)')\n",
    "plt.show()"
   ]
  },
  {
   "cell_type": "markdown",
   "metadata": {},
   "source": [
    "The Monthly Loan Payment has a long tail with most of the amounts being below \\\\$500 and a few higher amounts. The log of the Monthly Loan Payment shows a normal distibution with \\\\$200 being the median monthly payment."
   ]
  },
  {
   "cell_type": "code",
   "execution_count": 38,
   "metadata": {},
   "outputs": [
    {
     "data": {
      "image/png": "[encoded data removed]",
      "text/plain": [
       "<matplotlib.figure.Figure at 0x19643d0ccc0>"
      ]
     },
     "metadata": {
      "needs_background": "light"
     },
     "output_type": "display_data"
    }
   ],
   "source": [
    "# Plot CreditScore column\n",
    "binsize = 25\n",
    "bins = np.arange(0, loans['CreditScore'].max()+binsize, binsize)\n",
    "\n",
    "plt.figure(figsize=[8, 5])\n",
    "plt.hist(data = loans, x = 'CreditScore', bins = bins)\n",
    "plt.xlabel('Credit Score')\n",
    "plt.ylabel('Number of loans')\n",
    "plt.title('Distribution of Credit Scores')\n",
    "plt.show()"
   ]
  },
  {
   "cell_type": "markdown",
   "metadata": {},
   "source": [
    "There are some Credit Scores that are close to 0. These outliers can be removed from the analysis."
   ]
  },
  {
   "cell_type": "code",
   "execution_count": 39,
   "metadata": {},
   "outputs": [
    {
     "data": {
      "text/plain": [
       "133"
      ]
     },
     "execution_count": 39,
     "metadata": {},
     "output_type": "execute_result"
    }
   ],
   "source": [
    "# Select borrowers with a credit score of 0\n",
    "zero_score = loans['CreditScore'] < 50\n",
    "zero_score.sum()"
   ]
  },
  {
   "cell_type": "code",
   "execution_count": 40,
   "metadata": {},
   "outputs": [
    {
     "data": {
      "image/png": "[encoded data removed]",
      "text/plain": [
       "<matplotlib.figure.Figure at 0x196748e7c88>"
      ]
     },
     "metadata": {
      "needs_background": "light"
     },
     "output_type": "display_data"
    }
   ],
   "source": [
    "loans = loans.loc[-zero_score,:]\n",
    "\n",
    "# Plot revised CreditScore column\n",
    "binsize = 20\n",
    "bins = np.arange(0, loans['CreditScore'].max()+binsize, binsize)\n",
    "\n",
    "plt.figure(figsize=[8, 5])\n",
    "plt.hist(data = loans, x = 'CreditScore', bins = bins)\n",
    "plt.xlabel('Credit Score')\n",
    "plt.ylabel('Number of loans')\n",
    "plt.title('Distribution of Credit Scores')\n",
    "plt.xlim(400,900)\n",
    "plt.show()"
   ]
  },
  {
   "cell_type": "markdown",
   "metadata": {},
   "source": [
    "With the outlier credit scores removed we see that at the lower scores the data increases in spikes, levels out around 650 and then frops away fairly consistently to reach its max near 900."
   ]
  },
  {
   "cell_type": "code",
   "execution_count": 41,
   "metadata": {},
   "outputs": [
    {
     "data": {
      "image/png": "[encoded data removed]",
      "text/plain": [
       "<matplotlib.figure.Figure at 0x196746f2978>"
      ]
     },
     "metadata": {
      "needs_background": "light"
     },
     "output_type": "display_data"
    }
   ],
   "source": [
    "# Plot BorrowerRate column\n",
    "binsize = 0.01\n",
    "bins = np.arange(0, loans['BorrowerRate'].max()+binsize, binsize)\n",
    "\n",
    "plt.figure(figsize=[8, 5])\n",
    "plt.hist(data = loans, x = 'BorrowerRate', bins = bins)\n",
    "plt.xlabel('Borrower Rate')\n",
    "plt.ylabel('Number of loans')\n",
    "plt.title('Distribution of Borrower Rates')\n",
    "plt.show()"
   ]
  },
  {
   "cell_type": "markdown",
   "metadata": {},
   "source": [
    "The borrower rates are fairly evenly spread between around 0.08 to 0.3 with two spikes after this at around 3.2 and 3.5."
   ]
  },
  {
   "cell_type": "code",
   "execution_count": 46,
   "metadata": {},
   "outputs": [
    {
     "data": {
      "image/png": "[encoded data removed]",
      "text/plain": [
       "<matplotlib.figure.Figure at 0x196765bebe0>"
      ]
     },
     "metadata": {
      "needs_background": "light"
     },
     "output_type": "display_data"
    }
   ],
   "source": [
    "# Plot DebtToIncomeRatio column\n",
    "binsize = 0.05\n",
    "bins = np.arange(0, loans['DebtToIncomeRatio'].max()+binsize, binsize)\n",
    "\n",
    "plt.figure(figsize=[8, 5])\n",
    "plt.hist(data = loans, x = 'DebtToIncomeRatio', bins = bins)\n",
    "plt.xlabel('Debt to Income Ratio')\n",
    "plt.ylabel('Number of loans')\n",
    "plt.title('Distribution of Debt to Income Ratios')\n",
    "plt.show()"
   ]
  },
  {
   "cell_type": "markdown",
   "metadata": {},
   "source": [
    "There are a number of outliers above 10 (the highest allowed ratio) which make the graph difficult to read. I will remove these and plot the graph again."
   ]
  },
  {
   "cell_type": "code",
   "execution_count": 48,
   "metadata": {},
   "outputs": [
    {
     "data": {
      "text/plain": [
       "248"
      ]
     },
     "execution_count": 48,
     "metadata": {},
     "output_type": "execute_result"
    }
   ],
   "source": [
    "outliers = loans['DebtToIncomeRatio'] > 9.5\n",
    "outliers.sum()"
   ]
  },
  {
   "cell_type": "code",
   "execution_count": 66,
   "metadata": {},
   "outputs": [
    {
     "data": {
      "image/png": "[encoded data removed]",
      "text/plain": [
       "<matplotlib.figure.Figure at 0x1967bc5d0b8>"
      ]
     },
     "metadata": {
      "needs_background": "light"
     },
     "output_type": "display_data"
    }
   ],
   "source": [
    "loans = loans.loc[-outliers,:]\n",
    "\n",
    "# Replot DebtToIncomeRatio column\n",
    "binsize = 0.02\n",
    "bins = np.arange(0, loans['DebtToIncomeRatio'].max()+binsize, binsize)\n",
    "\n",
    "plt.figure(figsize=[8, 5])\n",
    "plt.hist(data = loans, x = 'DebtToIncomeRatio', bins = bins)\n",
    "plt.xlabel('Debt to Income Ratio')\n",
    "plt.ylabel('Number of loans')\n",
    "plt.title('Distribution of Debt to Income Ratios')\n",
    "plt.xlim(0,0.75)\n",
    "plt.show()"
   ]
  },
  {
   "cell_type": "markdown",
   "metadata": {},
   "source": [
    "Here we can see that the distribution is skewed to the right with most of the ratios being below 0.5."
   ]
  },
  {
   "cell_type": "code",
   "execution_count": 70,
   "metadata": {},
   "outputs": [
    {
     "data": {
      "image/png": "[encoded data removed]",
      "text/plain": [
       "<matplotlib.figure.Figure at 0x196056b4518>"
      ]
     },
     "metadata": {
      "needs_background": "light"
     },
     "output_type": "display_data"
    }
   ],
   "source": [
    "# Plot StatedMonthlyIncome column\n",
    "binsize = 500\n",
    "bins = np.arange(0, loans['StatedMonthlyIncome'].max()+binsize, binsize)\n",
    "\n",
    "plt.figure(figsize=[8, 5])\n",
    "plt.hist(data = loans, x = 'StatedMonthlyIncome', bins = bins)\n",
    "plt.xlabel('Stated Monthly Income ($)')\n",
    "plt.ylabel('Number of loans')\n",
    "plt.title('Stated Monthly Income Distribution')\n",
    "plt.show()"
   ]
  },
  {
   "cell_type": "markdown",
   "metadata": {},
   "source": [
    "Here we can see again a few outliers have made the graph very difficult to interpret. Let's try removing these outliers."
   ]
  },
  {
   "cell_type": "code",
   "execution_count": 73,
   "metadata": {},
   "outputs": [
    {
     "data": {
      "text/plain": [
       "101"
      ]
     },
     "execution_count": 73,
     "metadata": {},
     "output_type": "execute_result"
    }
   ],
   "source": [
    "income_outliers = loans['StatedMonthlyIncome'] > 30000\n",
    "income_outliers.sum()"
   ]
  },
  {
   "cell_type": "code",
   "execution_count": 74,
   "metadata": {},
   "outputs": [
    {
     "data": {
      "image/png": "[encoded data removed]",
      "text/plain": [
       "<matplotlib.figure.Figure at 0x1960c1fb128>"
      ]
     },
     "metadata": {
      "needs_background": "light"
     },
     "output_type": "display_data"
    }
   ],
   "source": [
    "loans = loans.loc[-income_outliers,:]\n",
    "\n",
    "# Replot the StatedMonthlyIncome graph\n",
    "binsize = 500\n",
    "bins = np.arange(0, loans['StatedMonthlyIncome'].max()+binsize, binsize)\n",
    "\n",
    "plt.figure(figsize=[8, 5])\n",
    "plt.hist(data = loans, x = 'StatedMonthlyIncome', bins = bins)\n",
    "plt.xlabel('Stated Monthly Income ($)')\n",
    "plt.ylabel('Number of loans')\n",
    "plt.title('Stated Monthly Income Distribution')\n",
    "plt.show()"
   ]
  },
  {
   "cell_type": "markdown",
   "metadata": {},
   "source": [
    "The plot now shows a right skew with most of the borrowers earning less than \\\\$100000 per month."
   ]
  },
  {
   "cell_type": "code",
   "execution_count": 90,
   "metadata": {},
   "outputs": [
    {
     "data": {
      "image/png": "[encoded data removed]",
      "text/plain": [
       "<matplotlib.figure.Figure at 0x1960ef8fc88>"
      ]
     },
     "metadata": {
      "needs_background": "light"
     },
     "output_type": "display_data"
    }
   ],
   "source": [
    "log_binsize = 0.08\n",
    "bins = 10 ** np.arange(1, np.log10(loans['StatedMonthlyIncome'].max())+log_binsize, log_binsize)\n",
    "\n",
    "plt.figure(figsize=[8, 5])\n",
    "plt.hist(data = loans, x = 'StatedMonthlyIncome', bins = bins)\n",
    "plt.xscale('log')\n",
    "plt.xticks([500, 1e3, 2e3, 5e3, 1e4, 2e4], [500, '1k', '2k', '5k', '10k', '20k'])\n",
    "plt.xlabel('Stated Monthly Income ($)')\n",
    "plt.xlim(500, 22500)\n",
    "plt.show()"
   ]
  },
  {
   "cell_type": "markdown",
   "metadata": {},
   "source": [
    "With a log transformation the Stated Monthly Income looks normal with the mean being around \\\\$5000."
   ]
  },
  {
   "cell_type": "markdown",
   "metadata": {},
   "source": [
    "### Discuss the distribution(s) of your variable(s) of interest. Were there any unusual points? Did you need to perform any transformations?\n",
    "\n",
    "> Your answer here!\n",
    "\n",
    "### Of the features you investigated, were there any unusual distributions? Did you perform any operations on the data to tidy, adjust, or change the form of the data? If so, why did you do this?\n",
    "\n",
    "> Your answer here!"
   ]
  },
  {
   "cell_type": "markdown",
   "metadata": {},
   "source": [
    "## Bivariate Exploration\n",
    "\n",
    "> In this section, investigate relationships between pairs of variables in your\n",
    "data. Make sure the variables that you cover here have been introduced in some\n",
    "fashion in the previous section (univariate exploration)."
   ]
  },
  {
   "cell_type": "code",
   "execution_count": null,
   "metadata": {},
   "outputs": [],
   "source": []
  },
  {
   "cell_type": "markdown",
   "metadata": {},
   "source": [
    "### Talk about some of the relationships you observed in this part of the investigation. How did the feature(s) of interest vary with other features in the dataset?\n",
    "\n",
    "> Your answer here!\n",
    "\n",
    "### Did you observe any interesting relationships between the other features (not the main feature(s) of interest)?\n",
    "\n",
    "> Your answer here!"
   ]
  },
  {
   "cell_type": "markdown",
   "metadata": {},
   "source": [
    "## Multivariate Exploration\n",
    "\n",
    "> Create plots of three or more variables to investigate your data even\n",
    "further. Make sure that your investigations are justified, and follow from\n",
    "your work in the previous sections."
   ]
  },
  {
   "cell_type": "code",
   "execution_count": null,
   "metadata": {},
   "outputs": [],
   "source": []
  },
  {
   "cell_type": "markdown",
   "metadata": {},
   "source": [
    "### Talk about some of the relationships you observed in this part of the investigation. Were there features that strengthened each other in terms of looking at your feature(s) of interest?\n",
    "\n",
    "> Your answer here!\n",
    "\n",
    "### Were there any interesting or surprising interactions between features?\n",
    "\n",
    "> Your answer here!"
   ]
  },
  {
   "cell_type": "markdown",
   "metadata": {},
   "source": [
    "> At the end of your report, make sure that you export the notebook as an\n",
    "html file from the `File > Download as... > HTML` menu. Make sure you keep\n",
    "track of where the exported file goes, so you can put it in the same folder\n",
    "as this notebook for project submission. Also, make sure you remove all of\n",
    "the quote-formatted guide notes like this one before you finish your report!"
   ]
  },
  {
   "cell_type": "code",
   "execution_count": null,
   "metadata": {},
   "outputs": [],
   "source": []
  }
 ],
 "metadata": {
  "kernelspec": {
   "display_name": "Python 3",
   "language": "python",
   "name": "python3"
  },
  "language_info": {
   "codemirror_mode": {
    "name": "ipython",
    "version": 3
   },
   "file_extension": ".py",
   "mimetype": "text/x-python",
   "name": "python",
   "nbconvert_exporter": "python",
   "pygments_lexer": "ipython3",
   "version": "3.6.8"
  }
 },
 "nbformat": 4,
 "nbformat_minor": 2
}
